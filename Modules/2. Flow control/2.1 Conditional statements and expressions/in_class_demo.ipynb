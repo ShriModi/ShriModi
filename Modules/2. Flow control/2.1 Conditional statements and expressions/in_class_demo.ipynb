{
  "nbformat": 4,
  "nbformat_minor": 0,
  "metadata": {
    "interpreter": {
      "hash": "fd61235da8d855c081cbd5d7c6398e4c179a40a950675235256f7f30499f1124"
    },
    "kernelspec": {
      "display_name": "Python 3.7.4 64-bit ('base': conda)",
      "name": "python3"
    },
    "language_info": {
      "codemirror_mode": {
        "name": "ipython",
        "version": 3
      },
      "file_extension": ".py",
      "mimetype": "text/x-python",
      "name": "python",
      "nbconvert_exporter": "python",
      "pygments_lexer": "ipython3",
      "version": "3.7.4"
    },
    "orig_nbformat": 4,
    "colab": {
      "name": "in_class_demo.ipynb",
      "provenance": [],
      "include_colab_link": true
    }
  },
  "cells": [
    {
      "cell_type": "markdown",
      "metadata": {
        "id": "view-in-github",
        "colab_type": "text"
      },
      "source": [
        "<a href=\"https://colab.research.google.com/github/ShriModi/ShriModi/blob/main/Modules/2.%20Flow%20control/2.1%20Conditional%20statements%20and%20expressions/in_class_demo.ipynb\" target=\"_parent\"><img src=\"https://colab.research.google.com/assets/colab-badge.svg\" alt=\"Open In Colab\"/></a>"
      ]
    },
    {
      "cell_type": "markdown",
      "metadata": {
        "id": "3iNOWqAfnTq6"
      },
      "source": [
        "# Introducing the random Module\n",
        "In python, you have the ability to use code that other people have written to your own advantage. The way to do this is by importing modules, which we will cover in depth in section 5. In this section, the random module will be especially useful for generating things like random numbers or a computer generated response.\n",
        "\n",
        "We will only be using 2 functions from the random module, which are\n",
        "- randint\n",
        "- choice\n",
        "\n",
        "## randint (random integer)\n",
        "This function is used to pick a random number within a specified range of values. This can be done my doing the following:\n",
        "```python\n",
        "from random import randint\n",
        "number = randint(0, 10) #chooses a random number between 0 and 10\n",
        "```\n",
        "\n",
        "## Choice (among a sequence)\n",
        "This function is used to choose a random element from an iterable data type (usually list or tuple). This can be achieved by doing the following:\n",
        "```python\n",
        "from random import choice\n",
        "name = [\"Harper\", \"Elias\", \"Oliver\", \"Sabrina\"]\n",
        "chosen_name = choice(name) # Chooses a random name from our list of names\n",
        "```\n"
      ]
    },
    {
      "cell_type": "code",
      "metadata": {
        "id": "2EqhOz4HnTq9",
        "colab": {
          "base_uri": "https://localhost:8080/"
        },
        "outputId": "3f40bbc4-116e-44d4-f8eb-b1a54da2be25"
      },
      "source": [
        "#TODO import the choice and randint functions from random\n",
        "from random import choice, randint\n",
        "#TODO create a random number between 5 and 10\n",
        "num = randint(5,10)\n",
        "print(num)\n",
        "#TODO create a list of words\n",
        "words = ['Elias', ' Harper', 'Oliver']\n",
        "word = choice(words)\n",
        "print(word)\n",
        "#TODO check to see if the randomly chosen number is greater than the length of a randomly chosen word\n",
        "var = len(word)\n",
        "print (\"is the word shorter than the number?\")\n",
        "print(var<num), print(var,word,num)"
      ],
      "execution_count": null,
      "outputs": [
        {
          "output_type": "stream",
          "name": "stdout",
          "text": [
            "9\n",
            "Oliver\n",
            "is the word shorter than the number?\n",
            "True\n",
            "6 Oliver 9\n"
          ]
        },
        {
          "output_type": "execute_result",
          "data": {
            "text/plain": [
              "(None, None)"
            ]
          },
          "metadata": {},
          "execution_count": 7
        }
      ]
    },
    {
      "cell_type": "markdown",
      "metadata": {
        "id": "5lA5O6PrnTq_"
      },
      "source": [
        "# What is Flow Control\n",
        "So far, we have been writing simple programs that haven't had much structure. We only execute code in sequential a order and we dont really have control over when certain statements get executed or the ability to do things in iteration. In most cases, you aren't writing code simply to just evaluate values, or check the type of a variable, or perform some type of calculation. Most of the times we want to actually *do* something with your program. This is where *flow control* or *the flow of the program* comes in. \n",
        "\n",
        "**Flow control is what allows for our program to have a useful structure so that more complex tasks can be executed.**\n",
        "\n",
        "Some things that allow us to control the flow of our program are:\n",
        "* Condition statements (choice)\n",
        "* Loop statements (iteration)\n",
        "* Break statements (stopping iterations)\n",
        "* Continue statements (continuing iterations)\n",
        "\n",
        "**In this section, we will be looking at how to use conditional statements and expressions to control the flow of our program.**"
      ]
    },
    {
      "cell_type": "markdown",
      "metadata": {
        "id": "9WETM9aanTrA"
      },
      "source": [
        "\n",
        "\n",
        "\n",
        "\n",
        " # `If` statements\n",
        "An if statement evaluates a condition to either `true` or `false`. If the condition evaluates to `true`, we enter the statement body and execute the code. If the condition evaluates to `false`, we move on. \n",
        "<div align = \"center\">\n",
        "    <img src = \"if-statement.jpg\" width = \"25%\" >\n",
        "</div>\n",
        "\n",
        "**To understand more how this works, we are going to do a quick activity**"
      ]
    },
    {
      "cell_type": "markdown",
      "metadata": {
        "id": "1TNMIo2InTrA"
      },
      "source": [
        "______\n",
        "\n",
        "<h1 style = \"font-size: 40px\" align = \"center\"> Activity </h1>\n",
        "\n",
        "______\n",
        "\n",
        "\n",
        "<div align = \"center\" style = \"color: black\">\n",
        "    <img src = \"hand.gif\" >\n",
        "</div>\n",
        "\n",
        "\n",
        "\n",
        "______\n",
        "\n",
        "<h1 style = \"font-size: 40px\" align = \"center\"> Activity </h1>\n",
        "\n",
        "______\n"
      ]
    },
    {
      "cell_type": "markdown",
      "metadata": {
        "id": "_1lTzSbznTrB"
      },
      "source": [
        "# Lets do the activity in python 👏🏾\n",
        "In the activity, you were tasked with doing certain actions if a condition was met. Now we will do the same thing using code 🤝🏾.\n",
        "\n",
        "*This activity will also introduce you to the concept of **indentation***"
      ]
    },
    {
      "cell_type": "code",
      "metadata": {
        "id": "j9jObeklnTrC",
        "colab": {
          "base_uri": "https://localhost:8080/"
        },
        "outputId": "63e66a33-dc8c-4231-d8f0-63cc9a9f1a00"
      },
      "source": [
        "from random import choice # used to choose a random element (imports will be covered in Module 5)\n",
        "\n",
        "objects = [\"🔵\", \"🟣\", \"🟠\"]\n",
        "obj = choice(objects)\n",
        "obj = choice(objects)\n",
        "\n",
        "if obj == \"🔵\":\n",
        "  print(\"hey\")\n",
        "\n",
        "if obj == \"🟣\":\n",
        "  print(\"clapping\")\n",
        "\n",
        "if obj == \"🟠\":\n",
        "  print(\"waving\")\n",
        "\n",
        "sub = [\"🔵\", \"🟣\", \"🟠\"]\n",
        "the = \"🔵\" in sub\n",
        "print(the)\n",
        "\n",
        "# write 3 separate if statements to check which condition was met"
      ],
      "execution_count": null,
      "outputs": [
        {
          "output_type": "stream",
          "name": "stdout",
          "text": [
            "clapping\n",
            "True\n"
          ]
        }
      ]
    },
    {
      "cell_type": "markdown",
      "metadata": {
        "id": "zowycxofnTrE"
      },
      "source": [
        "**In Python, the body of the if statement is indicated by the indentation. The body starts with an indentation and the first unindented line marks the end.**"
      ]
    },
    {
      "cell_type": "markdown",
      "metadata": {
        "id": "_luXqJzbnTrE"
      },
      "source": [
        "# `Else`: What if the condition is False?\n",
        "The `else` statement is used in conjunction with an `if` statement to run a block of code if the condition is False. Indentation is used to separate the blocks."
      ]
    },
    {
      "cell_type": "code",
      "metadata": {
        "id": "rxkMI2pbnTrF",
        "colab": {
          "base_uri": "https://localhost:8080/"
        },
        "outputId": "afc365e3-3e39-412f-ad02-33b6ed377569"
      },
      "source": [
        "objects = [\"🔵\", \"🟣\", \"🟠\", 'No object']\n",
        "obj = choice(objects)\n",
        "\n",
        "exp = obj == \"🔵\" or obj == \"🟣\" or obj == \"🟠\"\n",
        "\n",
        "if exp:\n",
        "  print(\"the expression was true\", obj)\n",
        "\n",
        "else: \n",
        "  print(\"the expression was false\", obj)"
      ],
      "execution_count": null,
      "outputs": [
        {
          "output_type": "stream",
          "name": "stdout",
          "text": [
            "the expression was true 🟠\n"
          ]
        }
      ]
    },
    {
      "cell_type": "markdown",
      "metadata": {
        "id": "iUOvyYfinTrG"
      },
      "source": [
        "# `Elif`: Testing for multiple expressions\n",
        "In the Example above we tested for a single expression and depending on the result we did one of two things. Either the object was found and we displayed the object, or the object was not found and we showed that it wasn't.\n",
        "\n",
        "Sometimes, we want to check if one of multiple expressions are True instead of just one (similar to the very first example). This is where `elif` comes in.\n",
        "\n",
        "The `elif` statement is short for else if. It allows us to check for multiple expressions. If the condition for `if` is False, it checks the condition of the next `elif` block and so on. If all the conditions are False, the body of else is executed.\n",
        "\n",
        "**In this example we are going to combine the first and second examples together using `elif`**"
      ]
    },
    {
      "cell_type": "code",
      "metadata": {
        "id": "1zFtV8_BnTrH",
        "colab": {
          "base_uri": "https://localhost:8080/"
        },
        "outputId": "449de5cf-3eb5-4b2e-a059-24652de081e9"
      },
      "source": [
        "objects = [\"🔵\", \"🟣\", \"🟠\", 'No object']\n",
        "obj = choice(objects)\n",
        "#TODO: write a series of if statements the print different things based on the object chosen. If no object is chosen, print \"no object in an else block\"\n",
        "\n",
        "\n",
        "if obj == \"🔵\":\n",
        "  print(\"hey\")\n",
        "\n",
        "elif obj == \"🟣\":\n",
        "  print(\"clapping\")\n",
        "\n",
        "elif obj == \"🟠\":\n",
        "  print(\"waving\")\n",
        "\n",
        "else:\n",
        "  print(\"no object was chosen\")\n",
        "\n",
        "sub = [\"🔵\", \"🟣\", \"🟠\"]\n",
        "the = \"🔵\" in sub\n",
        "print(the)\n"
      ],
      "execution_count": null,
      "outputs": [
        {
          "output_type": "stream",
          "name": "stdout",
          "text": [
            "waving\n",
            "True\n"
          ]
        }
      ]
    },
    {
      "cell_type": "markdown",
      "metadata": {
        "id": "yqx4JyoFnTrI"
      },
      "source": [
        "**Note: When testing for multiple conditions, use elif instead of multiple if statements.**"
      ]
    },
    {
      "cell_type": "markdown",
      "metadata": {
        "id": "V-BN57xxnTrI"
      },
      "source": [
        "# Single line if statements (ternary conditional)\n",
        "When writing code there will be some cases when you want to assign a value to a variable if some condition is met. For example, assign the value of `child` to a variable if someones age is less than 18, or assign the value of `adult` if their age is or greater than 18. \n",
        "\n",
        "We can do this in a single line of code using `ternary conditionals`. Ternary conditionals are evaluated left to right and follow this structure:\n",
        "\n",
        "<p style = \"font-family: fira code\"><b>var</b> = <em style = \"color:black\">value_if_true </em> <b style = \"color:purple\">if </b> <em style = \"color:green\">expression </em> <b style = \"color:purple\">else </b> <em style = \"color:black\">value_if_false</em></p>\n",
        "\n",
        "\n",
        "Lets look at how to do this using `if` and `else` statments first, then we will convert it into a single line if statement."
      ]
    },
    {
      "cell_type": "code",
      "metadata": {
        "id": "VogezfignTrJ",
        "colab": {
          "base_uri": "https://localhost:8080/"
        },
        "outputId": "00841e07-3d05-41a6-ab3d-f15a6a5b6db0"
      },
      "source": [
        "age = 18\n",
        "child_or_adult = None\n",
        "#TODO: assign 'child' if the age is less than 18, and 'adult' otherwise.\n",
        "if age < 18:\n",
        "  child_or_adult = \"child\"\n",
        "else:\n",
        "  child_or_adult = \"adult\"\n",
        "print(child_or_adult)"
      ],
      "execution_count": null,
      "outputs": [
        {
          "output_type": "stream",
          "name": "stdout",
          "text": [
            "adult\n"
          ]
        }
      ]
    },
    {
      "cell_type": "code",
      "metadata": {
        "id": "Y-jcLzUUnTrJ",
        "colab": {
          "base_uri": "https://localhost:8080/"
        },
        "outputId": "9c262ba8-db02-41f3-f514-4148454d59de"
      },
      "source": [
        "#TODO: assign child if the age is less than 18, and adult if it is greater than 18, in a single line.\n",
        "age = 76\n",
        "if age < 18:\n",
        "  print(\"child\")\n",
        "\n",
        "elif age > 18 and age < 60:\n",
        "  print(\"adult\")\n",
        "\n",
        "elif age > 60:\n",
        "  print(\"ancient\")\n",
        "\n",
        "\n"
      ],
      "execution_count": null,
      "outputs": [
        {
          "output_type": "stream",
          "name": "stdout",
          "text": [
            "ancient\n"
          ]
        }
      ]
    },
    {
      "cell_type": "code",
      "metadata": {
        "id": "WpZMb8o7aVL9",
        "colab": {
          "base_uri": "https://localhost:8080/",
          "height": 37
        },
        "outputId": "5cd40311-d53c-4890-f214-8702b2550133"
      },
      "source": [
        "age = 15\n",
        "child_or_adult = 'child' if age<18 else 'adult'\n",
        "child_or_adult"
      ],
      "execution_count": null,
      "outputs": [
        {
          "output_type": "execute_result",
          "data": {
            "application/vnd.google.colaboratory.intrinsic+json": {
              "type": "string"
            },
            "text/plain": [
              "'child'"
            ]
          },
          "metadata": {},
          "execution_count": 156
        }
      ]
    },
    {
      "cell_type": "markdown",
      "metadata": {
        "id": "e58NXs2cnTrK"
      },
      "source": [
        "# Nested If statements\n",
        "We can have a `if...elif...else` statement inside another `if...elif...else` statement. This is called nesting in computer programming.\n",
        "\n",
        "Any number of these statements can be nested inside one another. Indentation is the only way to figure out the level of nesting. They can get confusing, so I suggest avoiding them unless necessary.\n"
      ]
    },
    {
      "cell_type": "code",
      "metadata": {
        "id": "LRpPk_VDnTrK",
        "colab": {
          "base_uri": "https://localhost:8080/"
        },
        "outputId": "ef979a11-c884-49a5-d0a5-f6c30550c98d"
      },
      "source": [
        "#TODO: write a nested if statement to check if an inputted value is positive, negative or zero.\n",
        "# if the value is greater than or equal to zero, nest an if statement inside to see if the number is zero or positive and print the result\n",
        "# if the value is less than zero, print negative\n",
        "\n",
        "num = float(input(\"Enter a number: \"))\n",
        "if num > 0:\n",
        "  print(\"positive number\")\n",
        "else:\n",
        "  if num == 0:\n",
        "    print(\"number is 0\")\n"
      ],
      "execution_count": null,
      "outputs": [
        {
          "output_type": "stream",
          "name": "stdout",
          "text": [
            "Enter a number: 3\n",
            "positive number\n"
          ]
        }
      ]
    },
    {
      "cell_type": "markdown",
      "metadata": {
        "id": "E9hxSp68nTrK"
      },
      "source": [
        "# Using if statements and user input\n",
        "Say you are writing a program to ask the user for some input and based on their response, different things can happen. In this example, ask the user for their favorite color and if it is a primary color, print `primary color` and print `non-primary` otherwise."
      ]
    },
    {
      "cell_type": "code",
      "metadata": {
        "id": "zg2xWmrlnTrL",
        "colab": {
          "base_uri": "https://localhost:8080/"
        },
        "outputId": "4642a878-95c3-45ba-c1a3-1a40e1d9e8c4"
      },
      "source": [
        "#TODO\n",
        "primary = [\"red\", \"yellow\", \"blue\"]\n",
        "opt = input(\"enter a color: \")\n",
        "opt = opt.lower()\n",
        "if opt in primary:\n",
        "  print(\"primary color\")\n",
        "else:\n",
        "  print(\"non primary color\")\n",
        "\n"
      ],
      "execution_count": null,
      "outputs": [
        {
          "output_type": "stream",
          "name": "stdout",
          "text": [
            "enter a color: RED\n",
            "primary color\n"
          ]
        }
      ]
    },
    {
      "cell_type": "markdown",
      "metadata": {
        "id": "4TjFkJt4nTrL"
      },
      "source": [
        "# Using if statements and logical operators \n",
        "If statements are very useful especially when working with problems that involve logic. In this example we will check whether certain logical conditions are met, and will perform different actions based on what's chosen.\n",
        "\n",
        "- you are asked to input a number\n",
        "- if the number is even and it is less than 50 and divisible by 5, print `\"This even number is a multiple of 5\"`\n",
        "- if the number is odd and it is less than 30 and it is divisible by 3, print `\"This odd number is a multiple of 3\"`\n",
        "- if the number is even and it is less than 20, print `\"This even number is less than 20\"`\n",
        "- if the number is odd and it is greater than 20, print `\"This odd number is greater than 20\"`\n",
        "- if none of these conditions are met, print `\"No condition has been met\"`\n"
      ]
    },
    {
      "cell_type": "code",
      "metadata": {
        "id": "QFelwwFDnTrL",
        "outputId": "511c9966-e810-4aa2-a381-a69d91d7658c",
        "colab": {
          "base_uri": "https://localhost:8080/"
        }
      },
      "source": [
        "number = int(input(\"gimme a number: \"))\n",
        "\n",
        "if number % 2 == 0:\n",
        "  if number < 50 and number % 5 == 0:\n",
        "    print(\"This even number is a multiple of 5\")\n",
        "  elif number < 20:\n",
        "    print(\"this even number is less than 20\")\n",
        "  else:\n",
        "    print(\"No conditions\")\n",
        "\n",
        "elif number % 2 != 0:\n",
        "  if number < 30 and number % 3 == 0:\n",
        "    print(\"This odd number is a multiple of 3\")\n",
        "  elif number > 20:\n",
        "    print(\"this odd number is greater than 20\")\n",
        "  else:\n",
        "   print(\"No condition met\")"
      ],
      "execution_count": 24,
      "outputs": [
        {
          "output_type": "stream",
          "name": "stdout",
          "text": [
            "gimme a number: 1\n",
            "No condition met\n"
          ]
        }
      ]
    },
    {
      "cell_type": "markdown",
      "metadata": {
        "id": "aPGjA1CpnTrM"
      },
      "source": [
        "# Writing Effective Algorithms with Pseudo-code\n",
        "Pseudo-code is basically code that a computer wont understand but a human will. Pseudo-code is an outline of an algorithm that you want to implement in code, without having to worry about the syntax. As we move on in this course we will be writing more and more complicated code and it will be useful to have an understanding of what it is you want to do before you do it. \n",
        "\n",
        "I will give you an example of how to do this by solving the following problem. \n",
        "\n",
        "**A list of 6 random numbers between 1 and 10 is generated and I want to figure out if any of them are equal to the length of a word given by the user.**\n",
        "\n",
        "Pseudo-code to solve this:\n",
        "1. I want to assign the random numbers to a variable\n",
        "2. I want to have the user input a word and save that in a variable\n",
        "3. I want to calculate the length of the word that the user inputs and save the value in a variable\n",
        "4. I want to check if the length of the word is *present* in the list of numbers\n",
        "5. If the length of the word is *present* in the list of numbers\n",
        "    - I want to print \"Is present\"\n",
        "6. If the length of the word is not *present* in the list of numbers\n",
        "    - I want to print \"Not present\"\n"
      ]
    },
    {
      "cell_type": "code",
      "metadata": {
        "id": "O4rkWvFlnTrM"
      },
      "source": [
        "from random import randint\n",
        "\n",
        "def generate_list_of_numbers():\n",
        "    numbers = [randint(1, 10) for _ in range(6)]\n",
        "    return numbers\n",
        "\n",
        "print(generate_list_of_numbers())"
      ],
      "execution_count": null,
      "outputs": []
    },
    {
      "cell_type": "code",
      "metadata": {
        "id": "wHiqlJ1ynTrN"
      },
      "source": [
        "#TODO: Code implementation\n",
        "numbers = generate_list_of_numbers()\n"
      ],
      "execution_count": null,
      "outputs": []
    }
  ]
}