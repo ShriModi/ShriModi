{
  "nbformat": 4,
  "nbformat_minor": 0,
  "metadata": {
    "interpreter": {
      "hash": "fd61235da8d855c081cbd5d7c6398e4c179a40a950675235256f7f30499f1124"
    },
    "kernelspec": {
      "display_name": "Python 3.7.4 64-bit ('base': conda)",
      "name": "python3"
    },
    "language_info": {
      "codemirror_mode": {
        "name": "ipython",
        "version": 3
      },
      "file_extension": ".py",
      "mimetype": "text/x-python",
      "name": "python",
      "nbconvert_exporter": "python",
      "pygments_lexer": "ipython3",
      "version": "3.9.7"
    },
    "orig_nbformat": 4,
    "colab": {
      "name": "in_class_demo part1.ipynb",
      "provenance": [],
      "include_colab_link": true
    }
  },
  "cells": [
    {
      "cell_type": "markdown",
      "metadata": {
        "id": "view-in-github",
        "colab_type": "text"
      },
      "source": [
        "<a href=\"https://colab.research.google.com/github/ShriModi/ShriModi/blob/main/3.%20Data%20structures%20and%20Methods/3.2%20Dictionaries/in_class_demo%20part1.ipynb\" target=\"_parent\"><img src=\"https://colab.research.google.com/assets/colab-badge.svg\" alt=\"Open In Colab\"/></a>"
      ]
    },
    {
      "cell_type": "markdown",
      "metadata": {
        "id": "q3lb6seWeeDr"
      },
      "source": [
        "# Dictionaries\n",
        "\n",
        "You can think of a dictionary as a mapping between a set of keys and a set of values. Each key maps to a value. The association of a key and a value is called a **key:value** pair or sometimes an item.\n",
        "--\n",
        "\n",
        "**As an example, we’ll build a dictionary that stores employee record.**\n",
        "--\n",
        "\n",
        "<img src = \"imgs/dict.png\">\n"
      ]
    },
    {
      "cell_type": "markdown",
      "metadata": {
        "id": "KxVMca_4eeDt"
      },
      "source": [
        "# Creating Dictionaries\n",
        "You can create a dictionary by placing a comma-separated list of `key:value` pairs in curly braces `{}`. Each key is separated from its associated value by a colon `:`\n",
        "--\n",
        "\n",
        "```python\n",
        "dictionary = {'key': 'value',\n",
        "              'key2': 'value2'}\n",
        "```\n",
        "\n",
        ">Think about a dictionary in python as being like an actual dictionary, or phone book. All of the words in a dictionary are unique yet two unique words may share similar definitions"
      ]
    },
    {
      "cell_type": "code",
      "metadata": {
        "id": "4hGUnDY1eeDt",
        "colab": {
          "base_uri": "https://localhost:8080/"
        },
        "outputId": "8e26b82c-38c4-4282-9f01-cd1b2c11cd94"
      },
      "source": [
        "#TODO: Build the dictionary that stores employee records\n",
        "employees = { 'name': 'Harper',\n",
        "              'age': 21,\n",
        "              'job': 'hobo',\n",
        "              'address': 'you already know'}\n",
        "employees\n"
      ],
      "execution_count": 7,
      "outputs": [
        {
          "output_type": "execute_result",
          "data": {
            "text/plain": [
              "{'address': 'you already know', 'age': 21, 'job': 'hobo', 'name': 'Harper'}"
            ]
          },
          "metadata": {},
          "execution_count": 7
        }
      ]
    },
    {
      "cell_type": "markdown",
      "metadata": {
        "id": "y5IMoxNfeeDu"
      },
      "source": [
        "# Properties of a Dictionary\n",
        "----------\n",
        "\n",
        "## **Keys must be unique:**\n",
        "A key can appear in a dictionary only once.\n",
        "---\n",
        "\n",
        "**if you specify a key more than once during the creation of a dictionary, the last value for that key becomes the associated value.**\n"
      ]
    },
    {
      "cell_type": "code",
      "metadata": {
        "id": "Emrdm7_GeeDu",
        "colab": {
          "base_uri": "https://localhost:8080/"
        },
        "outputId": "1c385f64-3b10-4a3a-d264-33727ff5b4df"
      },
      "source": [
        "#TODO: Create a dictionary with some of the keys being identical\n",
        "animals = {'cat': 'evil', 'dog':'dumb', 'cat': 'still evil'}\n",
        "animals"
      ],
      "execution_count": 9,
      "outputs": [
        {
          "output_type": "execute_result",
          "data": {
            "text/plain": [
              "{'cat': 'still evil', 'dog': 'dumb'}"
            ]
          },
          "metadata": {},
          "execution_count": 9
        }
      ]
    },
    {
      "cell_type": "markdown",
      "metadata": {
        "id": "C7BmPsxQeeDu"
      },
      "source": [
        "## **Keys must be immutable:**\n",
        "> *Remember, immutable types can't change.* \n",
        "\n",
        "You can create a key in a dictionary using any immutable data type – such as *numbers, strings, booleans or tuples.*\n",
        "--"
      ]
    },
    {
      "cell_type": "code",
      "metadata": {
        "id": "foq2fR9ueeDv",
        "colab": {
          "base_uri": "https://localhost:8080/",
          "height": 35
        },
        "outputId": "ff1a6862-3f5f-4ad2-a42f-0b7f21c59856"
      },
      "source": [
        "#TODO Create a dictionary with the key data types -> number, string, tuple\n",
        "data = {\n",
        "    'int': 90,\n",
        "    'string': 'the',\n",
        "    8.25 : 'float'\n",
        "}\n",
        "\n",
        "data[(8.25)]"
      ],
      "execution_count": 18,
      "outputs": [
        {
          "output_type": "execute_result",
          "data": {
            "application/vnd.google.colaboratory.intrinsic+json": {
              "type": "string"
            },
            "text/plain": [
              "'float'"
            ]
          },
          "metadata": {},
          "execution_count": 18
        }
      ]
    },
    {
      "cell_type": "code",
      "metadata": {
        "id": "0K4onEOkeeDv",
        "colab": {
          "base_uri": "https://localhost:8080/",
          "height": 201
        },
        "outputId": "f20f24ef-a490-4097-8987-b19ec9f9ba41"
      },
      "source": [
        "#TODO Show what happens when a key is created with a mutable type, such as a list\n",
        "data = {\n",
        "    (1,2,3,4): \"this is a list\"\n",
        "}\n",
        "\n",
        "\n",
        "data['this is a list']"
      ],
      "execution_count": 28,
      "outputs": [
        {
          "output_type": "error",
          "ename": "KeyError",
          "evalue": "ignored",
          "traceback": [
            "\u001b[0;31m---------------------------------------------------------------------------\u001b[0m",
            "\u001b[0;31mKeyError\u001b[0m                                  Traceback (most recent call last)",
            "\u001b[0;32m<ipython-input-28-718d59b242d2>\u001b[0m in \u001b[0;36m<module>\u001b[0;34m()\u001b[0m\n\u001b[1;32m      5\u001b[0m \u001b[0;34m\u001b[0m\u001b[0m\n\u001b[1;32m      6\u001b[0m \u001b[0;34m\u001b[0m\u001b[0m\n\u001b[0;32m----> 7\u001b[0;31m \u001b[0mdata\u001b[0m\u001b[0;34m[\u001b[0m\u001b[0;34m'this is a list'\u001b[0m\u001b[0;34m]\u001b[0m\u001b[0;34m\u001b[0m\u001b[0;34m\u001b[0m\u001b[0m\n\u001b[0m",
            "\u001b[0;31mKeyError\u001b[0m: 'this is a list'"
          ]
        }
      ]
    },
    {
      "cell_type": "markdown",
      "metadata": {
        "id": "jOd4QG_xeeDv"
      },
      "source": [
        "## **Value can be of any type:**\n",
        "There are no restrictions on dictionary values. A dictionary value can be any type of object and can appear in a dictionary multiple times.\n",
        "--"
      ]
    },
    {
      "cell_type": "code",
      "metadata": {
        "id": "wQSpG6Z9eeDw",
        "colab": {
          "base_uri": "https://localhost:8080/"
        },
        "outputId": "9f66ba77-341e-4bdf-e264-7596c791e417"
      },
      "source": [
        "#TODO Create dictionary values of types -> string, list, tuple\n",
        "data = {\n",
        "    'string': 'hello I am a string',\n",
        "    'list': [54,23,22,100],\n",
        "    'tuple': (1,2,3,4,5)\n",
        "}\n",
        "\n",
        "data"
      ],
      "execution_count": 27,
      "outputs": [
        {
          "output_type": "execute_result",
          "data": {
            "text/plain": [
              "{'list': [54, 23, 22, 100],\n",
              " 'string': 'hello I am a string',\n",
              " 'tuple': (1, 2, 3, 4, 5)}"
            ]
          },
          "metadata": {},
          "execution_count": 27
        }
      ]
    },
    {
      "cell_type": "code",
      "metadata": {
        "id": "R7z0wAvLeeDw",
        "colab": {
          "base_uri": "https://localhost:8080/"
        },
        "outputId": "b9d09d4f-8ef2-4ea1-eedf-0abdfdc76662"
      },
      "source": [
        "#TODO Create a dictionary with all identical values\n",
        "data = {\n",
        "    'name': None,\n",
        "    'age': None,\n",
        "    'position': None\n",
        "}\n",
        "\n",
        "data"
      ],
      "execution_count": 31,
      "outputs": [
        {
          "output_type": "execute_result",
          "data": {
            "text/plain": [
              "{'age': None, 'name': None, 'position': None}"
            ]
          },
          "metadata": {},
          "execution_count": 31
        }
      ]
    },
    {
      "cell_type": "markdown",
      "metadata": {
        "id": "2f_prb8deeDw"
      },
      "source": [
        "# Accessing Dictionary Items\n",
        "-----\n",
        "Unlike lists or tuples, the items of a dictionary are not indexed with integer indices. Instead, you use the keys to access the corresponding values.\n",
        "--\n",
        "\n",
        "***You can fetch a value from a dictionary by referring to its key in square brackets [].***\n",
        "\n",
        "```python\n",
        "D = {'name': 'Bob',\n",
        "     'age': 25,\n",
        "     'job': 'Dev'}\n",
        "\n",
        "print(D['name'])\n",
        "# Prints Bob\n",
        "```"
      ]
    },
    {
      "cell_type": "code",
      "metadata": {
        "id": "RoT2GskMeeDw",
        "colab": {
          "base_uri": "https://localhost:8080/"
        },
        "outputId": "5207283b-0685-4bea-e133-aab248f712f5"
      },
      "source": [
        "#TODO print the name and age from the dictionary\n",
        "var = {'name': 'Gabe',\n",
        "       'age': 22,\n",
        "       'job': 'Dev',\n",
        "       'city': 'Minneapolis',\n",
        "       'email': 'Gabe@lituation.com'}\n",
        "\n",
        "\n",
        "print(var['city'])"
      ],
      "execution_count": 38,
      "outputs": [
        {
          "output_type": "stream",
          "name": "stdout",
          "text": [
            "Minneapolis\n"
          ]
        }
      ]
    },
    {
      "cell_type": "code",
      "metadata": {
        "id": "iWjkk3_HeeDx",
        "colab": {
          "base_uri": "https://localhost:8080/",
          "height": 218
        },
        "outputId": "58ea6473-0efb-4ebf-91a1-a0fde033863e"
      },
      "source": [
        "#TODO print the first and last dictionary values\n",
        "var = {\n",
        "    101: \"Intro to python\",\n",
        "    \"location\": \"Washburn\",\n",
        "    \"Currently teaching\": True,\n",
        "    (3.15, 5.30): \"time\"\n",
        "}\n",
        "\n",
        "print(var[101],var[(3.15, 5.3)])\n"
      ],
      "execution_count": 48,
      "outputs": [
        {
          "output_type": "stream",
          "name": "stdout",
          "text": [
            "Intro to python time\n"
          ]
        },
        {
          "output_type": "error",
          "ename": "NameError",
          "evalue": "ignored",
          "traceback": [
            "\u001b[0;31m---------------------------------------------------------------------------\u001b[0m",
            "\u001b[0;31mNameError\u001b[0m                                 Traceback (most recent call last)",
            "\u001b[0;32m<ipython-input-48-9fccf6d5929d>\u001b[0m in \u001b[0;36m<module>\u001b[0;34m()\u001b[0m\n\u001b[1;32m      8\u001b[0m \u001b[0;34m\u001b[0m\u001b[0m\n\u001b[1;32m      9\u001b[0m \u001b[0mprint\u001b[0m\u001b[0;34m(\u001b[0m\u001b[0mvar\u001b[0m\u001b[0;34m[\u001b[0m\u001b[0;36m101\u001b[0m\u001b[0;34m]\u001b[0m\u001b[0;34m,\u001b[0m\u001b[0mvar\u001b[0m\u001b[0;34m[\u001b[0m\u001b[0;34m(\u001b[0m\u001b[0;36m3.15\u001b[0m\u001b[0;34m,\u001b[0m \u001b[0;36m5.3\u001b[0m\u001b[0;34m)\u001b[0m\u001b[0;34m]\u001b[0m\u001b[0;34m)\u001b[0m\u001b[0;34m\u001b[0m\u001b[0;34m\u001b[0m\u001b[0m\n\u001b[0;32m---> 10\u001b[0;31m \u001b[0mvar\u001b[0m\u001b[0;34m[\u001b[0m\u001b[0mlocation\u001b[0m\u001b[0;34m]\u001b[0m\u001b[0;34m\u001b[0m\u001b[0;34m\u001b[0m\u001b[0m\n\u001b[0m",
            "\u001b[0;31mNameError\u001b[0m: name 'location' is not defined"
          ]
        }
      ]
    },
    {
      "cell_type": "markdown",
      "metadata": {
        "id": "M-jUQfgxeeDx"
      },
      "source": [
        "If you refer to a key that is not in the dictionary, you’ll get an error. To avoid such exception, you can use the special dictionary `get()` method. This method returns the value for key if key is in the dictionary, else None, so that this method never raises an error.\n",
        "--\n",
        "\n"
      ]
    },
    {
      "cell_type": "code",
      "metadata": {
        "id": "fqii6i00eeDx"
      },
      "source": [
        "#TODO Try an access a key that is not in the dictionary\n",
        "var = {\n",
        "    \"Snapchat\": \"Photo messaging\",\n",
        "    \"Instagram\": \"Photo and video\",\n",
        "    \"Twitter\": \"MicroBlogging\"\n",
        "}\n"
      ],
      "execution_count": 51,
      "outputs": []
    },
    {
      "cell_type": "code",
      "metadata": {
        "id": "N7W3vblLeeDx"
      },
      "source": [
        "#TODO Try an access a key that is not in the dictionary using the get method\n",
        "var.get('Facebook')"
      ],
      "execution_count": null,
      "outputs": []
    },
    {
      "cell_type": "code",
      "metadata": {
        "id": "qtD6W6wVeeDx",
        "colab": {
          "base_uri": "https://localhost:8080/",
          "height": 35
        },
        "outputId": "6687e838-a557-46b7-977a-f1147a06fca1"
      },
      "source": [
        "#TODO: Set a default value for when a key is not found\n",
        "key = \"Facebook\"\n",
        "default = f\"{key} was not found in dictionary\"\n",
        "\n",
        "var.get(key,default)"
      ],
      "execution_count": 54,
      "outputs": [
        {
          "output_type": "execute_result",
          "data": {
            "application/vnd.google.colaboratory.intrinsic+json": {
              "type": "string"
            },
            "text/plain": [
              "'Facebook was not found in dictionary'"
            ]
          },
          "metadata": {},
          "execution_count": 54
        }
      ]
    },
    {
      "cell_type": "markdown",
      "metadata": {
        "id": "2FNVGRlreeDx"
      },
      "source": [
        "# Adding/Updating dictionary values\n",
        "-----\n",
        "Adding or updating dictionary values is easy. Just refer to the item by its key and assign a value. If the key is already present in the dictionary, its value is replaced by the new one.\n",
        "--\n",
        "\n"
      ]
    },
    {
      "cell_type": "code",
      "metadata": {
        "id": "_BAgpkIieeDy",
        "colab": {
          "base_uri": "https://localhost:8080/"
        },
        "outputId": "8dcd98b3-0a21-4ca8-f7a9-1758a9e072f8"
      },
      "source": [
        "#TODO Update the snapchat value to \"Sneaky Media\"\n",
        "print(f\"Value before edit: {var['Snapchat']}\")\n",
        "var['Snapchat'] = 'sneaky media'\n",
        "print(f\"Value before edit: {var['Snapchat']}\")"
      ],
      "execution_count": 58,
      "outputs": [
        {
          "output_type": "stream",
          "name": "stdout",
          "text": [
            "Value before edit: Photo messaging\n",
            "Value before edit: sneaky media\n"
          ]
        }
      ]
    },
    {
      "cell_type": "markdown",
      "metadata": {
        "id": "r7a9flpNeeDy"
      },
      "source": [
        "You can also add a new `key:value` pair by referring to the item by its key and assign a value. If the key is already present in the dictionary, its value is replaced by the new one.\n",
        "--"
      ]
    },
    {
      "cell_type": "code",
      "metadata": {
        "id": "YnOI39KdeeDy",
        "colab": {
          "base_uri": "https://localhost:8080/"
        },
        "outputId": "a830b28b-0790-4af1-977c-e8394341fa14"
      },
      "source": [
        "#TODO add a new key value pair to the dictionary\n",
        "var['meta'] = 'new facebook'\n",
        "var['meta']\n",
        "print(var)\n",
        "del var['meta']\n",
        "var"
      ],
      "execution_count": 61,
      "outputs": [
        {
          "output_type": "stream",
          "name": "stdout",
          "text": [
            "{'Snapchat': 'sneaky media', 'Instagram': 'Photo and video', 'Twitter': 'MicroBlogging', 'snapchat': 'sneaky media', 'meta': 'new facebook'}\n"
          ]
        },
        {
          "output_type": "execute_result",
          "data": {
            "text/plain": [
              "{'Instagram': 'Photo and video',\n",
              " 'Snapchat': 'sneaky media',\n",
              " 'Twitter': 'MicroBlogging',\n",
              " 'snapchat': 'sneaky media'}"
            ]
          },
          "metadata": {},
          "execution_count": 61
        }
      ]
    },
    {
      "cell_type": "markdown",
      "metadata": {
        "id": "jN3lZDvTeeDy"
      },
      "source": [
        "# Using loops with dictionaries\n",
        "There are many ways to use loop with dictionaries, many of which are useful for the creation of or updating dictionaries.\n",
        "\n",
        "## Creating dictionaries from a list using for loops\n",
        "Given a list, you can loop through the elements and use them as either the keys or values for a dictionary. In this example, we will use the list of names to create 3 different dictionaries using loops.\n",
        "- Names as keys\n",
        "- Names as values\n",
        "- Names as values, Name length as values"
      ]
    },
    {
      "cell_type": "code",
      "metadata": {
        "id": "riU6dEqIeeDy"
      },
      "source": [
        "#TODO create a dictionary using the names list with the names being the keys and the amount of times the name is in the list as the value\n",
        "names = [\"Harper\", \"ollie\", \"e\", \"gabe\"]\n",
        "data = {}"
      ],
      "execution_count": 89,
      "outputs": []
    },
    {
      "cell_type": "code",
      "metadata": {
        "id": "_1hjV3iCeeDy",
        "colab": {
          "base_uri": "https://localhost:8080/"
        },
        "outputId": "8909fb9b-35c5-4d4e-e016-404bf7d881d1"
      },
      "source": [
        "#TODO Create a dictionary where the index of the name is the key and the name is the value\n",
        "for name in names:\n",
        "  data[name] = names.count(name)\n",
        " \n",
        "print(data)"
      ],
      "execution_count": 90,
      "outputs": [
        {
          "output_type": "stream",
          "name": "stdout",
          "text": [
            "{'Harper': 1, 'ollie': 1, 'e': 1, 'gabe': 1}\n"
          ]
        }
      ]
    },
    {
      "cell_type": "code",
      "metadata": {
        "id": "6WiCFlc3eeDy",
        "colab": {
          "base_uri": "https://localhost:8080/"
        },
        "outputId": "edabb594-6885-4fa1-bb01-0d1bee217588"
      },
      "source": [
        "#TODO create a dictionary where the names are keys and the name length are the values\n",
        "data = {}\n",
        "for i in range(len(names)):\n",
        "  data[i] = names[i]\n",
        "\n",
        "data"
      ],
      "execution_count": 93,
      "outputs": [
        {
          "output_type": "execute_result",
          "data": {
            "text/plain": [
              "{0: 'Harper', 1: 'ollie', 2: 'e', 3: 'gabe'}"
            ]
          },
          "metadata": {},
          "execution_count": 93
        }
      ]
    },
    {
      "cell_type": "code",
      "metadata": {
        "id": "R48fSHHy37du",
        "outputId": "3db3e647-4a01-49c7-c10c-98fa17d95fbf",
        "colab": {
          "base_uri": "https://localhost:8080/"
        }
      },
      "source": [
        "data = {}\n",
        "for name in names:\n",
        "  data[name] = len(name)\n",
        "\n",
        "data"
      ],
      "execution_count": 94,
      "outputs": [
        {
          "output_type": "execute_result",
          "data": {
            "text/plain": [
              "{'Harper': 6, 'e': 1, 'gabe': 4, 'ollie': 5}"
            ]
          },
          "metadata": {},
          "execution_count": 94
        }
      ]
    },
    {
      "cell_type": "markdown",
      "metadata": {
        "id": "ASI-GVx5eeDy"
      },
      "source": [
        "# Checking for Key Memebership\n",
        "---\n",
        "You can use the `in` operator to check if a key is present inside of a dictionary. This can be useful for updating dictionaries, as well as creating things like counters (we will go over this in part 2 of this lesson).\n",
        "--"
      ]
    },
    {
      "cell_type": "code",
      "metadata": {
        "id": "sR5-xZB6eeDy"
      },
      "source": [
        "contacts = {\n",
        "    \"Oliver\": '612-542-7787',\n",
        "    \"Elias\": '651-990-1102',\n",
        "    \"Harper\": '952-665-9088'\n",
        "}\n",
        "\n",
        "#TODO Check is Harper is in the dictionary\n",
        "#TODO Check if Gabe is in the dictionary\n"
      ],
      "execution_count": null,
      "outputs": []
    },
    {
      "cell_type": "markdown",
      "metadata": {
        "id": "K6y6L74zeeDy"
      },
      "source": [
        "# Looping through Dictionary keys\n",
        "---------\n",
        "Although dictionaries aren't considered sequences in python, they are still iterable objects. You can loop through the keys in a dictionary by using a `for in` loop.\n",
        "--\n",
        "\n",
        "```python\n",
        "d = {'key':'value', 'key2':'value2'}\n",
        "for key in d:\n",
        "    print(key)\n",
        "```"
      ]
    },
    {
      "cell_type": "code",
      "metadata": {
        "id": "a8sSPiWteeDy"
      },
      "source": [
        "contacts = {\n",
        "    \"Oliver\": '612-542-7787',\n",
        "    \"Elias\": '651-990-1102',\n",
        "    \"Harper\": '952-665-9088'\n",
        "}\n",
        "\n",
        "#TODO loop over the contacts dictionary\n",
        "#TODO loop over the contacts and print the values\n"
      ],
      "execution_count": null,
      "outputs": []
    }
  ]
}