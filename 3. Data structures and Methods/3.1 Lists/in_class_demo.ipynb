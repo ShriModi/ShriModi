{
  "nbformat": 4,
  "nbformat_minor": 0,
  "metadata": {
    "interpreter": {
      "hash": "fd61235da8d855c081cbd5d7c6398e4c179a40a950675235256f7f30499f1124"
    },
    "kernelspec": {
      "display_name": "Python 3.7.4 64-bit ('base': conda)",
      "name": "python3"
    },
    "language_info": {
      "codemirror_mode": {
        "name": "ipython",
        "version": 3
      },
      "file_extension": ".py",
      "mimetype": "text/x-python",
      "name": "python",
      "nbconvert_exporter": "python",
      "pygments_lexer": "ipython3",
      "version": "3.7.4"
    },
    "orig_nbformat": 4,
    "colab": {
      "name": "in_class_demo.ipynb",
      "provenance": []
    }
  },
  "cells": [
    {
      "cell_type": "markdown",
      "metadata": {
        "id": "vu-3U718gre0"
      },
      "source": [
        "# What Are Methods?\n",
        "\n",
        "> Indented block\n",
        "\n",
        "\n",
        "In python Data structures like `lists`, `tuples`, `strings` and basically any other data type that isn't a literal value, are objects. Objects will be explained more thoroughly in ***Module 6*** but for now you can think of them as a collection of properties and functions.\n",
        "--\n",
        "\n",
        "<br>\n",
        "\n",
        "**For Example:** If we think of a car as an object, it has properties like `color`, `weight`, `make`, and `price` along with functionality such as `start()`, `stop()`, `drive()`, `brake()`, and so on.\n",
        "--\n",
        "<br>\n",
        "\n",
        "**Methods are functionality that is associated with objects**\n",
        "--\n",
        "\n",
        "\n",
        "------------------------"
      ]
    },
    {
      "cell_type": "markdown",
      "metadata": {
        "id": "QC9SPwNXgre2"
      },
      "source": [
        "# Slicing, Negative Indexing, and Comprehensions\n",
        "Although slicing, indexing, and comprehensions aren't methods, the functionality they provide is important enough for them to be talked about here.\n",
        "--\n",
        "\n",
        "<br>\n",
        "\n",
        "## **Negative Indexing**\n",
        "In python, we index values in a sequence from left to right, starting at 0. However, you can also index items in a sequence from right to left, starting at -1.\n",
        "\n",
        "<div style = \"text-align:center\">\n",
        "    <img src = \"images/indexing.png\" style = \"\">\n",
        "</div>\n"
      ]
    },
    {
      "cell_type": "code",
      "metadata": {
        "colab": {
          "base_uri": "https://localhost:8080/"
        },
        "id": "MZY1nH_lgre2",
        "outputId": "f5764ea8-3b00-4fc5-916c-1447333f4bcc"
      },
      "source": [
        "#TODO: Return elements in the list using negative indexing\n",
        "var = [5,4,3,2,1]\n",
        "var[-5]"
      ],
      "execution_count": 3,
      "outputs": [
        {
          "output_type": "execute_result",
          "data": {
            "text/plain": [
              "5"
            ]
          },
          "metadata": {},
          "execution_count": 3
        }
      ]
    },
    {
      "cell_type": "code",
      "metadata": {
        "colab": {
          "base_uri": "https://localhost:8080/",
          "height": 37
        },
        "id": "grRmZdzUgre3",
        "outputId": "b8664acd-a19e-4317-a704-8ca4d52a87dc"
      },
      "source": [
        "#TODO: Return characters in the string using negative indexing\n",
        "string = \"washburn\"\n",
        "string [-8]"
      ],
      "execution_count": 7,
      "outputs": [
        {
          "output_type": "execute_result",
          "data": {
            "application/vnd.google.colaboratory.intrinsic+json": {
              "type": "string"
            },
            "text/plain": [
              "'w'"
            ]
          },
          "metadata": {},
          "execution_count": 7
        }
      ]
    },
    {
      "cell_type": "markdown",
      "metadata": {
        "id": "ph8ySUbCgre4"
      },
      "source": [
        "# Slicing\n",
        "To access a range of items in a list, you need to slice a list. One way to do this is to use the simple slicing operator `:`.\n",
        "With this operator you can specify where to start the slicing, where to end and specify the step.\n",
        "--\n",
        "\n",
        "<div style = \"text-align:center\">\n",
        "    <img src = \"images/slice.png\" style = \"\">\n",
        "</div>\n"
      ]
    },
    {
      "cell_type": "code",
      "metadata": {
        "colab": {
          "base_uri": "https://localhost:8080/"
        },
        "id": "1P2mgx51gre4",
        "outputId": "dd9e5776-4e97-4cbb-b169-7703b36d6b3c"
      },
      "source": [
        "L = ['a', 'b', 'c', 'd', 'e', 'f', 'g', 'h', 'i']\n",
        "print(L[8:1:-3])\n",
        "print(L[::-1])"
      ],
      "execution_count": 16,
      "outputs": [
        {
          "output_type": "stream",
          "name": "stdout",
          "text": [
            "['i', 'f', 'c']\n",
            "['i', 'h', 'g', 'f', 'e', 'd', 'c', 'b', 'a']\n"
          ]
        }
      ]
    },
    {
      "cell_type": "markdown",
      "metadata": {
        "id": "NSSGY4tggre5"
      },
      "source": [
        "<div style = \"text-align:center\">\n",
        "    <img src = \"images/slice2.png\" style = \"\">\n",
        "</div>"
      ]
    },
    {
      "cell_type": "code",
      "metadata": {
        "colab": {
          "base_uri": "https://localhost:8080/"
        },
        "id": "stlb7xWEgre5",
        "outputId": "29ec8d99-1bd0-4739-e50d-80b67c8b9042"
      },
      "source": [
        "#TODO: Slice the list to return the values 3 to 9\n",
        "var = [1,2,3,4,5,6,7,8,9,10,11,12,13,14,15]\n",
        "print(var[8:13])\n",
        "var[3::-1]"
      ],
      "execution_count": 20,
      "outputs": [
        {
          "output_type": "stream",
          "name": "stdout",
          "text": [
            "[9, 10, 11, 12, 13]\n"
          ]
        },
        {
          "output_type": "execute_result",
          "data": {
            "text/plain": [
              "[4, 3, 2, 1]"
            ]
          },
          "metadata": {},
          "execution_count": 20
        }
      ]
    },
    {
      "cell_type": "code",
      "metadata": {
        "colab": {
          "base_uri": "https://localhost:8080/"
        },
        "id": "cCmQ5iv3gre5",
        "outputId": "9447a4df-99bc-4aa9-903c-14cffb66f267"
      },
      "source": [
        "#TODO: Slice everything from the beginning up to the 5th index\n",
        "var = [10, True, 11, False, 12, True, 13, False]\n",
        "var[0:6]\n",
        "var[1::2]\n",
        "var[::2]"
      ],
      "execution_count": 24,
      "outputs": [
        {
          "output_type": "execute_result",
          "data": {
            "text/plain": [
              "[10, 11, 12, 13]"
            ]
          },
          "metadata": {},
          "execution_count": 24
        }
      ]
    },
    {
      "cell_type": "code",
      "metadata": {
        "colab": {
          "base_uri": "https://localhost:8080/",
          "height": 37
        },
        "id": "YMJsidMDgre6",
        "outputId": "90c616d1-1f11-4499-b487-6f8de9ced57f"
      },
      "source": [
        "#TODO: Slice the string to return the substring 'burn'\n",
        "var = \"Washburn\"\n",
        "var[4:]\n",
        "var[-4:]"
      ],
      "execution_count": 29,
      "outputs": [
        {
          "output_type": "execute_result",
          "data": {
            "application/vnd.google.colaboratory.intrinsic+json": {
              "type": "string"
            },
            "text/plain": [
              "'burn'"
            ]
          },
          "metadata": {},
          "execution_count": 29
        }
      ]
    },
    {
      "cell_type": "markdown",
      "metadata": {
        "id": "bEfrce0tgre6"
      },
      "source": [
        "# List Comprehensions\n",
        "\n",
        "Suppose you want to create a list of all integer square numbers from 2 to 4. You could build that list creating a `for loop` with a range of 2-5 and append the square of each value to a list.\n",
        "--"
      ]
    },
    {
      "cell_type": "code",
      "metadata": {
        "colab": {
          "base_uri": "https://localhost:8080/"
        },
        "id": "tYVZHseXgre6",
        "outputId": "c9ef827f-7d16-4b59-f12f-6e3d618bedb3"
      },
      "source": [
        "#TODO: write a for loop to add all squared values from 2 to 4 to a list\n",
        "squares = []\n",
        "for i in range(2,5):\n",
        "  squares.append(i**2)\n",
        "\n",
        "squares"
      ],
      "execution_count": 31,
      "outputs": [
        {
          "output_type": "execute_result",
          "data": {
            "text/plain": [
              "[4, 9, 16]"
            ]
          },
          "metadata": {},
          "execution_count": 31
        }
      ]
    },
    {
      "cell_type": "markdown",
      "metadata": {
        "id": "coxMVYfdgre7"
      },
      "source": [
        "However, this method uses more code than what is necessary for this task and we can simplify it using a list comprehension instead.\n",
        "--\n",
        "\n",
        "**List comprehensions are a way to build a new list by applying an expression to each item in an iterable.**\n",
        "--\n",
        "\n",
        "<div style = \"text-align:center\">\n",
        "    <img src = \"images/comprehension.png\" style = \"\">\n",
        "</div>"
      ]
    },
    {
      "cell_type": "code",
      "metadata": {
        "colab": {
          "base_uri": "https://localhost:8080/"
        },
        "id": "fL0ZuzQSgre7",
        "outputId": "5aea960e-326d-4893-93dd-8acd7d84b102"
      },
      "source": [
        "#TODO: Recreate the code from above using a list comprehension\n",
        "var = [i**2 for i in range(2,5)]\n",
        "var"
      ],
      "execution_count": 35,
      "outputs": [
        {
          "output_type": "execute_result",
          "data": {
            "text/plain": [
              "[4, 9, 16]"
            ]
          },
          "metadata": {},
          "execution_count": 35
        }
      ]
    },
    {
      "cell_type": "code",
      "metadata": {
        "colab": {
          "base_uri": "https://localhost:8080/"
        },
        "id": "cCRuLaZngre8",
        "outputId": "36591eb1-dfad-40dd-9b02-e20137d5479c"
      },
      "source": [
        "#TODO: Use a list comprehension to create a list of values from 1 to 100\n",
        "var = [i for i in range(1,101)]\n",
        "var"
      ],
      "execution_count": 37,
      "outputs": [
        {
          "output_type": "execute_result",
          "data": {
            "text/plain": [
              "[1,\n",
              " 2,\n",
              " 3,\n",
              " 4,\n",
              " 5,\n",
              " 6,\n",
              " 7,\n",
              " 8,\n",
              " 9,\n",
              " 10,\n",
              " 11,\n",
              " 12,\n",
              " 13,\n",
              " 14,\n",
              " 15,\n",
              " 16,\n",
              " 17,\n",
              " 18,\n",
              " 19,\n",
              " 20,\n",
              " 21,\n",
              " 22,\n",
              " 23,\n",
              " 24,\n",
              " 25,\n",
              " 26,\n",
              " 27,\n",
              " 28,\n",
              " 29,\n",
              " 30,\n",
              " 31,\n",
              " 32,\n",
              " 33,\n",
              " 34,\n",
              " 35,\n",
              " 36,\n",
              " 37,\n",
              " 38,\n",
              " 39,\n",
              " 40,\n",
              " 41,\n",
              " 42,\n",
              " 43,\n",
              " 44,\n",
              " 45,\n",
              " 46,\n",
              " 47,\n",
              " 48,\n",
              " 49,\n",
              " 50,\n",
              " 51,\n",
              " 52,\n",
              " 53,\n",
              " 54,\n",
              " 55,\n",
              " 56,\n",
              " 57,\n",
              " 58,\n",
              " 59,\n",
              " 60,\n",
              " 61,\n",
              " 62,\n",
              " 63,\n",
              " 64,\n",
              " 65,\n",
              " 66,\n",
              " 67,\n",
              " 68,\n",
              " 69,\n",
              " 70,\n",
              " 71,\n",
              " 72,\n",
              " 73,\n",
              " 74,\n",
              " 75,\n",
              " 76,\n",
              " 77,\n",
              " 78,\n",
              " 79,\n",
              " 80,\n",
              " 81,\n",
              " 82,\n",
              " 83,\n",
              " 84,\n",
              " 85,\n",
              " 86,\n",
              " 87,\n",
              " 88,\n",
              " 89,\n",
              " 90,\n",
              " 91,\n",
              " 92,\n",
              " 93,\n",
              " 94,\n",
              " 95,\n",
              " 96,\n",
              " 97,\n",
              " 98,\n",
              " 99,\n",
              " 100]"
            ]
          },
          "metadata": {},
          "execution_count": 37
        }
      ]
    },
    {
      "cell_type": "code",
      "metadata": {
        "colab": {
          "base_uri": "https://localhost:8080/"
        },
        "id": "teH6072Igre8",
        "outputId": "dca05b86-7e04-4fa6-8811-fb8b425ecf3a"
      },
      "source": [
        "names = [\"Gabe\", \"Flomo\", \"Nathan\", \"Aaron\", \"Nene\"]\n",
        "#TODO: Use a list comprehension to get the first and last characters of the name\n",
        "var = [i[0]+i[-1] for i in names]\n",
        "var"
      ],
      "execution_count": 39,
      "outputs": [
        {
          "output_type": "execute_result",
          "data": {
            "text/plain": [
              "['Ge', 'Fo', 'Nn', 'An', 'Ne']"
            ]
          },
          "metadata": {},
          "execution_count": 39
        }
      ]
    },
    {
      "cell_type": "markdown",
      "metadata": {
        "id": "X-zogaKqgre8"
      },
      "source": [
        "-----\n",
        "# List Methods\n",
        "Ever since the Variables and data types chapter, you have already been exposed to the `.append()` method, which is probably the most common list methodsed. In this section of the chapter we will go over 5 new methods that will be useful for future tasks.\n",
        "\n",
        "* `.sort()`\n",
        "* `.copy()`\n",
        "* `.pop()`\n",
        "* `.extend()`\n",
        "* `.index()`"
      ]
    },
    {
      "cell_type": "markdown",
      "metadata": {
        "id": "64vPmF-Ogre9"
      },
      "source": [
        "# List Method: `.sort()`\n",
        "used to sort the elements in the list.\n",
        "--"
      ]
    },
    {
      "cell_type": "code",
      "metadata": {
        "colab": {
          "base_uri": "https://localhost:8080/"
        },
        "id": "_mkEkNB6gre9",
        "outputId": "cd6881c3-b6af-4aa8-a2b6-1f6817b13053"
      },
      "source": [
        "#TODO: Sort a list of numbers\n",
        "var = [23, 0, 34, 211, 64, 775, 3, 7, 33445623, 76, .66542, -.00601]\n",
        "var.sort()\n",
        "var"
      ],
      "execution_count": 41,
      "outputs": [
        {
          "output_type": "execute_result",
          "data": {
            "text/plain": [
              "[-0.00601, 0, 0.66542, 3, 7, 23, 34, 64, 76, 211, 775, 33445623]"
            ]
          },
          "metadata": {},
          "execution_count": 41
        }
      ]
    },
    {
      "cell_type": "code",
      "metadata": {
        "colab": {
          "base_uri": "https://localhost:8080/"
        },
        "id": "l2D0Exk3gre9",
        "outputId": "eb6073e9-5bf9-4563-fbc3-ea043856d9ad"
      },
      "source": [
        "#TODO: Sort a list of strings\n",
        "var = [\"B\", \"C\", \"Z\", \"A\", \"Apple\", \"Banana\"]\n",
        "var.sort()\n",
        "var"
      ],
      "execution_count": 48,
      "outputs": [
        {
          "output_type": "execute_result",
          "data": {
            "text/plain": [
              "['A', 'Apple', 'B', 'Banana', 'C', 'Z']"
            ]
          },
          "metadata": {},
          "execution_count": 48
        }
      ]
    },
    {
      "cell_type": "code",
      "metadata": {
        "colab": {
          "base_uri": "https://localhost:8080/"
        },
        "id": "3ksPwqNGgre-",
        "outputId": "8a4582b2-c3f6-4fec-c9ae-c8a08af0b504"
      },
      "source": [
        "#TODO: Sort a list of lists\n",
        "var = [[3,2,3], [0,2,1], [0, .5, 3]]\n",
        "var.sort()\n",
        "var"
      ],
      "execution_count": 49,
      "outputs": [
        {
          "output_type": "execute_result",
          "data": {
            "text/plain": [
              "[[0, 0.5, 3], [0, 2, 1], [3, 2, 3]]"
            ]
          },
          "metadata": {},
          "execution_count": 49
        }
      ]
    },
    {
      "cell_type": "markdown",
      "metadata": {
        "id": "3cGL1ncYgre-"
      },
      "source": [
        "# List Method: `.copy()`\n",
        "Returns a copy of the list.\n",
        "--"
      ]
    },
    {
      "cell_type": "code",
      "metadata": {
        "colab": {
          "base_uri": "https://localhost:8080/"
        },
        "id": "cFPQhvZzgre-",
        "outputId": "9c6def3e-6b30-4575-a618-3f860dc2e84a"
      },
      "source": [
        "#TODO: create a copy of the list\n",
        "var = [1,2,3,4,5]\n",
        "bar = var.copy()\n",
        "bar[0] = 100\n",
        "print(id(bar),id(var))\n"
      ],
      "execution_count": 58,
      "outputs": [
        {
          "output_type": "stream",
          "name": "stdout",
          "text": [
            "140541425462400 140541425460960\n"
          ]
        }
      ]
    },
    {
      "cell_type": "markdown",
      "metadata": {
        "id": "qFbnVaO0gre-"
      },
      "source": [
        "In order to create a copy of a list, you need to use the copy method. Assigning an existing list to a new variable doesn't create a new list, it creates a new reference to a list that already exists, meaning that altering one will alter the other.\n",
        "---"
      ]
    },
    {
      "cell_type": "code",
      "metadata": {
        "colab": {
          "base_uri": "https://localhost:8080/"
        },
        "id": "mwQ-EGYCgre_",
        "outputId": "a6f4b5a6-498b-4dc8-80fe-b749a011dcab"
      },
      "source": [
        "#TODO: show that assigning an existing list to a new variable does't actually copy the list\n",
        "var = [1,2,3,4,5]\n",
        "var2 = var[:]\n",
        "print(id(var2),id(var))"
      ],
      "execution_count": 63,
      "outputs": [
        {
          "output_type": "stream",
          "name": "stdout",
          "text": [
            "140541425015696 140541424954576\n"
          ]
        }
      ]
    },
    {
      "cell_type": "code",
      "metadata": {
        "id": "FLgR98aQgre_"
      },
      "source": [
        "#TODO: copy a list using slicing [:]\n",
        "var = [\"I\", \"am\", \"a\", \"person\"]\n"
      ],
      "execution_count": null,
      "outputs": []
    },
    {
      "cell_type": "markdown",
      "metadata": {
        "id": "vk5IWpv3gre_"
      },
      "source": [
        "# List Method: `.pop()`\n",
        "The pop() method removes a single list element at specified index and returns it. If no index is specified, pop() method removes and returns the last item in the list.\n",
        "--"
      ]
    },
    {
      "cell_type": "code",
      "metadata": {
        "colab": {
          "base_uri": "https://localhost:8080/"
        },
        "id": "SXV9Lr2kgrfA",
        "outputId": "d1b5657e-439a-4038-e3c9-6a5b9de02a1d"
      },
      "source": [
        "#TODO: showcase the pop method\n",
        "var = [.32, 1.89, 'flamingo']\n",
        "var.pop(0)\n",
        "var.pop(0)\n",
        "var"
      ],
      "execution_count": 68,
      "outputs": [
        {
          "output_type": "execute_result",
          "data": {
            "text/plain": [
              "['flamingo']"
            ]
          },
          "metadata": {},
          "execution_count": 68
        }
      ]
    },
    {
      "cell_type": "code",
      "metadata": {
        "id": "JljdHFudgrfA"
      },
      "source": [
        "#TODO: pop the first element of the list and print the value and the length before and after popping\n",
        "var = [12, 9, .432]"
      ],
      "execution_count": null,
      "outputs": []
    },
    {
      "cell_type": "markdown",
      "metadata": {
        "id": "2Ow7ed1ugrfA"
      },
      "source": [
        "# List Method: `.extend()`\n",
        "The extend() method extends the list by appending all the items from the iterable to the end of the list. This method does not return anything; it modifies the list in place.\n",
        "--"
      ]
    },
    {
      "cell_type": "code",
      "metadata": {
        "colab": {
          "base_uri": "https://localhost:8080/"
        },
        "id": "FwlgEvNIgrfA",
        "outputId": "c59c294e-ca37-49cd-9b14-02a45e213b19"
      },
      "source": [
        "#TODO: Show what happens when you append an iterable to a list\n",
        "var = [5,6,7,8,9,10]\n",
        "var2 = [1,2,3,4]\n",
        "var.append(var2)\n",
        "var"
      ],
      "execution_count": 72,
      "outputs": [
        {
          "output_type": "execute_result",
          "data": {
            "text/plain": [
              "[5, 6, 7, 8, 9, 10, [1, 2, 3, 4]]"
            ]
          },
          "metadata": {},
          "execution_count": 72
        }
      ]
    },
    {
      "cell_type": "code",
      "metadata": {
        "colab": {
          "base_uri": "https://localhost:8080/"
        },
        "id": "fd-9OeZHgrfA",
        "outputId": "05b99ef5-d081-4068-adb0-5bc7ab9571e8"
      },
      "source": [
        "#TODO: Show what happens when you extend a list with another iterable\n",
        "var = [5, 6, 7, 8, 9, 10]\n",
        "var2 =[1,2,3,4,5]\n",
        "var.extend(var2)\n",
        "var"
      ],
      "execution_count": 74,
      "outputs": [
        {
          "output_type": "execute_result",
          "data": {
            "text/plain": [
              "[5, 6, 7, 8, 9, 10, 1, 2, 3, 4, 5]"
            ]
          },
          "metadata": {},
          "execution_count": 74
        }
      ]
    },
    {
      "cell_type": "markdown",
      "metadata": {
        "id": "BiIdHViggrfB"
      },
      "source": [
        "# List method: `.index()`\n",
        "The index() method searches for the first occurrence of the given item and returns its index. If specified item is not found, it raises ‘ValueError’ exception.\n",
        "--"
      ]
    },
    {
      "cell_type": "code",
      "metadata": {
        "colab": {
          "base_uri": "https://localhost:8080/"
        },
        "id": "ictadvb5grfC",
        "outputId": "dc5d29d6-fc77-431d-d7fe-80dc395ca5cf"
      },
      "source": [
        "#TODO: What is the index of `green`\n",
        "colors = ['red', 'green', 'blue', 'yellow','red']\n",
        "colors.index('red')"
      ],
      "execution_count": 85,
      "outputs": [
        {
          "output_type": "execute_result",
          "data": {
            "text/plain": [
              "0"
            ]
          },
          "metadata": {},
          "execution_count": 85
        }
      ]
    },
    {
      "cell_type": "code",
      "metadata": {
        "colab": {
          "base_uri": "https://localhost:8080/"
        },
        "id": "L9tsNxCmzd3C",
        "outputId": "f03c119d-c08e-471d-f082-1f7538dea5de"
      },
      "source": [
        "colors.count('red')"
      ],
      "execution_count": 86,
      "outputs": [
        {
          "output_type": "execute_result",
          "data": {
            "text/plain": [
              "2"
            ]
          },
          "metadata": {},
          "execution_count": 86
        }
      ]
    },
    {
      "cell_type": "markdown",
      "metadata": {
        "id": "8cx-MiafgrfC"
      },
      "source": [
        "-----\n",
        "# Creating Lists with unique values only\n",
        "Say we have a list of names of students in a school and we don't actually care about how many student there, we only care about what the unique names are. For example, consider the following list.\n",
        "---\n",
        "\n",
        "```python \n",
        "[\n",
        "    'Gabe',\n",
        "    'Alex',\n",
        "    'Matt',\n",
        "    'Alex',\n",
        "    'Naomi',\n",
        "    'Alex'\n",
        "]\n",
        "```\n",
        "\n",
        "There are 6 students total, but I only care about how many unique names are present in the list. The unique names in this list are `[\"Gabe\", \"Alex\", \"Matt\", \"Naomi\"]` which reduces our list from 6 to 4. One way to achieve this result in python is to cast our list to the `set` data type then back into a `list`.\n",
        "--\n",
        "\n",
        "## [sets](https://www.learnbyexample.org/python-set/)\n",
        "Sets are not going to be formally covered in this course, however, they do have some functionality that will be useful for future projects so we will briefly cover them here. A set is similar to a list or tuple with the only difference being that it does not allow you to have duplicate elements. To create a set from a list, use the `set()` constructor.\n",
        "--\n",
        "\n",
        "```python \n",
        "var = [1,2,3,3,3,4,5,5,5]\n",
        "converted = set(var) -> {1,2,3,4,5}\n",
        "```\n",
        "\n",
        "Since we aren't interested in using the `set` as it is, we can convert it back to a list by calling the list constructor around the set.\n",
        "--\n",
        "\n",
        "```python\n",
        "var = [1,2,3,3,3,4,5,5,5]\n",
        "converted = list(set(var)) -> [1,2,3,4,5]\n",
        "```\n",
        "\n",
        "Now we have a list with only the unique values from our original list.\n",
        "--\n",
        "\n"
      ]
    },
    {
      "cell_type": "code",
      "metadata": {
        "colab": {
          "base_uri": "https://localhost:8080/"
        },
        "id": "K3MadRPRgrfD",
        "outputId": "7286b967-603d-4ac3-84e5-40cc9fabb823"
      },
      "source": [
        "#TODO convert the list into a list with only the unique elements\n",
        "var = [5, 6, 5, 5, 6, 4, 7,6, 6, 7, 8, 4, 5, 5, 4]\n",
        "list(set(var))"
      ],
      "execution_count": 82,
      "outputs": [
        {
          "output_type": "execute_result",
          "data": {
            "text/plain": [
              "[4, 5, 6, 7, 8]"
            ]
          },
          "metadata": {},
          "execution_count": 82
        }
      ]
    },
    {
      "cell_type": "code",
      "metadata": {
        "id": "1KhypMJ7zFEg"
      },
      "source": [
        "#\"this is the count method in action, bam\" - gabe flomo"
      ],
      "execution_count": null,
      "outputs": []
    },
    {
      "cell_type": "markdown",
      "metadata": {
        "id": "xFkN8zkpgrfE"
      },
      "source": [
        "One use case for doing this is to create a count of all the unique elements in a list. By creating a list with only the unique elements from the original list, we can loop over the elements in the set and count how many times that element appears in our original list.\n",
        "--"
      ]
    },
    {
      "cell_type": "code",
      "metadata": {
        "colab": {
          "base_uri": "https://localhost:8080/"
        },
        "id": "Uv8nV4jugrfE",
        "outputId": "38e2d937-e72c-44bb-92e3-1e43ec3f379d"
      },
      "source": [
        "#TODO create a counter using a set\n",
        "var = [5, 6, 5, 5, 6, 4, 7, 6, 6, 7, 8, 4, 5, 5, 4]\n",
        "unique = list(set(var))\n",
        "for value in unique:\n",
        "  print(\"the count of \", value, \" in the list is \", var.count(value))\n"
      ],
      "execution_count": 90,
      "outputs": [
        {
          "output_type": "stream",
          "name": "stdout",
          "text": [
            "the count of  4  in the list is  3\n",
            "the count of  5  in the list is  5\n",
            "the count of  6  in the list is  4\n",
            "the count of  7  in the list is  2\n",
            "the count of  8  in the list is  1\n"
          ]
        }
      ]
    }
  ]
}