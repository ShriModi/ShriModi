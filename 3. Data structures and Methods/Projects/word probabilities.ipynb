{
  "cells": [
    {
      "cell_type": "markdown",
      "metadata": {
        "id": "view-in-github",
        "colab_type": "text"
      },
      "source": [
        "<a href=\"https://colab.research.google.com/github/ShriModi/ShriModi/blob/main/3.%20Data%20structures%20and%20Methods/Projects/word%20probabilities.ipynb\" target=\"_parent\"><img src=\"https://colab.research.google.com/assets/colab-badge.svg\" alt=\"Open In Colab\"/></a>"
      ]
    },
    {
      "cell_type": "markdown",
      "metadata": {
        "id": "p3pc2CFbSxU5"
      },
      "source": [
        "# Instructions \n",
        "Given a list of 150 random words create a dictionary with the chance of each word occuring, then have the user input a word from the list and return the probability of it occuring.\n",
        "\n",
        "### Example\n",
        "```\n",
        "{'imposter': 16,\n",
        " 'thot': 22,\n",
        " 'friday': 24,\n",
        " 'eminent': 28,\n",
        " 'chance': 24,\n",
        " 'yesterday': 17,\n",
        " 'help': 19}\n",
        "\n",
        "Enter a word: Thought\n",
        "word not in list, try again.\n",
        "\n",
        "Enter a word: imposter\n",
        "the probability of imposter is 8%\n",
        " ```\n",
        "\n",
        "\n"
      ]
    },
    {
      "cell_type": "code",
      "execution_count": 5,
      "metadata": {
        "id": "gEX2ediASxU6"
      },
      "outputs": [],
      "source": [
        "from random import choice\n",
        "words = [choice([\n",
        "    \"chance\",\n",
        "    \"eminent\",\n",
        "    \"imposter\",\n",
        "    \"help\",\n",
        "    \"thot\",\n",
        "    \"friday\",\n",
        "    \"yesterday\"\n",
        "]) for _ in range(150)]\n",
        "\n",
        "counts = {word: words.count(word) for word in set(words)}"
      ]
    },
    {
      "cell_type": "code",
      "source": [
        "print(counts)"
      ],
      "metadata": {
        "id": "qXVMj_-n9T0J",
        "outputId": "22311d4f-178b-4007-dff2-c20c526d4632",
        "colab": {
          "base_uri": "https://localhost:8080/"
        }
      },
      "execution_count": 22,
      "outputs": [
        {
          "output_type": "stream",
          "name": "stdout",
          "text": [
            "{'chance': 27, 'help': 24, 'friday': 27, 'thot': 19, 'imposter': 14, 'yesterday': 21, 'eminent': 18}\n"
          ]
        }
      ]
    },
    {
      "cell_type": "code",
      "execution_count": 29,
      "metadata": {
        "id": "fopcMIB28CJb",
        "outputId": "78a2c81f-10bc-45b0-ad90-73d75f12e28a",
        "colab": {
          "base_uri": "https://localhost:8080/"
        }
      },
      "outputs": [
        {
          "output_type": "stream",
          "name": "stdout",
          "text": [
            "enter a word: exit\n",
            "try again\n"
          ]
        }
      ],
      "source": [
        "loop = True\n",
        "while loop:\n",
        "  word = input(\"enter a word: \")\n",
        "  for key in counts:\n",
        "    if word == key:\n",
        "      perc = counts[key] *(2/3)\n",
        "      print(f\"the probablitiy of {key} is {perc}%\")\n",
        "    elif word == \"exit\":\n",
        "      loop = False\n",
        "  print(\"try again\")\n"
      ]
    }
  ],
  "metadata": {
    "colab": {
      "name": "word probabilities.ipynb",
      "provenance": [],
      "include_colab_link": true
    },
    "interpreter": {
      "hash": "f1a916808f2d29f1a5fbd48aa1cb9129993ca703ecce713879d0cd946e898e32"
    },
    "kernelspec": {
      "display_name": "Python 3.9.7 64-bit ('legacy': conda)",
      "language": "python",
      "name": "python3"
    },
    "language_info": {
      "codemirror_mode": {
        "name": "ipython",
        "version": 3
      },
      "file_extension": ".py",
      "mimetype": "text/x-python",
      "name": "python",
      "nbconvert_exporter": "python",
      "pygments_lexer": "ipython3",
      "version": "3.9.7"
    },
    "orig_nbformat": 4
  },
  "nbformat": 4,
  "nbformat_minor": 0
}