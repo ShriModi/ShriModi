{
  "cells": [
    {
      "cell_type": "markdown",
      "metadata": {
        "id": "view-in-github",
        "colab_type": "text"
      },
      "source": [
        "<a href=\"https://colab.research.google.com/github/ShriModi/ShriModi/blob/main/3.%20Data%20structures%20and%20Methods/Projects/minimum%20and%20maximum.ipynb\" target=\"_parent\"><img src=\"https://colab.research.google.com/assets/colab-badge.svg\" alt=\"Open In Colab\"/></a>"
      ]
    },
    {
      "cell_type": "markdown",
      "metadata": {
        "id": "85uGw_NKSOdP"
      },
      "source": [
        "# Instructions\n",
        "Given a dictionary of subjects and scores for each, find the subject with the highes score and the subject with the lowest score and create a new dictionary called `range` that only contains the subject with the min and max score.\n",
        "\n",
        "### Example output\n",
        "```\n",
        "{\n",
        "    math: 87,\n",
        "    english: 72,\n",
        "    physics: 91,\n",
        "    history: 86,\n",
        "    health: 100,\n",
        "    programming: 82\n",
        "}\n",
        "\n",
        "range = {\n",
        "    health: 100,\n",
        "    english: 72\n",
        "}\n",
        "\n",
        "```"
      ]
    },
    {
      "cell_type": "code",
      "execution_count": 16,
      "metadata": {
        "id": "UtlzBjbASOdQ",
        "outputId": "d8f5e370-7435-47f7-807a-0ef2e6f72a7b",
        "colab": {
          "base_uri": "https://localhost:8080/"
        }
      },
      "outputs": [
        {
          "output_type": "stream",
          "name": "stdout",
          "text": [
            "100 health  is the highest grade\n",
            "72 english  , I am dissapointed\n"
          ]
        }
      ],
      "source": [
        "subjects = {\n",
        "    \"math\": 87,\n",
        "    \"english\": 72,\n",
        "    \"physics\": 91,\n",
        "    \"history\": 86,\n",
        "    \"health\": 100,\n",
        "    \"programming\": 82\n",
        "}\n",
        "\n",
        "Range = {}\n",
        "current_subject_max = 0\n",
        "current_subject = \"\"\n",
        "for key in subjects:\n",
        "  i = subjects[key]\n",
        "  if i > current_subject_max:\n",
        "    current_subject_max = i\n",
        "    current_subject = key\n",
        "\n",
        "current_subject_min = current_subject_max\n",
        "current__subject_mi = \"\"\n",
        "for key in subjects:\n",
        "  l = subjects[key]\n",
        "  if current_subject_min > l:\n",
        "    current_subject_min = l\n",
        "    current_subject_mi = key\n",
        "\n",
        "\n",
        "\n",
        "print(current_subject_max, current_subject, \" is the highest grade\")\n",
        "print(current_subject_min, current_subject_mi, \" , I am dissapointed\")\n",
        "  "
      ]
    }
  ],
  "metadata": {
    "language_info": {
      "name": "python"
    },
    "orig_nbformat": 4,
    "colab": {
      "name": "minimum and maximum.ipynb",
      "provenance": [],
      "include_colab_link": true
    },
    "kernelspec": {
      "name": "python3",
      "display_name": "Python 3"
    }
  },
  "nbformat": 4,
  "nbformat_minor": 0
}