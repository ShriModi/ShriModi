{
  "nbformat": 4,
  "nbformat_minor": 0,
  "metadata": {
    "interpreter": {
      "hash": "fd61235da8d855c081cbd5d7c6398e4c179a40a950675235256f7f30499f1124"
    },
    "kernelspec": {
      "display_name": "Python 3.7.4 64-bit",
      "name": "python3"
    },
    "language_info": {
      "codemirror_mode": {
        "name": "ipython",
        "version": 3
      },
      "file_extension": ".py",
      "mimetype": "text/x-python",
      "name": "python",
      "nbconvert_exporter": "python",
      "pygments_lexer": "ipython3",
      "version": "3.7.4"
    },
    "orig_nbformat": 4,
    "colab": {
      "name": "printing_project.ipynb",
      "provenance": []
    }
  },
  "cells": [
    {
      "cell_type": "markdown",
      "metadata": {
        "id": "5w8fMXS9Z1xM"
      },
      "source": [
        "# Printing Project\n",
        "\n",
        "Below is a series of tasks to complete to help you understand how printing works"
      ]
    },
    {
      "cell_type": "markdown",
      "metadata": {
        "id": "Q9NARlKPZ1xN"
      },
      "source": [
        "# Task 1\n",
        "This task is fairly simple. All you need to do is print your name and your age."
      ]
    },
    {
      "cell_type": "code",
      "metadata": {
        "id": "gJz600PHZ1xO"
      },
      "source": [
        "print(\"Hi my name is Harper, I am 15\")"
      ],
      "execution_count": null,
      "outputs": []
    },
    {
      "cell_type": "markdown",
      "metadata": {
        "id": "wCu5yI1kZ1xO"
      },
      "source": [
        "# Task 2\n",
        "print your name and age using 2 print function arguments.\n",
        "<p><em>Remember, print statement arguments are separated by commas.</em></p>\n",
        "\n",
        "```python \n",
        "#expected output#\n",
        "\" 'your_name' 'your_age' \"\n",
        "```"
      ]
    },
    {
      "cell_type": "code",
      "metadata": {
        "id": "79Sx8YCpZ1xP",
        "outputId": "83dd4472-e449-43aa-d2a3-eadc937ee5d1",
        "colab": {
          "base_uri": "https://localhost:8080/"
        }
      },
      "source": [
        "print (\"My name is Harper,\", \"I am 15\")"
      ],
      "execution_count": 6,
      "outputs": [
        {
          "output_type": "stream",
          "name": "stdout",
          "text": [
            "My name is Harper, I am 15\n"
          ]
        }
      ]
    },
    {
      "cell_type": "markdown",
      "metadata": {
        "id": "m1yRm20jZ1xP"
      },
      "source": [
        "# Task 3\n",
        "print your name and age using 2 print function arguments, separated by a colon.\n",
        "\n",
        "```python \n",
        "#expected output#\n",
        "\" 'your_name':'your_age' \"\n",
        "```"
      ]
    },
    {
      "cell_type": "code",
      "metadata": {
        "id": "uqICSxqmZ1xQ",
        "outputId": "12d1ea8a-7377-40d5-93cf-5500d089b535",
        "colab": {
          "base_uri": "https://localhost:8080/"
        }
      },
      "source": [
        "print(\"Hi I am Harper\", \" I am 15\", sep = \":\")"
      ],
      "execution_count": 21,
      "outputs": [
        {
          "output_type": "stream",
          "name": "stdout",
          "text": [
            "Hi I am Harper: I am 15\n"
          ]
        }
      ]
    },
    {
      "cell_type": "markdown",
      "metadata": {
        "id": "s18YIfcKZ1xQ"
      },
      "source": [
        "# Task 4\n",
        "print your favorite food and dessert separated by a colon.\n",
        "\n",
        "```python \n",
        "#expected output#\n",
        "\"my favorite food is 'your_food':'your_dessert' \"\n",
        "```"
      ]
    },
    {
      "cell_type": "code",
      "metadata": {
        "id": "6npH-n9GZ1xS",
        "outputId": "c608b739-3680-470b-e21d-4c5591a4d41f",
        "colab": {
          "base_uri": "https://localhost:8080/"
        }
      },
      "source": [
        "print (\"My favorite food is pizza\", \" My favorite dessert is brownies\", sep = \":\")"
      ],
      "execution_count": 29,
      "outputs": [
        {
          "output_type": "stream",
          "name": "stdout",
          "text": [
            "My favorite food is pizza: My favorite dessert is brownies\n"
          ]
        }
      ]
    },
    {
      "cell_type": "markdown",
      "metadata": {
        "id": "Iwi6dHfcZ1xS"
      },
      "source": [
        "# Task 5\n",
        "Produce the following using separators.\n",
        "\n",
        "```python\n",
        "\"Wow I cant belive I am a: 'your_grade' in high school\"\n",
        "```\n"
      ]
    },
    {
      "cell_type": "code",
      "metadata": {
        "id": "v6PxBVsbZ1xT",
        "outputId": "bac0668a-353a-4f44-a757-6166aff9d82d",
        "colab": {
          "base_uri": "https://localhost:8080/"
        }
      },
      "source": [
        "your_grade = \"B+\"\n",
        "print(f\"Wow I cant belive I have a \", \" in high school\", sep = your_grade)"
      ],
      "execution_count": 55,
      "outputs": [
        {
          "output_type": "stream",
          "name": "stdout",
          "text": [
            "Wow I cant belive I have a B+ in high school\n"
          ]
        }
      ]
    },
    {
      "cell_type": "markdown",
      "metadata": {
        "id": "YNPpGlK8Z1xT"
      },
      "source": [
        "# Task 6\n",
        "Edit the code in order to print everything in a single line"
      ]
    },
    {
      "cell_type": "code",
      "metadata": {
        "id": "nrBVPOIsZ1xT",
        "outputId": "d5c8a594-d82c-44d3-b68e-d25f21005015",
        "colab": {
          "base_uri": "https://localhost:8080/"
        }
      },
      "source": [
        "# code goes here\n",
        "print(\"Bruh, how can I get this on one line 🤦🏾‍♀️\", end =\", \")\n",
        "var = \" Ohhh... thats how\"\n",
        "print(var)"
      ],
      "execution_count": 60,
      "outputs": [
        {
          "output_type": "stream",
          "name": "stdout",
          "text": [
            "Bruh, how can I get this on one line 🤦🏾‍♀️,  Ohhh... thats how\n"
          ]
        }
      ]
    },
    {
      "cell_type": "markdown",
      "metadata": {
        "id": "XqwqJkvLZ1xU"
      },
      "source": [
        "# Task 7\n",
        "Edit the code to print the values using an f-string"
      ]
    },
    {
      "cell_type": "code",
      "metadata": {
        "id": "ajiOh-5QZ1xU",
        "outputId": "bca283bc-12f5-4865-87b4-fae413451326",
        "colab": {
          "base_uri": "https://localhost:8080/"
        }
      },
      "source": [
        "# Code goes here\n",
        "animal = 'Monkey'\n",
        "show = \"curious George\"\n",
        "print(f\"How old is that {animal} from {show}?\")"
      ],
      "execution_count": 62,
      "outputs": [
        {
          "output_type": "stream",
          "name": "stdout",
          "text": [
            "How old is that Monkey from curious George?\n"
          ]
        }
      ]
    },
    {
      "cell_type": "markdown",
      "metadata": {
        "id": "2pv_JXqZZ1xU"
      },
      "source": [
        "# Task 8\n",
        "Use an f-string to print the name of your school, what grade you're in and your favorite thing for lunch\n",
        "\n",
        "```python \n",
        "#expected output#\n",
        "\"My name is 'your_name' and I am in 'your_grade'. My favorite thing for lunch is 'fav_lunch'.\"\n",
        "```"
      ]
    },
    {
      "cell_type": "code",
      "metadata": {
        "id": "z-3of_O9Z1xV"
      },
      "source": [
        "# Code goes here\n",
        "your_name = \"Harper\"\n",
        "grade = \"10\"\n",
        "fav_lunch = \"pizza\"\n",
        "print(f\"My name is {your_name} and I am in {grade}. My favorite thing for lunch is {fav_lunch}\")"
      ],
      "execution_count": null,
      "outputs": []
    },
    {
      "cell_type": "markdown",
      "metadata": {
        "id": "DXrAQo50Z1xV"
      },
      "source": [
        "# TASK 9\n",
        "Use the escape character `\\n` to print the following string.\n",
        "\n",
        "> If I had a million dollars\n",
        "\n",
        "> I'd spend it on `'What ever you would spend it on goes here'`"
      ]
    },
    {
      "cell_type": "code",
      "metadata": {
        "id": "oIx19qc5Z1xV",
        "outputId": "ff19ca7c-e100-4ad5-9ac7-24b4fa628761",
        "colab": {
          "base_uri": "https://localhost:8080/"
        }
      },
      "source": [
        "print(\"If I had a million dollars \\nI'd spend it on a nissian r34 skyline.\")"
      ],
      "execution_count": 74,
      "outputs": [
        {
          "output_type": "stream",
          "name": "stdout",
          "text": [
            "If I had a million dollars \n",
            "I'd spend it on a nissian r34 skyline.\n"
          ]
        }
      ]
    },
    {
      "cell_type": "code",
      "metadata": {
        "id": "v5tF8QLGgqiQ"
      },
      "source": [
        ""
      ],
      "execution_count": null,
      "outputs": []
    },
    {
      "cell_type": "markdown",
      "metadata": {
        "id": "FJd_etKsZ1xW"
      },
      "source": [
        "# TASK 10\n",
        "Use the escape character `\\n` to print the following.\n",
        "\n",
        ">do"
      ]
    }
  ]
}