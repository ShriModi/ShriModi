{
  "nbformat": 4,
  "nbformat_minor": 0,
  "metadata": {
    "interpreter": {
      "hash": "fd61235da8d855c081cbd5d7c6398e4c179a40a950675235256f7f30499f1124"
    },
    "kernelspec": {
      "display_name": "Python 3.7.4 64-bit",
      "name": "python3"
    },
    "language_info": {
      "codemirror_mode": {
        "name": "ipython",
        "version": 3
      },
      "file_extension": ".py",
      "mimetype": "text/x-python",
      "name": "python",
      "nbconvert_exporter": "python",
      "pygments_lexer": "ipython3",
      "version": "3.7.4"
    },
    "orig_nbformat": 4,
    "colab": {
      "name": "printing_project.ipynb",
      "provenance": []
    }
  },
  "cells": [
    {
      "cell_type": "markdown",
      "metadata": {
        "id": "FhXSAdOShF2R"
      },
      "source": [
        "# Printing Project\n",
        "\n",
        "Below is a series of tasks to complete to help you understand how printing works"
      ]
    },
    {
      "cell_type": "markdown",
      "metadata": {
        "id": "W63dYLCUhF2V"
      },
      "source": [
        "# Task 1\n",
        "This task is fairly simple. All you need to do is print your name and your age."
      ]
    },
    {
      "cell_type": "code",
      "metadata": {
        "id": "JUP-UTTchF2W"
      },
      "source": [
        "# Code goes here"
      ],
      "execution_count": null,
      "outputs": []
    },
    {
      "cell_type": "markdown",
      "metadata": {
        "id": "WXCPOI15hF2X"
      },
      "source": [
        "# Task 2\n",
        "print your name and age using 2 print function arguments.\n",
        "<p><em>Remember, print statement arguments are separated by commas.</em></p>\n",
        "\n",
        "```python \n",
        "#expected output#\n",
        "\" 'your_name' 'your_age' \"\n",
        "```"
      ]
    },
    {
      "cell_type": "code",
      "metadata": {
        "id": "XZ-fStsvhF2X"
      },
      "source": [
        "# Code goes here"
      ],
      "execution_count": null,
      "outputs": []
    },
    {
      "cell_type": "markdown",
      "metadata": {
        "id": "EIes7a-vhF2Y"
      },
      "source": [
        "# Task 3\n",
        "print your name and age using 2 print function arguments, separated by a colon.\n",
        "\n",
        "```python \n",
        "#expected output#\n",
        "\" 'your_name':'your_age' \"\n",
        "```"
      ]
    },
    {
      "cell_type": "code",
      "metadata": {
        "id": "OlHzFHHAhF2Y"
      },
      "source": [
        "# Code goes here"
      ],
      "execution_count": null,
      "outputs": []
    },
    {
      "cell_type": "markdown",
      "metadata": {
        "id": "b9EGNcz1hF2Z"
      },
      "source": [
        "# Task 4\n",
        "print your favorite food and dessert separated by a colon.\n",
        "\n",
        "```python \n",
        "#expected output#\n",
        "\"my favorite food is 'your_food':'your_dessert' \"\n",
        "```"
      ]
    },
    {
      "cell_type": "code",
      "metadata": {
        "id": "AscviS5ohF2Z"
      },
      "source": [
        "# Code goes here"
      ],
      "execution_count": null,
      "outputs": []
    },
    {
      "cell_type": "markdown",
      "metadata": {
        "id": "dsWl4fgQhF2a"
      },
      "source": [
        "# Task 5\n",
        "Produce the following using separators.\n",
        "\n",
        "```python\n",
        "\"Wow I cant belive I am a: 'your_grade' in high school\"\n",
        "```\n"
      ]
    },
    {
      "cell_type": "code",
      "metadata": {
        "id": "XW3r_SnwhF2b"
      },
      "source": [
        "# Code goes here"
      ],
      "execution_count": null,
      "outputs": []
    },
    {
      "cell_type": "markdown",
      "metadata": {
        "id": "Bt3tV2aEhF2b"
      },
      "source": [
        "# Task 6\n",
        "Edit the code in order to print everything in a single line"
      ]
    },
    {
      "cell_type": "code",
      "metadata": {
        "id": "3bBQQZBYhF2b"
      },
      "source": [
        "# code goes here\n",
        "print(\"Bruh, how can I get this on one line 🤦🏾‍♀️\")\n",
        "var = \" Ohhh... thats how\"\n",
        "print(var)"
      ],
      "execution_count": null,
      "outputs": []
    },
    {
      "cell_type": "markdown",
      "metadata": {
        "id": "R6ZRn12ohF2c"
      },
      "source": [
        "# Task 7\n",
        "Edit the code to print the values using an f-string"
      ]
    },
    {
      "cell_type": "code",
      "metadata": {
        "id": "RMWRekhEhF2c"
      },
      "source": [
        "# Code goes here\n",
        "animal = 'Monkey'\n",
        "show = \"curious George\"\n",
        "print(\"How old is that\", animal, \"from\", show, \"?\")"
      ],
      "execution_count": null,
      "outputs": []
    },
    {
      "cell_type": "markdown",
      "metadata": {
        "id": "Z3DBTyLahF2c"
      },
      "source": [
        "# Task 8\n",
        "Use an f-string to print the name of your school, what grade you're in and your favorite thing for lunch\n",
        "\n",
        "```python \n",
        "#expected output#\n",
        "\"My name is 'your_name' and I am in 'your_grade'. My favorite thing for lunch is 'fav_lunch'.\"\n",
        "```"
      ]
    },
    {
      "cell_type": "code",
      "metadata": {
        "id": "VBEvSMbnhF2d"
      },
      "source": [
        "# Code goes here\n",
        "school = None\n",
        "grade = None\n",
        "fav_lunch = None"
      ],
      "execution_count": null,
      "outputs": []
    },
    {
      "cell_type": "markdown",
      "metadata": {
        "id": "5y70jqoZhF2d"
      },
      "source": [
        "# TASK 9\n",
        "Use the escape character `\\n` to print the following string.\n",
        "\n",
        "> If I had a million dollars\n",
        "\n",
        "> I'd spend it on `'What ever you would spend it on goes here'`"
      ]
    },
    {
      "cell_type": "code",
      "metadata": {
        "id": "nVs-vzuXhF2d"
      },
      "source": [
        "#TODO"
      ],
      "execution_count": null,
      "outputs": []
    },
    {
      "cell_type": "markdown",
      "metadata": {
        "id": "yNGs8aiuhF2e"
      },
      "source": [
        "# TASK 10\n",
        "Use the escape character `\\n` to print the following.\n",
        "\n",
        ">do"
      ]
    }
  ]
}