{
  "nbformat": 4,
  "nbformat_minor": 0,
  "metadata": {
    "interpreter": {
      "hash": "fd61235da8d855c081cbd5d7c6398e4c179a40a950675235256f7f30499f1124"
    },
    "kernelspec": {
      "display_name": "Python 3.7.4 64-bit ('base': conda)",
      "name": "python3"
    },
    "language_info": {
      "codemirror_mode": {
        "name": "ipython",
        "version": 3
      },
      "file_extension": ".py",
      "mimetype": "text/x-python",
      "name": "python",
      "nbconvert_exporter": "python",
      "pygments_lexer": "ipython3",
      "version": "3.7.4"
    },
    "orig_nbformat": 4,
    "colab": {
      "name": "in_class_demo.ipynb",
      "provenance": []
    }
  },
  "cells": [
    {
      "cell_type": "markdown",
      "metadata": {
        "id": "qvFMKYwFdarF"
      },
      "source": [
        "<style>\n",
        "    h1{\n",
        "        /* color: #A900FF; */\n",
        "        font-family: \"fira code\";\n",
        "    }\n",
        "</style> \n",
        "<h1>Variables</h1>\n",
        "Variables are like named containers that store data in memory and can be changed throughout the program. "
      ]
    },
    {
      "cell_type": "code",
      "metadata": {
        "id": "2v1DEsZ2darJ",
        "outputId": "ac53360c-9c2f-46de-bd38-29913b7efb0f",
        "colab": {
          "base_uri": "https://localhost:8080/"
        }
      },
      "source": [
        "#TODO: create a variable with the value of 25 and print it\n",
        "var = 25\n",
        "var"
      ],
      "execution_count": 15,
      "outputs": [
        {
          "output_type": "execute_result",
          "data": {
            "text/plain": [
              "25"
            ]
          },
          "metadata": {},
          "execution_count": 15
        }
      ]
    },
    {
      "cell_type": "markdown",
      "metadata": {
        "id": "lK1iW_rgdarL"
      },
      "source": [
        "<p style = \"font-size: 20px\"> In a computer, Memory is like a giant container that can store values and/or objects. Think of memory as being like lockers in a hallway. Each locker is assigned a number, and inside each locker there are objects like backpacks, or books, maybe even people. I won't judge yall for what u keep in there. The only information that I would need to access the contents of any given locker, is the value that it is assigned. </p>\n",
        "\n",
        "<p style = \"font-size: 20px\"> Memory or RAM, works the same way. Each \"cell\" in memory is associated with a unique number, which is called a memory address. When a computer wants to read/write data to memory, all it needs to know is the address of the cell that it's storing the data in. </p>\n",
        "\n",
        "**In Python, we can view a object or values memory address by using the `id()` method**"
      ]
    },
    {
      "cell_type": "code",
      "metadata": {
        "id": "xvkO1QRrdarL",
        "outputId": "88ae5e40-8ecb-49b8-934d-2cf7f4e0da90",
        "colab": {
          "base_uri": "https://localhost:8080/",
          "height": 37
        }
      },
      "source": [
        "#TODO: print the memory address of the literal value 25 and 'var'\n",
        "hex(id(var))"
      ],
      "execution_count": 4,
      "outputs": [
        {
          "output_type": "execute_result",
          "data": {
            "application/vnd.google.colaboratory.intrinsic+json": {
              "type": "string"
            },
            "text/plain": [
              "'0x56221e1f2d00'"
            ]
          },
          "metadata": {},
          "execution_count": 4
        }
      ]
    },
    {
      "cell_type": "markdown",
      "metadata": {
        "id": "uz66Vg3adarL"
      },
      "source": [
        "All Memory addresses are unique, but if two variabes reference the same value in memory, then they will share memory addresses.\n",
        "\n",
        "<p style = \"font-size: 15px\"> This is like two people sharing a locker. </p>"
      ]
    },
    {
      "cell_type": "code",
      "metadata": {
        "id": "vB6EqO_zdarM",
        "outputId": "897bc939-7fe4-4530-9900-4fe77b98ff3c",
        "colab": {
          "base_uri": "https://localhost:8080/"
        }
      },
      "source": [
        "var = 10\n",
        "var2 = var\n",
        "message = \"hello\"\n",
        "\n",
        "print(id(10), \"this is the memory address\")\n",
        "print(id(var), \"memory address of the value 10\")\n",
        "print(id(var2), \"memory address of var 2\")\n",
        "print (id(message), \"memory address of message\")"
      ],
      "execution_count": 9,
      "outputs": [
        {
          "output_type": "stream",
          "name": "stdout",
          "text": [
            "94704534235936 this is the memory address\n",
            "94704534235936 memory address of the value 10\n",
            "94704534235936 memory address of var 2\n",
            "140009073258800 memory address of message\n"
          ]
        }
      ]
    },
    {
      "cell_type": "markdown",
      "metadata": {
        "id": "70UMaEBudarM"
      },
      "source": [
        "<img src = \"memory.png\" width = 700 height = 400>"
      ]
    },
    {
      "cell_type": "markdown",
      "metadata": {
        "id": "yvwraPDmdarN"
      },
      "source": [
        "------------------------------\n",
        "# Variable assignment and Manipulation\n",
        "\n",
        "<p style = \"font-size: 15px\"> You assign a value to a variable by using the equals sign. </p>\n",
        "\n",
        "<p style = \"font-size: 15px\"> Python is a type-inffered language so you dont need to explicitly define the variable type. If you change the value of the variable later in the program, it can be of a different type, however, this can cause errors if you're not careful. </p>"
      ]
    },
    {
      "cell_type": "code",
      "metadata": {
        "id": "9xbGGrGAdarN",
        "outputId": "fb8aa44e-aae4-4e97-8a00-40b04c1f7656",
        "colab": {
          "base_uri": "https://localhost:8080/"
        }
      },
      "source": [
        "# assigning a value to a variable then change the value\n",
        "\n",
        "#TODO: Assign an int to var\n",
        "bob = 100\n",
        "print(bob)\n",
        "#TODO: Assign a new int value to var\n",
        "bob = 3070\n",
        "print(bob)"
      ],
      "execution_count": 14,
      "outputs": [
        {
          "output_type": "stream",
          "name": "stdout",
          "text": [
            "100\n",
            "3070\n"
          ]
        }
      ]
    },
    {
      "cell_type": "code",
      "metadata": {
        "id": "aKkW8E3RdarO",
        "outputId": "01daa109-7184-4286-eae7-fe929513f57c",
        "colab": {
          "base_uri": "https://localhost:8080/"
        }
      },
      "source": [
        "# assigning a value to a variable then changing its type\n",
        "#TODO: assign an int to var\n",
        "alex = 600\n",
        "print(alex)\n",
        "#TODO: assign a string to var\n",
        "alex = \"string\"\n",
        "print(alex)"
      ],
      "execution_count": 18,
      "outputs": [
        {
          "output_type": "stream",
          "name": "stdout",
          "text": [
            "600\n",
            "string\n"
          ]
        }
      ]
    },
    {
      "cell_type": "markdown",
      "metadata": {
        "id": "haacxi_hdarO"
      },
      "source": [
        "**you can also assign multiple values to multiple variables at the same time**"
      ]
    },
    {
      "cell_type": "code",
      "metadata": {
        "id": "zVtl5XQNdarO",
        "outputId": "8e95049a-859e-4e1b-acac-9a280f450109",
        "colab": {
          "base_uri": "https://localhost:8080/"
        }
      },
      "source": [
        "#TODO: create the variables x y and z and assign different values to them simultaneously.\n",
        "x, y, z= 12, 15 ,-98\n",
        "print (x, z, y)"
      ],
      "execution_count": 22,
      "outputs": [
        {
          "output_type": "stream",
          "name": "stdout",
          "text": [
            "12 -98 15\n"
          ]
        }
      ]
    },
    {
      "cell_type": "markdown",
      "metadata": {
        "id": "5X1JDvqVdarP"
      },
      "source": [
        "----------------------\n",
        "# Variables Key Ideas\n",
        "* variables are containers that hold data\n",
        "* the data that variables can hold may change throughout the program\n",
        "* you can create multiple variables at the same time\n",
        "\n",
        "Now that we know what variables are, lets talk about the type of data they can hold."
      ]
    },
    {
      "cell_type": "markdown",
      "metadata": {
        "id": "Lcug_OwjdarP"
      },
      "source": [
        "-----------\n",
        "# Data Types\n",
        "A data type is a description of what type of data you're working with.\n",
        "\n",
        "All values in python have a data type and the type of data allows for different types of operations.\n",
        "\n",
        "\n",
        "# Numbers\n",
        "In python numbers come in 3 flavors \n",
        "\n",
        "* **Integers**, which are any positive or negative whole number.\n",
        "* **Floats**, which are any positive or negative number with a fractional part\n",
        "* **Complex numbers**, which are specified as real_part + imaginary_part, where the imaginary_part is written with a j or J."
      ]
    },
    {
      "cell_type": "code",
      "metadata": {
        "id": "F6MddMxWdarQ"
      },
      "source": [
        "Integer = 4\n",
        "Integer = 30\n",
        "Integer = -64\n",
        "Integer = 23555431588754\n",
        "\n",
        "Float = 4.0\n",
        "Float = 35.87\n",
        "Float = -842.555734\n",
        "Float = 3.141592653589793\n",
        "\n",
        "Complex = 1j\n",
        "Complex = 43 + 2j\n",
        "Complex = -3 + 10j"
      ],
      "execution_count": null,
      "outputs": []
    },
    {
      "cell_type": "markdown",
      "metadata": {
        "id": "hWRCUvJ8darQ"
      },
      "source": [
        "# The `type()` funtion\n",
        "This method is useful for inspecting the type of an object. A type is simply a description of the category of data being worked with.\n",
        "\n",
        "**Check the data type of an object by putting the object/variable indide of the `type` functions arguments**"
      ]
    },
    {
      "cell_type": "code",
      "metadata": {
        "id": "Vv0BB6vKdarR",
        "outputId": "daf9f74d-e65d-4180-eed0-e4e95762d420",
        "colab": {
          "base_uri": "https://localhost:8080/"
        }
      },
      "source": [
        "# use the type function to inspect a variables type\n",
        "\n",
        "var = 4555854 # what is the type?\n",
        "print(type(var))\n",
        "\n",
        "var = 45.2544558 # what is the type?\n",
        "#TODO: Print the variables type\n",
        "print(type(var))\n",
        "var = 4j + 56 # what is the type?\n",
        "#TODO: Print the variables type\n",
        "print(type(var))"
      ],
      "execution_count": 23,
      "outputs": [
        {
          "output_type": "stream",
          "name": "stdout",
          "text": [
            "<class 'int'>\n",
            "<class 'float'>\n",
            "<class 'complex'>\n"
          ]
        }
      ]
    },
    {
      "cell_type": "markdown",
      "metadata": {
        "id": "Lj4hEUnJdarR"
      },
      "source": [
        "# Strings\n",
        "Strings are used to represent text, or more technically, a sequence of Unicode characters. Strings are denoted using either single ('') or double (\"\") qutoes."
      ]
    },
    {
      "cell_type": "code",
      "metadata": {
        "id": "01bJfes8darS",
        "outputId": "1bd778d0-1283-4ee3-8c8f-4b193fb3f9b9",
        "colab": {
          "base_uri": "https://localhost:8080/"
        }
      },
      "source": [
        "#TODO: creating strings\n",
        "strvar = \"I am a double quoted string\"\n",
        "strvar2 = \"I am a single quoted string\"\n",
        "print(type(strvar))\n",
        "print(type(strvar2))"
      ],
      "execution_count": 28,
      "outputs": [
        {
          "output_type": "stream",
          "name": "stdout",
          "text": [
            "<class 'str'>\n",
            "<class 'str'>\n"
          ]
        }
      ]
    },
    {
      "cell_type": "markdown",
      "metadata": {
        "id": "RAm9cc0pdarS"
      },
      "source": [
        "# Strings and Indexing\n",
        "Because strings are a sequence of characters, you can select parts of a string by using an index.\n",
        "\n",
        "<em style = \"color: #6F69AC\">An index is a numerical representation of an item's position in a sequence.</em>\n",
        "\n",
        "In most programming languages, python included, index values start at 0. Since they start at zero, the last index value will be equal to the length of the sequence minus 1. \n",
        "\n",
        "<img src =\"strings.png\" width = \"700\" height = \"400\">\n",
        "\n",
        "<em><b>You will learn more about indexing in the lists module</b></em>"
      ]
    },
    {
      "cell_type": "code",
      "metadata": {
        "id": "wfC6sQBvdarS",
        "outputId": "69e0b108-2229-496b-8309-e79c7e817c3e",
        "colab": {
          "base_uri": "https://localhost:8080/",
          "height": 37
        }
      },
      "source": [
        "word = \"Python\"\n",
        "#TODO: Print the first character in the string\n",
        "word[0]"
      ],
      "execution_count": 30,
      "outputs": [
        {
          "output_type": "execute_result",
          "data": {
            "application/vnd.google.colaboratory.intrinsic+json": {
              "type": "string"
            },
            "text/plain": [
              "'n'"
            ]
          },
          "metadata": {},
          "execution_count": 30
        }
      ]
    },
    {
      "cell_type": "code",
      "metadata": {
        "id": "SWy_vDPpdarT"
      },
      "source": [
        "word = \"Python\"\n",
        "#TODO: print the last character in the string\n",
        "word[5]"
      ],
      "execution_count": null,
      "outputs": []
    },
    {
      "cell_type": "markdown",
      "metadata": {
        "id": "usZGpchMdarT"
      },
      "source": [
        "## The len() function\n",
        "The len() function is used to find the length of a sequence. It returns the total number of items present in a sequence, making it a useful tool when working with sequences."
      ]
    },
    {
      "cell_type": "code",
      "metadata": {
        "id": "mEHsnLdJdarT",
        "outputId": "a7792ab8-d066-47ae-bb1a-74f395dad3e0",
        "colab": {
          "base_uri": "https://localhost:8080/"
        }
      },
      "source": [
        "word = 'Washburn'\n",
        "#TODO: print the length of the string\n",
        "len(word)"
      ],
      "execution_count": 31,
      "outputs": [
        {
          "output_type": "execute_result",
          "data": {
            "text/plain": [
              "8"
            ]
          },
          "metadata": {},
          "execution_count": 31
        }
      ]
    },
    {
      "cell_type": "code",
      "metadata": {
        "id": "phMmo8CmdarU",
        "outputId": "740d367e-8b4b-412f-c25e-3334dd52ba32",
        "colab": {
          "base_uri": "https://localhost:8080/"
        }
      },
      "source": [
        "# using the len function to return the last value in a sequence \n",
        "seq = \"I am a sequence 😊\"\n",
        "\n",
        "# remember, sequences start at index 0, so the last index is -> (the length of the sequence - 1)\n",
        "index = len(seq) - 1\n",
        "\n",
        "print(len(seq))\n",
        "print(index)\n",
        "print(seq[index])\n"
      ],
      "execution_count": 34,
      "outputs": [
        {
          "output_type": "stream",
          "name": "stdout",
          "text": [
            "17\n",
            "16\n",
            "😊\n"
          ]
        }
      ]
    },
    {
      "cell_type": "markdown",
      "metadata": {
        "id": "PO2u9C0SdarU"
      },
      "source": [
        "## Strings are Immutable\n",
        "When a data type is immutable, that means that you can't change its values once it has been created. \n",
        "\n",
        "For example, if we create the string 'hello' and try to change the first character to a j so we can change it to 'jello', python will throw us an error."
      ]
    },
    {
      "cell_type": "code",
      "metadata": {
        "id": "6BnMGaYzdarU",
        "outputId": "90ba6926-b304-4f9c-d921-39d563185162",
        "colab": {
          "base_uri": "https://localhost:8080/",
          "height": 37
        }
      },
      "source": [
        "var = \"hello\"\n",
        "var = var + \" hello world\"\n",
        "var"
      ],
      "execution_count": 38,
      "outputs": [
        {
          "output_type": "execute_result",
          "data": {
            "application/vnd.google.colaboratory.intrinsic+json": {
              "type": "string"
            },
            "text/plain": [
              "'hello hello world'"
            ]
          },
          "metadata": {},
          "execution_count": 38
        }
      ]
    },
    {
      "cell_type": "markdown",
      "metadata": {
        "id": "qQZMj3sBdarV"
      },
      "source": [
        "## String concatenation\n",
        "**Concatenations means: The action of linking things together.**\n",
        "\n",
        "In python, we can concatenate strings by using the addition operator (+). "
      ]
    },
    {
      "cell_type": "code",
      "metadata": {
        "id": "O7kQRrCOdarV",
        "outputId": "84f02e49-4441-4fc4-e16d-a93e1b3fec61",
        "colab": {
          "base_uri": "https://localhost:8080/",
          "height": 37
        }
      },
      "source": [
        "#TODO: Concatenate two strings and print the result\n",
        "\"hello\" + \" harper\""
      ],
      "execution_count": 39,
      "outputs": [
        {
          "output_type": "execute_result",
          "data": {
            "application/vnd.google.colaboratory.intrinsic+json": {
              "type": "string"
            },
            "text/plain": [
              "'hello harper'"
            ]
          },
          "metadata": {},
          "execution_count": 39
        }
      ]
    },
    {
      "cell_type": "code",
      "metadata": {
        "id": "0vfSw0qTdarV",
        "outputId": "262d3237-4564-49a9-c1b2-1482350315b1",
        "colab": {
          "base_uri": "https://localhost:8080/",
          "height": 37
        }
      },
      "source": [
        "var1 = \"I am\"\n",
        "var2 = \" the goat\"\n",
        "var3 = var1 + var2\n",
        "var3"
      ],
      "execution_count": 40,
      "outputs": [
        {
          "output_type": "execute_result",
          "data": {
            "application/vnd.google.colaboratory.intrinsic+json": {
              "type": "string"
            },
            "text/plain": [
              "'I am the goat'"
            ]
          },
          "metadata": {},
          "execution_count": 40
        }
      ]
    },
    {
      "cell_type": "code",
      "metadata": {
        "id": "xfWPr2dwdarV",
        "outputId": "127fab07-3a53-46e6-f0fc-39c35d700bfb",
        "colab": {
          "base_uri": "https://localhost:8080/"
        }
      },
      "source": [
        "var = \"I am a string variable\"\n",
        "message = var + \" I am a literal string\"\n",
        "print(message)"
      ],
      "execution_count": 41,
      "outputs": [
        {
          "output_type": "stream",
          "name": "stdout",
          "text": [
            "I am a string variable I am a literal string\n"
          ]
        }
      ]
    },
    {
      "cell_type": "markdown",
      "metadata": {
        "id": "RTYcQ2cLdarW"
      },
      "source": [
        "# Lists\n",
        "A list is a sequence of items separated by commas.\n",
        "<hr>\n",
        "\n",
        "### Creating Lists\n",
        "A list is created by putting elements within square brackets [] separated by commas.\n",
        "```python\n",
        "var = [1,2,3,4]\n",
        "```\n",
        "\n",
        "**You can also add elements of different types to a list, including other lists**\n",
        "```python\n",
        "var = [1, 2, 'list with string', 4.32, [5,4,3,2]]\n",
        "```\n",
        "\n",
        "Lists, like strings, are sequences meaning their elements are accessed using an index. \n",
        "\n",
        "**Remember:**<em> An index is a numerical representation of an item's position in a sequence. The index of the first item in a sequence always starts at 0</em>"
      ]
    },
    {
      "cell_type": "code",
      "metadata": {
        "id": "6WX3rjILdarW",
        "outputId": "2af23445-6742-4736-8233-109a65493ab6",
        "colab": {
          "base_uri": "https://localhost:8080/"
        }
      },
      "source": [
        "# creation of a list \n",
        "var = [10, 20, 30, 40, 50]\n",
        "\n",
        "print (var[0])\n",
        "print (var[2])\n",
        "print (var[4])"
      ],
      "execution_count": 44,
      "outputs": [
        {
          "output_type": "stream",
          "name": "stdout",
          "text": [
            "10\n",
            "30\n",
            "50\n"
          ]
        }
      ]
    },
    {
      "cell_type": "markdown",
      "metadata": {
        "id": "OvG5vbj7darX"
      },
      "source": [
        "## Lists are Mutable\n",
        "You can change the values of elements in a list by indicating the index of the value you want to change, and assigning the new value to that index."
      ]
    },
    {
      "cell_type": "code",
      "metadata": {
        "id": "OXqBznW3darZ",
        "outputId": "6f2d9a89-dbe3-41dc-ec4e-a4709b5021c2",
        "colab": {
          "base_uri": "https://localhost:8080/"
        }
      },
      "source": [
        "# changing list elements\n",
        "var = [1, 2, 3, 4, 5]\n",
        "print(f\"List before editing: {var}\")\n",
        "\n",
        "\n",
        "var[2] = 30\n",
        "print(f\"List after editing: {var}\")\n"
      ],
      "execution_count": 66,
      "outputs": [
        {
          "output_type": "stream",
          "name": "stdout",
          "text": [
            "List before editing: [1, 2, 3, 4, 5]\n",
            "List after editing: [1, 2, 30, 4, 5]\n"
          ]
        }
      ]
    },
    {
      "cell_type": "markdown",
      "metadata": {
        "id": "emoQ_0ozdarZ"
      },
      "source": [
        "## Adding new elements to a list\n",
        "The list object has a method called `append()`. This method instructs python to add new values to the end of a list."
      ]
    },
    {
      "cell_type": "code",
      "metadata": {
        "id": "XWRFlA12dara",
        "outputId": "5c03c73d-4377-43ec-bed4-fdaf44477afa",
        "colab": {
          "base_uri": "https://localhost:8080/"
        }
      },
      "source": [
        "print (var)\n",
        "var.append(100)\n",
        "print (var)\n",
        "var.append([70, 23424, 234])\n",
        "print(var)"
      ],
      "execution_count": 67,
      "outputs": [
        {
          "output_type": "stream",
          "name": "stdout",
          "text": [
            "[1, 2, 30, 4, 5]\n",
            "[1, 2, 30, 4, 5, 100]\n",
            "[1, 2, 30, 4, 5, 100, [70, 23424, 234]]\n"
          ]
        }
      ]
    },
    {
      "cell_type": "markdown",
      "metadata": {
        "id": "NrgOE-h9dara"
      },
      "source": [
        "# Mutable vs. Immutable data types \n",
        "* **Mutable** - Has the ability to change, or mutate.\n",
        "* **Immutable** - Does not have the ability to change, or mutate.\n",
        "\n",
        "Data types that are mutable **are allowed** to have their values changed throughout the program. \n",
        "-----\n",
        "\n",
        "> <p style = \"color:#D36582\"><b>Imagine Mutable data types as going to a class where you don't have assigned seats. Since there was no seat assignment from the start, you are allowed to change your seat anytime during the year.</b></p>\n",
        "\n",
        "<br><br>\n",
        "\n",
        "Data types that are immutable **aren't allowed** to have their values changed throughout the program.\n",
        "----\n",
        "> <p style = \"color:#D36582\"><b>Imagine Immutable data types as going to a class where you do have assigned seats. Since there was a specific seating arrangement from the start, that seating arrangement stays the same throughout the year.</b></p>\n",
        "\n",
        "### **Lets look at an immutable data type to get a better understanding of this**\n",
        "\n",
        "-----------------\n",
        "# Tuples \n",
        "A tuple is like a list, in that it is a sequence of elements. However, once a tuple is created, it never changes. \n",
        "\n",
        "Tuples are created by putting elements inside of parenthesis ().\n",
        "\n",
        "**<em>All of these concepts will be explored further in the data structures and methods section</em>**"
      ]
    },
    {
      "cell_type": "code",
      "metadata": {
        "id": "zk4fyc6sdarb",
        "outputId": "26c535bc-9eb8-4cd8-bbc6-295b17d23629",
        "colab": {
          "base_uri": "https://localhost:8080/"
        }
      },
      "source": [
        "# TODO: create a 4 element tuple and print the variable\n",
        "var = (1, 2, 3 ,4)\n",
        "print(var)\n",
        "print(type(var))"
      ],
      "execution_count": 68,
      "outputs": [
        {
          "output_type": "stream",
          "name": "stdout",
          "text": [
            "(1, 2, 3, 4)\n",
            "<class 'tuple'>\n"
          ]
        }
      ]
    },
    {
      "cell_type": "code",
      "metadata": {
        "id": "131LHtCmdarb",
        "outputId": "552686fb-ae9a-4ad5-af92-d9cb871845d3",
        "colab": {
          "base_uri": "https://localhost:8080/"
        }
      },
      "source": [
        "# TODO: Create a tuple with a string, float, list and integer\n",
        "var = (1, 2, [52, 7], True, False)\n",
        "print(var)  \n",
        "print(type(var))"
      ],
      "execution_count": 75,
      "outputs": [
        {
          "output_type": "stream",
          "name": "stdout",
          "text": [
            "(1, 2, [52, 7], True, False)\n",
            "<class 'tuple'>\n"
          ]
        }
      ]
    },
    {
      "cell_type": "code",
      "metadata": {
        "id": "W4bNVvFYdarb",
        "outputId": "94a13afb-4536-443d-edd4-cad022934ec2",
        "colab": {
          "base_uri": "https://localhost:8080/"
        }
      },
      "source": [
        "True or False"
      ],
      "execution_count": 82,
      "outputs": [
        {
          "output_type": "execute_result",
          "data": {
            "text/plain": [
              "True"
            ]
          },
          "metadata": {},
          "execution_count": 82
        }
      ]
    },
    {
      "cell_type": "code",
      "metadata": {
        "id": "jXYRDvRWdarc"
      },
      "source": [
        "var = (1, 2, 3, 4)\n",
        "# TODO: try to change the first element in the tuple\n"
      ],
      "execution_count": null,
      "outputs": []
    }
  ]
}