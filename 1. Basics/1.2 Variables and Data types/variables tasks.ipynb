{
  "nbformat": 4,
  "nbformat_minor": 0,
  "metadata": {
    "interpreter": {
      "hash": "fd61235da8d855c081cbd5d7c6398e4c179a40a950675235256f7f30499f1124"
    },
    "kernelspec": {
      "display_name": "Python 3.7.4 64-bit ('base': conda)",
      "name": "python3"
    },
    "language_info": {
      "codemirror_mode": {
        "name": "ipython",
        "version": 3
      },
      "file_extension": ".py",
      "mimetype": "text/x-python",
      "name": "python",
      "nbconvert_exporter": "python",
      "pygments_lexer": "ipython3",
      "version": "3.7.4"
    },
    "orig_nbformat": 4,
    "colab": {
      "name": "variables tasks.ipynb",
      "provenance": []
    }
  },
  "cells": [
    {
      "cell_type": "markdown",
      "metadata": {
        "id": "2aMpY907w7I9"
      },
      "source": [
        "# Variable Exercises"
      ]
    },
    {
      "cell_type": "markdown",
      "metadata": {
        "id": "kBurDGWiw7I-"
      },
      "source": [
        "## Task 1\n",
        "<b>Create a numeric variable and print out its memory address</b>\n",
        "\n",
        "***You print memory addresses using the id() function***"
      ]
    },
    {
      "cell_type": "code",
      "metadata": {
        "id": "UNn1rHfXw7I_",
        "outputId": "e43dc9fa-d1cc-4ada-82f3-4ace828787fa",
        "colab": {
          "base_uri": "https://localhost:8080/"
        }
      },
      "source": [
        "var = 12\n",
        "print(id(var))"
      ],
      "execution_count": 1,
      "outputs": [
        {
          "output_type": "stream",
          "name": "stdout",
          "text": [
            "94101772487520\n"
          ]
        }
      ]
    },
    {
      "cell_type": "markdown",
      "metadata": {
        "id": "vtq9x4eFw7JA"
      },
      "source": [
        "## Task 2\n",
        "<b>Create a variable of type string and print out its value, then reassign a value of type float to the same variable and printout its value</b>"
      ]
    },
    {
      "cell_type": "code",
      "metadata": {
        "id": "RaSqpavaw7JA",
        "outputId": "976b93ad-eab5-47a7-8877-b9e4bc17935d",
        "colab": {
          "base_uri": "https://localhost:8080/"
        }
      },
      "source": [
        "var2 = \"joe\"\n",
        "print (var2)\n",
        "var2 = 12\n",
        "print (var2)"
      ],
      "execution_count": 2,
      "outputs": [
        {
          "output_type": "stream",
          "name": "stdout",
          "text": [
            "joe\n",
            "12\n"
          ]
        }
      ]
    },
    {
      "cell_type": "markdown",
      "metadata": {
        "id": "oOWqu8a_w7JA"
      },
      "source": [
        "## Task 3\n",
        "<b>Assign values of different types to each of the following variables and print out their types</b>"
      ]
    },
    {
      "cell_type": "code",
      "metadata": {
        "id": "cMdkSOEgw7JB",
        "outputId": "8d9c48db-2542-4d0d-90a8-4ba6fda96e95",
        "colab": {
          "base_uri": "https://localhost:8080/"
        }
      },
      "source": [
        "# Code goes here\n",
        "var1, var2, var3 = 12, \"hi\", 4j\n",
        "print(type(var1))\n",
        "print(type(var2))\n",
        "print(type(var3))"
      ],
      "execution_count": 3,
      "outputs": [
        {
          "output_type": "stream",
          "name": "stdout",
          "text": [
            "<class 'int'>\n",
            "<class 'str'>\n",
            "<class 'complex'>\n"
          ]
        }
      ]
    },
    {
      "cell_type": "markdown",
      "metadata": {
        "id": "cEMQHGzTw7JB"
      },
      "source": [
        "------------------\n",
        "# String Exercises"
      ]
    },
    {
      "cell_type": "markdown",
      "metadata": {
        "id": "3Xda-UTSw7JB"
      },
      "source": [
        "## Task 1\n",
        "<b>Create a string and print the first character</b>"
      ]
    },
    {
      "cell_type": "code",
      "metadata": {
        "id": "UoLndZUKw7JC",
        "outputId": "369b51db-ea00-4ef1-f3a0-d9aca5c22131",
        "colab": {
          "base_uri": "https://localhost:8080/"
        }
      },
      "source": [
        "string = \"this is a string\"\n",
        "print (string[0])"
      ],
      "execution_count": 4,
      "outputs": [
        {
          "output_type": "stream",
          "name": "stdout",
          "text": [
            "t\n"
          ]
        }
      ]
    },
    {
      "cell_type": "markdown",
      "metadata": {
        "id": "BkFtnpULw7JC"
      },
      "source": [
        "## Task 2\n",
        "<b>In your own words, describe what is meant by an index</b>"
      ]
    },
    {
      "cell_type": "code",
      "metadata": {
        "id": "F0ilRnD_w7JC"
      },
      "source": [
        "# Response goes here\n",
        "# \n",
        "# An index is ... a item used to assign numbers to each part of a value"
      ],
      "execution_count": 5,
      "outputs": []
    },
    {
      "cell_type": "markdown",
      "metadata": {
        "id": "j6E-3f2Aw7JD"
      },
      "source": [
        "## Task 3\n",
        "<b>Create a string and print out the last character (without using the len() function)</b>"
      ]
    },
    {
      "cell_type": "code",
      "metadata": {
        "id": "i76Gs70lw7JD",
        "outputId": "5681c89c-4541-4a12-c673-902544f4acb9",
        "colab": {
          "base_uri": "https://localhost:8080/"
        }
      },
      "source": [
        "# Code goes here\n",
        "string = \"programming is hard\"\n",
        "print (string[-1])"
      ],
      "execution_count": 10,
      "outputs": [
        {
          "output_type": "stream",
          "name": "stdout",
          "text": [
            "d\n"
          ]
        }
      ]
    },
    {
      "cell_type": "markdown",
      "metadata": {
        "id": "hGEqflVJw7JE"
      },
      "source": [
        "## Task 4\n",
        "<b>Create a string and print out the last character using the len() function</b>"
      ]
    },
    {
      "cell_type": "code",
      "metadata": {
        "id": "f66JdQpAw7JE",
        "outputId": "d3941846-1d11-47ca-ac22-c6465f9e0bff",
        "colab": {
          "base_uri": "https://localhost:8080/"
        }
      },
      "source": [
        "# Code goes here\n",
        "string = \"this is more code\"\n",
        "var92 = len(string) - 1\n",
        "print (string[var92])"
      ],
      "execution_count": 12,
      "outputs": [
        {
          "output_type": "stream",
          "name": "stdout",
          "text": [
            "e\n"
          ]
        }
      ]
    },
    {
      "cell_type": "markdown",
      "metadata": {
        "id": "wMKURcSXw7JE"
      },
      "source": [
        "## Task 5\n",
        "<b> Print the first, middle, and last character of the string, as well as its length</b>"
      ]
    },
    {
      "cell_type": "code",
      "metadata": {
        "id": "fBQijq8Aw7JF",
        "outputId": "2e5d48b8-3927-48c2-c039-d3660c811308",
        "colab": {
          "base_uri": "https://localhost:8080/"
        }
      },
      "source": [
        "# Code goes here\n",
        "var = \"Directing\"\n",
        "var72 = len(var) - 1\n",
        "print (var72)\n",
        "print (var[0])\n",
        "print (var[4])\n",
        "print (var[-1])"
      ],
      "execution_count": 14,
      "outputs": [
        {
          "output_type": "stream",
          "name": "stdout",
          "text": [
            "8\n",
            "D\n",
            "c\n",
            "g\n"
          ]
        }
      ]
    },
    {
      "cell_type": "markdown",
      "metadata": {
        "id": "tktTybnFw7JF"
      },
      "source": [
        "## Task 6\n",
        "<b> Create two string variables and concatenate (combine) them to create a new variable called message, then print the message.</b>"
      ]
    },
    {
      "cell_type": "code",
      "metadata": {
        "id": "9C3Rkiprw7JF",
        "outputId": "913a2181-720c-4c0e-db1e-432e29c41b59",
        "colab": {
          "base_uri": "https://localhost:8080/"
        }
      },
      "source": [
        "# Code goes here\n",
        "var1, var2 = \"Hi my name is\", \" Harper\"\n",
        "print (var1+var2)"
      ],
      "execution_count": 16,
      "outputs": [
        {
          "output_type": "stream",
          "name": "stdout",
          "text": [
            "Hi my name is Harper\n"
          ]
        }
      ]
    },
    {
      "cell_type": "markdown",
      "metadata": {
        "id": "D8CyvgvEw7JG"
      },
      "source": [
        "-------------------\n",
        "# Lists and Tuple Exercises"
      ]
    },
    {
      "cell_type": "markdown",
      "metadata": {
        "id": "HamUV97ww7JG"
      },
      "source": [
        "## Task 1\n",
        "<b> Create a 5 element list and print out its length</b>"
      ]
    },
    {
      "cell_type": "code",
      "metadata": {
        "id": "Z5g1P7vMw7JG",
        "outputId": "b659334c-4e43-4013-9f28-a041e19c251e",
        "colab": {
          "base_uri": "https://localhost:8080/"
        }
      },
      "source": [
        "var62 = [1,2,2,6, 9578346537949]\n",
        "print(len(var62))"
      ],
      "execution_count": 21,
      "outputs": [
        {
          "output_type": "stream",
          "name": "stdout",
          "text": [
            "5\n"
          ]
        }
      ]
    },
    {
      "cell_type": "markdown",
      "metadata": {
        "id": "2-vzQqcbw7JG"
      },
      "source": [
        "## Task 2\n",
        "<b> create a 5 element list of integers then print the list. Next, change the first and last elements then print the list</b>"
      ]
    },
    {
      "cell_type": "code",
      "metadata": {
        "id": "Y-iBMmitw7JH",
        "outputId": "859d1fe8-3aa8-4fc6-a065-444aea6c30b3",
        "colab": {
          "base_uri": "https://localhost:8080/"
        }
      },
      "source": [
        "moab = [1,2,3,4,5]\n",
        "print (moab)\n",
        "moab[0] = 3\n",
        "moab[4] = 3\n",
        "print (moab)"
      ],
      "execution_count": 24,
      "outputs": [
        {
          "output_type": "stream",
          "name": "stdout",
          "text": [
            "[1, 2, 3, 4, 5]\n",
            "[3, 2, 3, 4, 3]\n"
          ]
        }
      ]
    },
    {
      "cell_type": "markdown",
      "metadata": {
        "id": "C2RW3PoHw7JH"
      },
      "source": [
        "## Task 3\n",
        "<b> create a 3 element list where each element is a diffrent type, then print out the type of each element</b>"
      ]
    },
    {
      "cell_type": "code",
      "metadata": {
        "id": "DtIJ1r5Iw7JH",
        "outputId": "6cb0fd0d-c526-46d3-8aa8-28f8350bf59b",
        "colab": {
          "base_uri": "https://localhost:8080/"
        }
      },
      "source": [
        "gotte = [12,5j,\"Hi\"]\n",
        "print (gotte[2])\n",
        "print (gotte[0])\n",
        "print (gotte[1])"
      ],
      "execution_count": 25,
      "outputs": [
        {
          "output_type": "stream",
          "name": "stdout",
          "text": [
            "Hi\n",
            "12\n",
            "5j\n"
          ]
        }
      ]
    },
    {
      "cell_type": "markdown",
      "metadata": {
        "id": "FzQlqMWkw7JH"
      },
      "source": [
        "## Task 4\n",
        "<b> Create a 5 element tuple of floats, then print out the middle value</b>"
      ]
    },
    {
      "cell_type": "code",
      "metadata": {
        "id": "kr5mCLpAw7JI",
        "outputId": "dd43336f-0915-431c-b8ff-f6c9e9c8514b",
        "colab": {
          "base_uri": "https://localhost:8080/"
        }
      },
      "source": [
        "bruh = [1.1,1.2,1.9,22.8,7.000001]\n",
        "print(bruh[2])"
      ],
      "execution_count": 27,
      "outputs": [
        {
          "output_type": "stream",
          "name": "stdout",
          "text": [
            "1.9\n"
          ]
        }
      ]
    },
    {
      "cell_type": "markdown",
      "metadata": {
        "id": "v2Jm5HKYw7JI"
      },
      "source": [
        "## Task 5\n",
        "<b>The following code produces an error. Change the data type so that the error gets fixed</b>"
      ]
    },
    {
      "cell_type": "code",
      "metadata": {
        "id": "H5D40x5xw7JI",
        "outputId": "bffc68b5-9bce-4173-cf87-f6647a537e07",
        "colab": {
          "base_uri": "https://localhost:8080/"
        }
      },
      "source": [
        "# Solution goes here\n",
        "var = ['This', \"is\", \"a\", \"tuple\"]\n",
        "var[3] = 'list'\n",
        "print(var)"
      ],
      "execution_count": 36,
      "outputs": [
        {
          "output_type": "stream",
          "name": "stdout",
          "text": [
            "['This', 'is', 'a', 'list']\n"
          ]
        }
      ]
    },
    {
      "cell_type": "markdown",
      "metadata": {
        "id": "NhPxXBkXw7JJ"
      },
      "source": [
        "## TASK 6\n",
        "**Create a list of numbers then append the values 10, 15, and 20 to the list**"
      ]
    },
    {
      "cell_type": "code",
      "metadata": {
        "id": "7a0SGLlbw7JJ",
        "outputId": "a7e0cfc1-72b2-4f7f-db82-e50bc39e4691",
        "colab": {
          "base_uri": "https://localhost:8080/"
        }
      },
      "source": [
        "bruh2 = [1,2,3]\n",
        "print (bruh2)\n",
        "bruh2.append (10)\n",
        "print (bruh2)\n",
        "bruh2.append (15)\n",
        "print (bruh2)\n",
        "bruh2.append (20)\n",
        "print (bruh2)"
      ],
      "execution_count": 33,
      "outputs": [
        {
          "output_type": "stream",
          "name": "stdout",
          "text": [
            "[1, 2, 3]\n",
            "[1, 2, 3, 10]\n",
            "[1, 2, 3, 10, 15]\n",
            "[1, 2, 3, 10, 15, 20]\n"
          ]
        }
      ]
    }
  ]
}