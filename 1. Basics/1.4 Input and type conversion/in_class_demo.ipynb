{
  "nbformat": 4,
  "nbformat_minor": 0,
  "metadata": {
    "interpreter": {
      "hash": "fd61235da8d855c081cbd5d7c6398e4c179a40a950675235256f7f30499f1124"
    },
    "kernelspec": {
      "display_name": "Python 3.7.4 64-bit ('base': conda)",
      "name": "python3"
    },
    "language_info": {
      "codemirror_mode": {
        "name": "ipython",
        "version": 3
      },
      "file_extension": ".py",
      "mimetype": "text/x-python",
      "name": "python",
      "nbconvert_exporter": "python",
      "pygments_lexer": "ipython3",
      "version": "3.7.4"
    },
    "orig_nbformat": 4,
    "colab": {
      "name": "in_class_demo.ipynb",
      "provenance": []
    }
  },
  "cells": [
    {
      "cell_type": "markdown",
      "metadata": {
        "id": "Hiojai1u_TX_"
      },
      "source": [
        "# Type Conversion\n",
        "The process of converting the value of one data type (integer, string, float, etc.) to another data type is called type conversion. Python has two types of type conversion.\n",
        "\n",
        "* Implicit Type Conversion\n",
        "* Explicit Type Conversion\n",
        "\n",
        "## Implicit Type Conversion\n",
        "In Implicit type conversion, Python automatically converts one data type to another data type. This process doesn't need any user involvement.\n",
        "\n",
        "Let's see an example where Python promotes the conversion of the lower data type (integer) to the higher data type (float) to avoid data loss."
      ]
    },
    {
      "cell_type": "code",
      "metadata": {
        "id": "mA-0f0no_TYB",
        "outputId": "312dd89d-054d-41a1-c81e-4922e5f4e99b",
        "colab": {
          "base_uri": "https://localhost:8080/"
        }
      },
      "source": [
        "var = 20\n",
        "var2 = 1.15\n",
        "val = var + var2\n",
        "\n",
        "print(f\"Type of var: {type(var)}.    Value: {var}\")\n",
        "print(f\"Type of var2: {type(var2)}. Value: {var2}\")\n",
        "print(f\"Type of val: {type(val)}.  Value: {val}\")\n"
      ],
      "execution_count": 1,
      "outputs": [
        {
          "output_type": "stream",
          "name": "stdout",
          "text": [
            "Type of var: <class 'int'>.    Value: 20\n",
            "Type of var2: <class 'float'>. Value: 1.15\n",
            "Type of val: <class 'float'>.  Value: 21.15\n"
          ]
        }
      ]
    },
    {
      "cell_type": "markdown",
      "metadata": {
        "id": "J54yoOwb_TYC"
      },
      "source": [
        "**Lets see another example with string and an int**"
      ]
    },
    {
      "cell_type": "code",
      "metadata": {
        "id": "xXtrzeVz_TYC",
        "outputId": "e8b064b7-272d-470e-a73c-d2f3ae39d6e3",
        "colab": {
          "base_uri": "https://localhost:8080/"
        }
      },
      "source": [
        "var = 23\n",
        "var2 = \"43\"\n",
        "val = var + var2\n",
        "\n",
        "print(f\"Type of var: {type(var)}. Value: {var}\")\n",
        "print(f\"Type of var2: {type(var2)}. Value: {var2}\")\n",
        "print(f\"Type of val: {type(val)}. Value: {val}\")\n"
      ],
      "execution_count": 5,
      "outputs": [
        {
          "output_type": "stream",
          "name": "stdout",
          "text": [
            "Type of var: <class 'int'>. Value: 23\n",
            "Type of var2: <class 'int'>. Value: 43\n",
            "Type of val: <class 'int'>. Value: 66\n"
          ]
        }
      ]
    },
    {
      "cell_type": "markdown",
      "metadata": {
        "id": "SXRPE9-o_TYC"
      },
      "source": [
        "**Unfortunately, python isn't able to perform the addition of a string and an int because the data types can't be implicitly converted. So lets look at a method for explicitly converting data types so that we can do these types of operations**\n",
        "\n",
        "# Explicit conversions\n",
        "\n",
        "This means to change the type of an object to the required data type by using predefined functions like int(), float(), str(), etc to perform explicit type conversion.\n",
        "\n",
        "***This type of conversion is also called typecasting because the user casts (changes) the data type of the objects.***"
      ]
    },
    {
      "cell_type": "code",
      "metadata": {
        "id": "3ViSTHs__TYD",
        "outputId": "1726fd1d-51ae-4bc6-f04d-698aa9734a7f",
        "colab": {
          "base_uri": "https://localhost:8080/"
        }
      },
      "source": [
        "var = 45\n",
        "var2 = '100'\n",
        "\n",
        "var2 = int(var2)\n",
        "\n",
        "print(f\"Type of var: {type(var)}.  Value: {var}\")\n",
        "print(f\"Type of var2: {type(var2)}. Value: {var2}\\n\")\n",
        "\n",
        "#TODO: convert a string to an int and add the values\n",
        "\n",
        "\n",
        "# print(f\"Type of var: {type(var)}.  Value: {var}\")\n",
        "# print(f\"Type of var2: {type(var2)}. Value: {var2}\")\n",
        "# print(f\"Type of val: {type(val)}.  Value: {val}\")\n",
        "\n",
        "\n"
      ],
      "execution_count": 6,
      "outputs": [
        {
          "output_type": "stream",
          "name": "stdout",
          "text": [
            "Type of var: <class 'int'>.  Value: 45\n",
            "Type of var2: <class 'int'>. Value: 100\n",
            "\n"
          ]
        }
      ]
    },
    {
      "cell_type": "markdown",
      "metadata": {
        "id": "A5m2vdZr_TYD"
      },
      "source": [
        "## Allowable conversions\n",
        "- int -> str \n",
        "- int -> float \n",
        "#\n",
        "- float -> int\n",
        "- float -> str\n",
        "#\n",
        "- str -> int (if the string is a number)\n",
        "- str -> float (if the string is a number)\n",
        "- str -> list \n",
        "- str -> tuple\n",
        "#\n",
        "- list -> tuple \n",
        "- list -> set \n",
        "- list -> str\n",
        "#\n",
        "- tuple -> list \n",
        "- tuple -> set\n",
        "- tuple -> str"
      ]
    },
    {
      "cell_type": "code",
      "metadata": {
        "id": "2ZCjg3AJ_TYE"
      },
      "source": [
        "int(65.5)"
      ],
      "execution_count": null,
      "outputs": []
    },
    {
      "cell_type": "code",
      "metadata": {
        "id": "LzJiXPfO_TYF"
      },
      "source": [
        "float('37.91')"
      ],
      "execution_count": null,
      "outputs": []
    },
    {
      "cell_type": "code",
      "metadata": {
        "id": "9loLrXgx_TYF",
        "outputId": "0e2e7f58-8df2-4696-face-87a75060f5d6",
        "colab": {
          "base_uri": "https://localhost:8080/"
        }
      },
      "source": [
        "list(\"the\")"
      ],
      "execution_count": 7,
      "outputs": [
        {
          "output_type": "execute_result",
          "data": {
            "text/plain": [
              "['t', 'h', 'e', ' ', 'b', 'u', 'm']"
            ]
          },
          "metadata": {},
          "execution_count": 7
        }
      ]
    },
    {
      "cell_type": "code",
      "metadata": {
        "id": "9olcE_Zc_TYF",
        "outputId": "dd989cf1-4fbd-4233-ba64-6fe07150945e",
        "colab": {
          "base_uri": "https://localhost:8080/"
        }
      },
      "source": [
        "tuple(\"hello world\")"
      ],
      "execution_count": 10,
      "outputs": [
        {
          "output_type": "execute_result",
          "data": {
            "text/plain": [
              "('h', 'e', 'l', 'l', 'o', ' ', 'w', 'o', 'r', 'l', 'd')"
            ]
          },
          "metadata": {},
          "execution_count": 10
        }
      ]
    },
    {
      "cell_type": "code",
      "metadata": {
        "id": "J2u6Eqjo_TYF",
        "outputId": "37a3c17d-0a97-41c3-9b80-c373dd79aa85",
        "colab": {
          "base_uri": "https://localhost:8080/",
          "height": 37
        }
      },
      "source": [
        "#TODO: Convert a list to a string\n",
        "str(['t','h','e'])"
      ],
      "execution_count": 13,
      "outputs": [
        {
          "output_type": "execute_result",
          "data": {
            "application/vnd.google.colaboratory.intrinsic+json": {
              "type": "string"
            },
            "text/plain": [
              "\"['t', 'h', 'e']\""
            ]
          },
          "metadata": {},
          "execution_count": 13
        }
      ]
    },
    {
      "cell_type": "code",
      "metadata": {
        "id": "Wk1SFlRC_TYG",
        "outputId": "360a7d77-545d-401b-e345-fa4fe5c6cc6f",
        "colab": {
          "base_uri": "https://localhost:8080/",
          "height": 37
        }
      },
      "source": [
        "#TODO: Convert a tuple to a string\n",
        "str(('t','h','e'))"
      ],
      "execution_count": 14,
      "outputs": [
        {
          "output_type": "execute_result",
          "data": {
            "application/vnd.google.colaboratory.intrinsic+json": {
              "type": "string"
            },
            "text/plain": [
              "\"('t', 'h', 'e')\""
            ]
          },
          "metadata": {},
          "execution_count": 14
        }
      ]
    },
    {
      "cell_type": "code",
      "metadata": {
        "id": "oKfebR_H_TYG",
        "outputId": "44504aba-45dd-4384-a7b8-85e73f90e58f",
        "colab": {
          "base_uri": "https://localhost:8080/"
        }
      },
      "source": [
        "#TODO: Convert a list to a tuple\n",
        "tuple(['t','h','e'])"
      ],
      "execution_count": 16,
      "outputs": [
        {
          "output_type": "execute_result",
          "data": {
            "text/plain": [
              "('t', 'h', 'e')"
            ]
          },
          "metadata": {},
          "execution_count": 16
        }
      ]
    },
    {
      "cell_type": "markdown",
      "metadata": {
        "id": "ap0hfEkX_TYH"
      },
      "source": [
        "# User Input\n",
        "Sometimes in our programs, we want or expect the user to input some information that we can use in the rest of the program.\n",
        "\n",
        "To do this, python provides us with a function called `input()`."
      ]
    },
    {
      "cell_type": "code",
      "metadata": {
        "id": "4a9a1EEP_TYH",
        "outputId": "b4c2c959-77ea-4b52-a74e-34056e78c5eb",
        "colab": {
          "base_uri": "https://localhost:8080/",
          "height": 215
        }
      },
      "source": [
        "#TODO: input your name\n",
        "input()"
      ],
      "execution_count": 19,
      "outputs": [
        {
          "name": "stdout",
          "output_type": "stream",
          "text": [
            "Bob\n"
          ]
        },
        {
          "output_type": "error",
          "ename": "NameError",
          "evalue": "ignored",
          "traceback": [
            "\u001b[0;31m---------------------------------------------------------------------------\u001b[0m",
            "\u001b[0;31mNameError\u001b[0m                                 Traceback (most recent call last)",
            "\u001b[0;32m<ipython-input-19-23d7f20730d2>\u001b[0m in \u001b[0;36m<module>\u001b[0;34m()\u001b[0m\n\u001b[1;32m      1\u001b[0m \u001b[0;31m#TODO: input your name\u001b[0m\u001b[0;34m\u001b[0m\u001b[0;34m\u001b[0m\u001b[0;34m\u001b[0m\u001b[0m\n\u001b[1;32m      2\u001b[0m \u001b[0minput\u001b[0m\u001b[0;34m(\u001b[0m\u001b[0;34m)\u001b[0m\u001b[0;34m\u001b[0m\u001b[0;34m\u001b[0m\u001b[0m\n\u001b[0;32m----> 3\u001b[0;31m \u001b[0mPrint\u001b[0m \u001b[0;34m(\u001b[0m\u001b[0minput\u001b[0m\u001b[0;34m)\u001b[0m\u001b[0;34m\u001b[0m\u001b[0;34m\u001b[0m\u001b[0m\n\u001b[0m",
            "\u001b[0;31mNameError\u001b[0m: name 'Print' is not defined"
          ]
        }
      ]
    },
    {
      "cell_type": "markdown",
      "metadata": {
        "id": "j8MxVMpC_TYI"
      },
      "source": [
        "## Prompt\n",
        "The `input` function can also be given a prompt so that the user knows what you want them to do."
      ]
    },
    {
      "cell_type": "code",
      "metadata": {
        "id": "ov6Gucb-_TYI",
        "outputId": "cbf23519-3089-416a-a263-6e500181d87e",
        "colab": {
          "base_uri": "https://localhost:8080/"
        }
      },
      "source": [
        "#TODO: Input your name using a prompt and print the type\n",
        "name = input(\"enter name:\")\n",
        "print(type(name))"
      ],
      "execution_count": 20,
      "outputs": [
        {
          "output_type": "stream",
          "name": "stdout",
          "text": [
            "enter name:harper\n",
            "<class 'str'>\n"
          ]
        }
      ]
    },
    {
      "cell_type": "code",
      "metadata": {
        "id": "n1Ow45Bj_TYJ",
        "outputId": "1f68b48d-6895-405b-c8d1-7587d8db4524",
        "colab": {
          "base_uri": "https://localhost:8080/"
        }
      },
      "source": [
        "#TODO: Input your age using a prompt and print the type\n",
        "age = input(\"Enter your age: \")\n",
        "print(type(age))"
      ],
      "execution_count": 21,
      "outputs": [
        {
          "output_type": "stream",
          "name": "stdout",
          "text": [
            "Enter your age: 9429\n",
            "<class 'str'>\n"
          ]
        }
      ]
    },
    {
      "cell_type": "markdown",
      "metadata": {
        "id": "cHJM0bnf_TYJ"
      },
      "source": [
        "## All input are strings\n",
        "When using the `input()` function, all input is returned as a string. So when we enter a number, list, or tuple, we will need to convert it to the corresponding data type.\n",
        "\n",
        "**There are two ways to do this**\n",
        "* wrap the input function around the data type we want to convert to  \n",
        "* convert the variable after input is provided"
      ]
    },
    {
      "cell_type": "code",
      "metadata": {
        "id": "8N0G-vyc_TYJ",
        "outputId": "fc8be84c-52a6-4ce5-c421-85f8c67440f6",
        "colab": {
          "base_uri": "https://localhost:8080/"
        }
      },
      "source": [
        "#TODO: wrap the input function around the data type\n",
        "age = input(\"enter ur age:\")\n",
        "age = int(age)\n",
        "print(\"your age is:\", age)\n",
        "print (type(age))"
      ],
      "execution_count": 26,
      "outputs": [
        {
          "output_type": "stream",
          "name": "stdout",
          "text": [
            "enter ur age:15\n",
            "your age is: 15\n",
            "<class 'int'>\n"
          ]
        }
      ]
    },
    {
      "cell_type": "code",
      "metadata": {
        "id": "IJAOOwN2FsoH",
        "outputId": "d85531c0-6ccf-4503-f963-cfd09f60a03c",
        "colab": {
          "base_uri": "https://localhost:8080/"
        }
      },
      "source": [
        "age = \"45\"\n",
        "age = int(age)\n",
        "type(age)"
      ],
      "execution_count": 25,
      "outputs": [
        {
          "output_type": "execute_result",
          "data": {
            "text/plain": [
              "int"
            ]
          },
          "metadata": {},
          "execution_count": 25
        }
      ]
    },
    {
      "cell_type": "code",
      "metadata": {
        "id": "E_dGuKv2_TYK",
        "outputId": "b33633a2-342f-4d3a-be04-644430619665",
        "colab": {
          "base_uri": "https://localhost:8080/"
        }
      },
      "source": [
        "#TODO: Convert the variable after user input is given\n",
        "age = input(\"Enter your age: \")\n",
        "age = int(age)\n",
        "print(type(age))\n",
        "age"
      ],
      "execution_count": 27,
      "outputs": [
        {
          "output_type": "stream",
          "name": "stdout",
          "text": [
            "Enter your age: 999\n",
            "<class 'int'>\n"
          ]
        },
        {
          "output_type": "execute_result",
          "data": {
            "text/plain": [
              "999"
            ]
          },
          "metadata": {},
          "execution_count": 27
        }
      ]
    }
  ]
}