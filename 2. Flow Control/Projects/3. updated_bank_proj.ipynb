{
  "nbformat": 4,
  "nbformat_minor": 0,
  "metadata": {
    "colab": {
      "name": "3. updated_bank_proj.ipynb",
      "provenance": [],
      "include_colab_link": true
    },
    "orig_nbformat": 4,
    "language_info": {
      "name": "python"
    },
    "kernelspec": {
      "name": "python3",
      "display_name": "Python 3"
    }
  },
  "cells": [
    {
      "cell_type": "markdown",
      "metadata": {
        "id": "view-in-github",
        "colab_type": "text"
      },
      "source": [
        "<a href=\"https://colab.research.google.com/github/ShriModi/ShriModi/blob/main/2.%20Flow%20Control/Projects/3.%20updated_bank_proj.ipynb\" target=\"_parent\"><img src=\"https://colab.research.google.com/assets/colab-badge.svg\" alt=\"Open In Colab\"/></a>"
      ]
    },
    {
      "cell_type": "markdown",
      "metadata": {
        "id": "_5_wDW2T7nO2"
      },
      "source": [
        "# Instructions\n",
        "Using the code from our previous bank project, update it so that all of the operations can be done inside of a loop. Doing this this will let users do multiple operations one after another.\n",
        "-----\n",
        "\n",
        "**For example: I could deposit $100, withdraw $27, then deposit another $100**\n",
        "\n",
        "- Let the users choose which transaction they want to do (withdraw or deposit)\n",
        "- keep updating the total bank balance after each transaction\n",
        "- create a list (or two) that will keep track of each transaction the user makes\n",
        "- break the loop if the user enters `logout` as a transaction\n",
        "- when the user logs out, print that the user has logged out along with the current bank balance and how many deposits and withdraws they made\n",
        "\n",
        "### Example output\n",
        "- `\"You deposited $100\"`\n",
        "- `\"You withdrew $57\"`\n",
        "- `\"You withdrew $19\"`\n",
        "- `\"You have logged out. Your current balance is $24 and you made 1 deposit and 2 withdrawls\"`"
      ]
    },
    {
      "cell_type": "code",
      "metadata": {
        "id": "TBniS9jx7nO-",
        "colab": {
          "base_uri": "https://localhost:8080/"
        },
        "outputId": "fc852964-1ae1-419a-fea7-b2cce9663bf1"
      },
      "source": [
        "from random import randint\n",
        "total_amount = randint(1,100000000000)\n",
        "listoftrans = []\n",
        "listoftrans.append(total_amount)\n",
        "\n",
        "i = 0\n",
        "while i < 10:\n",
        "  usercin = input(print(\"w for withdraw and d for deposite and logout to leave(dont use caps):\"))\n",
        "  if usercin == \"d\":\n",
        "    amountd = int(input(print(\"how much would you like to deposit?: \")))\n",
        "    total_amount = total_amount + amountd\n",
        "    listoftrans.append(total_amount)\n",
        "    print(\"money in account: \", total_amount)\n",
        "\n",
        "  elif usercin == \"w\":\n",
        "    amountw = int(input(print(\"how much would you like to withdraw?: \")))\n",
        "    total_amount = total_amount - amountw\n",
        "    listoftrans.append(total_amount)\n",
        "    print(\"money left: \", total_amount)\n",
        "\n",
        "  elif usercin == \"logout\":\n",
        "    break\n",
        "\n",
        "print(\"you have logged out your current balance is: \", total_amount)\n",
        "print(listoftrans)"
      ],
      "execution_count": null,
      "outputs": [
        {
          "output_type": "stream",
          "name": "stdout",
          "text": [
            "w for withdraw and d for deposite and logout to leave(dont use caps):\n",
            "d\n",
            "how much would you like to deposit?: \n",
            "100\n",
            "money in account:  51859008940\n",
            "w for withdraw and d for deposite and logout to leave(dont use caps):\n",
            "w\n",
            "how much would you like to withdraw?: \n",
            "100000\n",
            "money left:  51858908940\n",
            "w for withdraw and d for deposite and logout to leave(dont use caps):\n",
            "w\n",
            "how much would you like to withdraw?: \n",
            "100000\n",
            "money left:  51858808940\n",
            "w for withdraw and d for deposite and logout to leave(dont use caps):\n",
            "w\n",
            "how much would you like to withdraw?: \n",
            "12\n",
            "money left:  51858808928\n",
            "w for withdraw and d for deposite and logout to leave(dont use caps):\n",
            "w\n",
            "how much would you like to withdraw?: \n",
            "100112125\n",
            "money left:  51758696803\n",
            "w for withdraw and d for deposite and logout to leave(dont use caps):\n",
            "w\n",
            "how much would you like to withdraw?: \n",
            "5155426415\n",
            "money left:  46603270388\n",
            "w for withdraw and d for deposite and logout to leave(dont use caps):\n",
            "w\n",
            "how much would you like to withdraw?: \n",
            "565156156\n",
            "money left:  46038114232\n",
            "w for withdraw and d for deposite and logout to leave(dont use caps):\n",
            "w\n",
            "how much would you like to withdraw?: \n",
            "151615145142\n",
            "money left:  -105577030910\n",
            "w for withdraw and d for deposite and logout to leave(dont use caps):\n",
            "d\n",
            "how much would you like to deposit?: \n",
            "10551544515\n",
            "money in account:  -95025486395\n",
            "w for withdraw and d for deposite and logout to leave(dont use caps):\n"
          ]
        }
      ]
    }
  ]
}