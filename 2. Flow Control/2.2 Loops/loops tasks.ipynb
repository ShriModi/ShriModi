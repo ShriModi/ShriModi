{
  "nbformat": 4,
  "nbformat_minor": 0,
  "metadata": {
    "interpreter": {
      "hash": "fd61235da8d855c081cbd5d7c6398e4c179a40a950675235256f7f30499f1124"
    },
    "kernelspec": {
      "display_name": "Python 3.7.4 64-bit ('base': conda)",
      "name": "python3"
    },
    "language_info": {
      "codemirror_mode": {
        "name": "ipython",
        "version": 3
      },
      "file_extension": ".py",
      "mimetype": "text/x-python",
      "name": "python",
      "nbconvert_exporter": "python",
      "pygments_lexer": "ipython3",
      "version": "3.7.4"
    },
    "orig_nbformat": 4,
    "colab": {
      "name": "loops tasks.ipynb",
      "provenance": [],
      "include_colab_link": true
    }
  },
  "cells": [
    {
      "cell_type": "markdown",
      "metadata": {
        "id": "view-in-github",
        "colab_type": "text"
      },
      "source": [
        "<a href=\"https://colab.research.google.com/github/ShriModi/ShriModi/blob/main/2.%20Flow%20Control/2.2%20Loops/loops%20tasks.ipynb\" target=\"_parent\"><img src=\"https://colab.research.google.com/assets/colab-badge.svg\" alt=\"Open In Colab\"/></a>"
      ]
    },
    {
      "cell_type": "markdown",
      "metadata": {
        "id": "GhdE4ELP7DrR"
      },
      "source": [
        "## TASK 1\n",
        "* create a 5 element list of strings \n",
        "* loop over each string and print out the string along with its length"
      ]
    },
    {
      "cell_type": "code",
      "metadata": {
        "id": "4UoQwRpS7DrW",
        "colab": {
          "base_uri": "https://localhost:8080/"
        },
        "outputId": "ad71700e-d54f-4045-c6fa-e5a35987d06e"
      },
      "source": [
        "bob =[\"the\",\"cat\",\"with\",\"the\", \"bat\"]\n",
        "for i in bob:\n",
        "  print(i, len(i))"
      ],
      "execution_count": 1,
      "outputs": [
        {
          "output_type": "stream",
          "name": "stdout",
          "text": [
            "the 3\n",
            "cat 3\n",
            "with 4\n",
            "the 3\n",
            "bat 3\n"
          ]
        }
      ]
    },
    {
      "cell_type": "markdown",
      "metadata": {
        "id": "3tf9E08U7DrY"
      },
      "source": [
        "## TASK 2\n",
        "- create a 6 element list or tuple\n",
        "- loop through a range equal to the length of the list or tuple\n",
        "- print out the current `iteration value` along with the element in your list or tuple at that position\n",
        "\n",
        "**Example**\n",
        "```python\n",
        "var = [10, 45, 32, 16]\n",
        "\n",
        "# should output\n",
        "0) 10\n",
        "1) 45\n",
        "2) 32\n",
        "3) 16\n",
        "```"
      ]
    },
    {
      "cell_type": "code",
      "metadata": {
        "id": "NaO69ED87DrZ",
        "colab": {
          "base_uri": "https://localhost:8080/"
        },
        "outputId": "a8560a4a-98f7-4e86-90ad-1c6f29e83e63"
      },
      "source": [
        "shri_is_the_best = ['shri','is','the','best','no','cap']\n",
        "for i in range(len(shri_is_the_best)):\n",
        "  print(i)\n",
        "  print(shri_is_the_best[i])"
      ],
      "execution_count": null,
      "outputs": [
        {
          "output_type": "stream",
          "name": "stdout",
          "text": [
            "0\n",
            "shri\n",
            "1\n",
            "is\n",
            "2\n",
            "the\n",
            "3\n",
            "best\n",
            "4\n",
            "no\n",
            "5\n",
            "cap\n"
          ]
        }
      ]
    },
    {
      "cell_type": "markdown",
      "metadata": {
        "id": "fZeyQ7bb7DrZ"
      },
      "source": [
        "## TASK 3\n",
        "- create an infinite while loop\n",
        "- ask the user to input their name \n",
        "- display the name\n",
        "- break the loop if the name is equal to `exit`"
      ]
    },
    {
      "cell_type": "code",
      "metadata": {
        "id": "qvH07UZ07Dra",
        "outputId": "e14492a2-6940-4fba-d9ef-5fcb53637a8a",
        "colab": {
          "base_uri": "https://localhost:8080/",
          "height": 630
        }
      },
      "source": [
        "i = 1\n",
        "while 10>i:\n",
        "  name = input(\"what is your name: \")\n",
        "  print(name)\n",
        "  if name == \"exit\":\n",
        "    break"
      ],
      "execution_count": 18,
      "outputs": [
        {
          "output_type": "stream",
          "name": "stdout",
          "text": [
            "what is your name: t\n",
            "t\n",
            "what is your name: t\n",
            "t\n",
            "what is your name: t\n",
            "t\n"
          ]
        },
        {
          "output_type": "error",
          "ename": "KeyboardInterrupt",
          "evalue": "ignored",
          "traceback": [
            "\u001b[0;31m---------------------------------------------------------------------------\u001b[0m",
            "\u001b[0;31mKeyboardInterrupt\u001b[0m                         Traceback (most recent call last)",
            "\u001b[0;32m/usr/local/lib/python3.7/dist-packages/ipykernel/kernelbase.py\u001b[0m in \u001b[0;36m_input_request\u001b[0;34m(self, prompt, ident, parent, password)\u001b[0m\n\u001b[1;32m    728\u001b[0m             \u001b[0;32mtry\u001b[0m\u001b[0;34m:\u001b[0m\u001b[0;34m\u001b[0m\u001b[0;34m\u001b[0m\u001b[0m\n\u001b[0;32m--> 729\u001b[0;31m                 \u001b[0mident\u001b[0m\u001b[0;34m,\u001b[0m \u001b[0mreply\u001b[0m \u001b[0;34m=\u001b[0m \u001b[0mself\u001b[0m\u001b[0;34m.\u001b[0m\u001b[0msession\u001b[0m\u001b[0;34m.\u001b[0m\u001b[0mrecv\u001b[0m\u001b[0;34m(\u001b[0m\u001b[0mself\u001b[0m\u001b[0;34m.\u001b[0m\u001b[0mstdin_socket\u001b[0m\u001b[0;34m,\u001b[0m \u001b[0;36m0\u001b[0m\u001b[0;34m)\u001b[0m\u001b[0;34m\u001b[0m\u001b[0;34m\u001b[0m\u001b[0m\n\u001b[0m\u001b[1;32m    730\u001b[0m             \u001b[0;32mexcept\u001b[0m \u001b[0mException\u001b[0m\u001b[0;34m:\u001b[0m\u001b[0;34m\u001b[0m\u001b[0;34m\u001b[0m\u001b[0m\n",
            "\u001b[0;32m/usr/local/lib/python3.7/dist-packages/jupyter_client/session.py\u001b[0m in \u001b[0;36mrecv\u001b[0;34m(self, socket, mode, content, copy)\u001b[0m\n\u001b[1;32m    802\u001b[0m         \u001b[0;32mtry\u001b[0m\u001b[0;34m:\u001b[0m\u001b[0;34m\u001b[0m\u001b[0;34m\u001b[0m\u001b[0m\n\u001b[0;32m--> 803\u001b[0;31m             \u001b[0mmsg_list\u001b[0m \u001b[0;34m=\u001b[0m \u001b[0msocket\u001b[0m\u001b[0;34m.\u001b[0m\u001b[0mrecv_multipart\u001b[0m\u001b[0;34m(\u001b[0m\u001b[0mmode\u001b[0m\u001b[0;34m,\u001b[0m \u001b[0mcopy\u001b[0m\u001b[0;34m=\u001b[0m\u001b[0mcopy\u001b[0m\u001b[0;34m)\u001b[0m\u001b[0;34m\u001b[0m\u001b[0;34m\u001b[0m\u001b[0m\n\u001b[0m\u001b[1;32m    804\u001b[0m         \u001b[0;32mexcept\u001b[0m \u001b[0mzmq\u001b[0m\u001b[0;34m.\u001b[0m\u001b[0mZMQError\u001b[0m \u001b[0;32mas\u001b[0m \u001b[0me\u001b[0m\u001b[0;34m:\u001b[0m\u001b[0;34m\u001b[0m\u001b[0;34m\u001b[0m\u001b[0m\n",
            "\u001b[0;32m/usr/local/lib/python3.7/dist-packages/zmq/sugar/socket.py\u001b[0m in \u001b[0;36mrecv_multipart\u001b[0;34m(self, flags, copy, track)\u001b[0m\n\u001b[1;32m    624\u001b[0m         \"\"\"\n\u001b[0;32m--> 625\u001b[0;31m         \u001b[0mparts\u001b[0m \u001b[0;34m=\u001b[0m \u001b[0;34m[\u001b[0m\u001b[0mself\u001b[0m\u001b[0;34m.\u001b[0m\u001b[0mrecv\u001b[0m\u001b[0;34m(\u001b[0m\u001b[0mflags\u001b[0m\u001b[0;34m,\u001b[0m \u001b[0mcopy\u001b[0m\u001b[0;34m=\u001b[0m\u001b[0mcopy\u001b[0m\u001b[0;34m,\u001b[0m \u001b[0mtrack\u001b[0m\u001b[0;34m=\u001b[0m\u001b[0mtrack\u001b[0m\u001b[0;34m)\u001b[0m\u001b[0;34m]\u001b[0m\u001b[0;34m\u001b[0m\u001b[0;34m\u001b[0m\u001b[0m\n\u001b[0m\u001b[1;32m    626\u001b[0m         \u001b[0;31m# have first part already, only loop while more to receive\u001b[0m\u001b[0;34m\u001b[0m\u001b[0;34m\u001b[0m\u001b[0;34m\u001b[0m\u001b[0m\n",
            "\u001b[0;32mzmq/backend/cython/socket.pyx\u001b[0m in \u001b[0;36mzmq.backend.cython.socket.Socket.recv\u001b[0;34m()\u001b[0m\n",
            "\u001b[0;32mzmq/backend/cython/socket.pyx\u001b[0m in \u001b[0;36mzmq.backend.cython.socket.Socket.recv\u001b[0;34m()\u001b[0m\n",
            "\u001b[0;32mzmq/backend/cython/socket.pyx\u001b[0m in \u001b[0;36mzmq.backend.cython.socket._recv_copy\u001b[0;34m()\u001b[0m\n",
            "\u001b[0;32m/usr/local/lib/python3.7/dist-packages/zmq/backend/cython/checkrc.pxd\u001b[0m in \u001b[0;36mzmq.backend.cython.checkrc._check_rc\u001b[0;34m()\u001b[0m\n",
            "\u001b[0;31mKeyboardInterrupt\u001b[0m: ",
            "\nDuring handling of the above exception, another exception occurred:\n",
            "\u001b[0;31mKeyboardInterrupt\u001b[0m                         Traceback (most recent call last)",
            "\u001b[0;32m<ipython-input-18-092375580d31>\u001b[0m in \u001b[0;36m<module>\u001b[0;34m()\u001b[0m\n\u001b[1;32m      1\u001b[0m \u001b[0mi\u001b[0m \u001b[0;34m=\u001b[0m \u001b[0;36m1\u001b[0m\u001b[0;34m\u001b[0m\u001b[0;34m\u001b[0m\u001b[0m\n\u001b[1;32m      2\u001b[0m \u001b[0;32mwhile\u001b[0m \u001b[0;36m10\u001b[0m\u001b[0;34m>\u001b[0m\u001b[0mi\u001b[0m\u001b[0;34m:\u001b[0m\u001b[0;34m\u001b[0m\u001b[0;34m\u001b[0m\u001b[0m\n\u001b[0;32m----> 3\u001b[0;31m   \u001b[0mname\u001b[0m \u001b[0;34m=\u001b[0m \u001b[0minput\u001b[0m\u001b[0;34m(\u001b[0m\u001b[0;34m\"what is your name: \"\u001b[0m\u001b[0;34m)\u001b[0m\u001b[0;34m\u001b[0m\u001b[0;34m\u001b[0m\u001b[0m\n\u001b[0m\u001b[1;32m      4\u001b[0m   \u001b[0mprint\u001b[0m\u001b[0;34m(\u001b[0m\u001b[0mname\u001b[0m\u001b[0;34m)\u001b[0m\u001b[0;34m\u001b[0m\u001b[0;34m\u001b[0m\u001b[0m\n\u001b[1;32m      5\u001b[0m   \u001b[0;32mif\u001b[0m \u001b[0mname\u001b[0m \u001b[0;34m==\u001b[0m \u001b[0;34m\"exit\"\u001b[0m\u001b[0;34m:\u001b[0m\u001b[0;34m\u001b[0m\u001b[0;34m\u001b[0m\u001b[0m\n",
            "\u001b[0;32m/usr/local/lib/python3.7/dist-packages/ipykernel/kernelbase.py\u001b[0m in \u001b[0;36mraw_input\u001b[0;34m(self, prompt)\u001b[0m\n\u001b[1;32m    702\u001b[0m             \u001b[0mself\u001b[0m\u001b[0;34m.\u001b[0m\u001b[0m_parent_ident\u001b[0m\u001b[0;34m,\u001b[0m\u001b[0;34m\u001b[0m\u001b[0;34m\u001b[0m\u001b[0m\n\u001b[1;32m    703\u001b[0m             \u001b[0mself\u001b[0m\u001b[0;34m.\u001b[0m\u001b[0m_parent_header\u001b[0m\u001b[0;34m,\u001b[0m\u001b[0;34m\u001b[0m\u001b[0;34m\u001b[0m\u001b[0m\n\u001b[0;32m--> 704\u001b[0;31m             \u001b[0mpassword\u001b[0m\u001b[0;34m=\u001b[0m\u001b[0;32mFalse\u001b[0m\u001b[0;34m,\u001b[0m\u001b[0;34m\u001b[0m\u001b[0;34m\u001b[0m\u001b[0m\n\u001b[0m\u001b[1;32m    705\u001b[0m         )\n\u001b[1;32m    706\u001b[0m \u001b[0;34m\u001b[0m\u001b[0m\n",
            "\u001b[0;32m/usr/local/lib/python3.7/dist-packages/ipykernel/kernelbase.py\u001b[0m in \u001b[0;36m_input_request\u001b[0;34m(self, prompt, ident, parent, password)\u001b[0m\n\u001b[1;32m    732\u001b[0m             \u001b[0;32mexcept\u001b[0m \u001b[0mKeyboardInterrupt\u001b[0m\u001b[0;34m:\u001b[0m\u001b[0;34m\u001b[0m\u001b[0;34m\u001b[0m\u001b[0m\n\u001b[1;32m    733\u001b[0m                 \u001b[0;31m# re-raise KeyboardInterrupt, to truncate traceback\u001b[0m\u001b[0;34m\u001b[0m\u001b[0;34m\u001b[0m\u001b[0;34m\u001b[0m\u001b[0m\n\u001b[0;32m--> 734\u001b[0;31m                 \u001b[0;32mraise\u001b[0m \u001b[0mKeyboardInterrupt\u001b[0m\u001b[0;34m\u001b[0m\u001b[0;34m\u001b[0m\u001b[0m\n\u001b[0m\u001b[1;32m    735\u001b[0m             \u001b[0;32melse\u001b[0m\u001b[0;34m:\u001b[0m\u001b[0;34m\u001b[0m\u001b[0;34m\u001b[0m\u001b[0m\n\u001b[1;32m    736\u001b[0m                 \u001b[0;32mbreak\u001b[0m\u001b[0;34m\u001b[0m\u001b[0;34m\u001b[0m\u001b[0m\n",
            "\u001b[0;31mKeyboardInterrupt\u001b[0m: "
          ]
        }
      ]
    },
    {
      "cell_type": "markdown",
      "metadata": {
        "id": "XNsxgJHJ7Dra"
      },
      "source": [
        "## TASK 4\n",
        "- use any type of loop you want to find the largest value in the list\n",
        "\n",
        "**Hint**\n",
        "- declare a `maximum` variable outside of the loop and set it equal to 0\n",
        "- find values bigger than the current max"
      ]
    },
    {
      "cell_type": "code",
      "metadata": {
        "id": "Tm5OIplU7Drb",
        "outputId": "85f33914-709a-46ad-83c6-5d89df9aeb02",
        "colab": {
          "base_uri": "https://localhost:8080/"
        }
      },
      "source": [
        "var = [20.542, .0432, 65.88, 69.689, .00053, 102.432, 66.32]\n",
        "maximum = 0\n",
        "\n",
        "for i in var:\n",
        "  if i> maximum:\n",
        "    maximum = i\n",
        "\n",
        "print (maximum)\n"
      ],
      "execution_count": 25,
      "outputs": [
        {
          "output_type": "stream",
          "name": "stdout",
          "text": [
            "102.432\n"
          ]
        }
      ]
    },
    {
      "cell_type": "markdown",
      "metadata": {
        "id": "dn6gBxr-7Drc"
      },
      "source": [
        "## TASK 5\n",
        "- create a 10 element list of numbers\n",
        "- Use a for loop to loop through each `value`\n",
        "- convert the current `value` to a string and store it in the variable `string_number`\n",
        "- index the first value in the `string_number` and convert it back to an integer and assign it to `reconverted`\n",
        "- multiply `reconverted` and `value` and assign the result to the variable `product`\n",
        "- check to see if `product` is even or odd\n",
        "- if it's even print EVEN along with the `product`\n",
        "- if it's odd print ODD along with the `product`"
      ]
    },
    {
      "cell_type": "code",
      "metadata": {
        "id": "zDq1o7AL7Drd",
        "outputId": "a84f2675-f305-4ecb-8c92-4cc1fa53d190",
        "colab": {
          "base_uri": "https://localhost:8080/"
        }
      },
      "source": [
        "num = [1,2,3,4,5,6,7,8,9,10]\n",
        "string_number = \"\"\n",
        "for i in num:\n",
        "  string_number =str(i)\n",
        "  reconvert = string_number[0]\n",
        "  product = int(reconvert)*i\n",
        "  if product % 2:\n",
        "    print(product, \" odd\")\n",
        "  else:\n",
        "    print(product, \" even\")\n"
      ],
      "execution_count": 34,
      "outputs": [
        {
          "output_type": "stream",
          "name": "stdout",
          "text": [
            "1  odd\n",
            "4  even\n",
            "9  odd\n",
            "16  even\n",
            "25  odd\n",
            "36  even\n",
            "49  odd\n",
            "64  even\n",
            "81  odd\n",
            "10  even\n"
          ]
        }
      ]
    },
    {
      "cell_type": "markdown",
      "metadata": {
        "id": "YO3E1lEp7Dre"
      },
      "source": [
        "## TASK 6\n",
        "- create an empty list called `divisible_by_5`\n",
        "- loop through the list of numbers\n",
        "- find all of the numbers divisible by 5 (a number is divisible by 5 if the remainder is 0)\n",
        "- If a number is divisible by 5, add it to the `divisible_by_5` list"
      ]
    },
    {
      "cell_type": "code",
      "metadata": {
        "id": "x2zzsl3M7Dre",
        "outputId": "b11fd32e-f435-426b-ec9a-85b47a5758a7",
        "colab": {
          "base_uri": "https://localhost:8080/"
        }
      },
      "source": [
        "var = [12, 15, 34, 55, 300, 62, 40, 23, 56, 99, 100, 52, 5125, 220, 903, 435]\n",
        "divisible_by_5 = []\n",
        "\n",
        "for i in var:\n",
        "  if i % 5 == 0:\n",
        "    divisible_by_5.append(i)\n",
        "  \n",
        "print(divisible_by_5)"
      ],
      "execution_count": 39,
      "outputs": [
        {
          "output_type": "stream",
          "name": "stdout",
          "text": [
            "[15, 55, 300, 40, 100, 5125, 220, 435]\n"
          ]
        }
      ]
    },
    {
      "cell_type": "markdown",
      "metadata": {
        "id": "ZQZiXnDU7Drf"
      },
      "source": [
        "# TASK 7\n",
        "Write a for loop to print the current list item, as well as the next item. The loop should stop when the next element is the last element in the list. \n",
        "\n",
        "*In this case, stop the loop when next is equal to 23.*\n",
        "\n",
        "**Should look like this:**\n",
        "[10, 5, 34, 2, 65, 23]\n",
        "> current = 10, next = 5\n",
        "\n",
        "> current = 5, next = 34\n",
        "\n",
        "> current = 34, next = 2\n",
        "\n",
        "> current = 2, next = 65\n",
        "\n",
        "> current = 65, next = 23"
      ]
    },
    {
      "cell_type": "code",
      "metadata": {
        "id": "Hv4nfyMx7Drf",
        "outputId": "b9ffb093-67a3-4472-f1cb-266ae2a29465",
        "colab": {
          "base_uri": "https://localhost:8080/"
        }
      },
      "source": [
        "nums = [10,5,34,2,65,23]\n",
        "for i in range(len(nums)-1):\n",
        "  print(\"current = \",nums[i], \", Next = \", nums[i+1])\n",
        "\n",
        "\n"
      ],
      "execution_count": 54,
      "outputs": [
        {
          "output_type": "stream",
          "name": "stdout",
          "text": [
            "current =  10 , Next =  5\n",
            "current =  5 , Next =  34\n",
            "current =  34 , Next =  2\n",
            "current =  2 , Next =  65\n",
            "current =  65 , Next =  23\n"
          ]
        }
      ]
    },
    {
      "cell_type": "code",
      "metadata": {
        "id": "2QRz6YY1IvwP",
        "outputId": "79bbe3a7-b2fc-449f-c8bb-b6225b4ff336",
        "colab": {
          "base_uri": "https://localhost:8080/"
        }
      },
      "source": [
        "harper = [1,2,3,4,5]\n",
        "for index in range(len(harper) - 1):\n",
        "  print(index, index + 1)"
      ],
      "execution_count": 48,
      "outputs": [
        {
          "output_type": "stream",
          "name": "stdout",
          "text": [
            "0 1\n",
            "1 2\n",
            "2 3\n",
            "3 4\n"
          ]
        }
      ]
    },
    {
      "cell_type": "markdown",
      "metadata": {
        "id": "crn9UiYc7Drg"
      },
      "source": [
        "# TASK 8\n",
        "Using the same logic from the previous task, check to see if the next value is greater than or less than the current value.\n",
        "- if the `next` value is greater than `current`, divide the `next` value by current and print the result\n",
        "- if the `next` value is less than `current`, multiple the `current` value by `next` and print the result\n",
        "- if `next` and `current` are equal skip the iteration and go to the next"
      ]
    },
    {
      "cell_type": "code",
      "metadata": {
        "id": "Nj_y23yq7Drg"
      },
      "source": [
        "da_list = "
      ],
      "execution_count": null,
      "outputs": []
    },
    {
      "cell_type": "markdown",
      "metadata": {
        "id": "tCNzFFj-7Drh"
      },
      "source": [
        "# TASK 9 \n",
        "generate a list of 10 random *even* numbers and find the average of the list.\n",
        "\n",
        "***The average is the sum of the list divided by the total number of list elements***"
      ]
    },
    {
      "cell_type": "code",
      "metadata": {
        "id": "OiEB-PB97Drh"
      },
      "source": [
        "from random import randint\n",
        "\n",
        "the = []\n",
        "if len(the) < 10:\n",
        "  num = randint(100,10000)\n",
        "  "
      ],
      "execution_count": null,
      "outputs": []
    }
  ]
}