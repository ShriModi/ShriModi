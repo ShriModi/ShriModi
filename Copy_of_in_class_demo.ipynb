{
  "nbformat": 4,
  "nbformat_minor": 0,
  "metadata": {
    "interpreter": {
      "hash": "fd61235da8d855c081cbd5d7c6398e4c179a40a950675235256f7f30499f1124"
    },
    "kernelspec": {
      "display_name": "Python 3.7.4 64-bit ('base': conda)",
      "name": "python3"
    },
    "language_info": {
      "codemirror_mode": {
        "name": "ipython",
        "version": 3
      },
      "file_extension": ".py",
      "mimetype": "text/x-python",
      "name": "python",
      "nbconvert_exporter": "python",
      "pygments_lexer": "ipython3",
      "version": "3.7.4"
    },
    "orig_nbformat": 4,
    "colab": {
      "name": "Copy of in_class_demo.ipynb",
      "provenance": [],
      "include_colab_link": true
    }
  },
  "cells": [
    {
      "cell_type": "markdown",
      "metadata": {
        "id": "view-in-github",
        "colab_type": "text"
      },
      "source": [
        "<a href=\"https://colab.research.google.com/github/ShriModi/ShriModi/blob/main/Copy_of_in_class_demo.ipynb\" target=\"_parent\"><img src=\"https://colab.research.google.com/assets/colab-badge.svg\" alt=\"Open In Colab\"/></a>"
      ]
    },
    {
      "cell_type": "markdown",
      "metadata": {
        "id": "lWu2b9g_ZQ7-"
      },
      "source": [
        "# Expressions\n",
        "Expressions are evaluations or operations that are reduced down to one or more values. In other words, expressions are ways to represent values. \n",
        "\n",
        "Examples of expressions are:\n",
        "* Doing Math        \n",
        "* evaluating Truth\n",
        "* concatenating strings\n",
        "* checking for membership\n",
        "\n",
        "**Lets look at some examples to see what this means**"
      ]
    },
    {
      "cell_type": "code",
      "metadata": {
        "id": "k5sx6YN9ZQ7_",
        "colab": {
          "base_uri": "https://localhost:8080/"
        },
        "outputId": "73c5cb46-4553-4091-9332-c2f1cd59b2b5"
      },
      "source": [
        "# expressions always produce a value \n",
        "#TODO: Write an expression that evaluates to 1\n",
        "(5**2)-(15)"
      ],
      "execution_count": null,
      "outputs": [
        {
          "output_type": "execute_result",
          "data": {
            "text/plain": [
              "10"
            ]
          },
          "metadata": {},
          "execution_count": 10
        }
      ]
    },
    {
      "cell_type": "code",
      "metadata": {
        "id": "-X1YfDm7ZQ8A",
        "colab": {
          "base_uri": "https://localhost:8080/"
        },
        "outputId": "4342790d-1a99-4973-9572-2b991567e8ee"
      },
      "source": [
        "# more complex expression\n",
        "#TODO:  write an expression that uses multiplication, division, subtraction and addition\n",
        "fungus = 5*10 - 100 ** 99"
      ],
      "execution_count": null,
      "outputs": [
        {
          "output_type": "execute_result",
          "data": {
            "text/plain": [
              "-999999999999999999999999999999999999999999999999999999999999999999999999999999999999999999999999999999999999999999999999999999999999999999999999999999999999999999999999999999999999999999999999999950"
            ]
          },
          "metadata": {},
          "execution_count": 21
        }
      ]
    },
    {
      "cell_type": "markdown",
      "metadata": {
        "id": "xlj2xskEZQ8B"
      },
      "source": [
        "<b>Expressions always involve values or functions and operators that evaluate to a new value</b>"
      ]
    },
    {
      "cell_type": "markdown",
      "metadata": {
        "id": "E02hvvpgZQ8B"
      },
      "source": [
        "# Statements\n",
        "Statements are actions or commands that do something. Statements are like sentences that are made up of expressions.\n",
        "\n",
        "Examples of statements are:\n",
        "* variable assignment\n",
        "* printing \n",
        "* conditionals\n",
        "* loops"
      ]
    },
    {
      "cell_type": "code",
      "metadata": {
        "id": "5QJzF8otZQ8B",
        "colab": {
          "base_uri": "https://localhost:8080/"
        },
        "outputId": "8340d9e3-f96b-4986-9195-cc3185af290b"
      },
      "source": [
        "#TODO:  write variable assignment statement that creates a 5 element list\n",
        "var = [1,2,3,4,5]\n",
        "type(var)"
      ],
      "execution_count": null,
      "outputs": [
        {
          "output_type": "execute_result",
          "data": {
            "text/plain": [
              "list"
            ]
          },
          "metadata": {},
          "execution_count": 22
        }
      ]
    },
    {
      "cell_type": "code",
      "metadata": {
        "id": "FQvTFrm6ZQ8C",
        "colab": {
          "base_uri": "https://localhost:8080/",
          "height": 37
        },
        "outputId": "d6471790-0c48-4868-bf63-9ddc3d441939"
      },
      "source": [
        "#TODO:  Write a print statement\n",
        "\"Hello \" + \"class\""
      ],
      "execution_count": null,
      "outputs": [
        {
          "output_type": "execute_result",
          "data": {
            "application/vnd.google.colaboratory.intrinsic+json": {
              "type": "string"
            },
            "text/plain": [
              "'Hello class'"
            ]
          },
          "metadata": {},
          "execution_count": 23
        }
      ]
    },
    {
      "cell_type": "code",
      "metadata": {
        "id": "m5Z23dHvZQ8C",
        "colab": {
          "base_uri": "https://localhost:8080/"
        },
        "outputId": "3f3c6725-e280-4dc7-ac71-22d3af842c12"
      },
      "source": [
        "#TODO:  create a statement made from an expression\n",
        "message = \"Hello \" + \"class\"\n",
        "print(message)"
      ],
      "execution_count": null,
      "outputs": [
        {
          "output_type": "stream",
          "name": "stdout",
          "text": [
            "Hello class\n"
          ]
        }
      ]
    },
    {
      "cell_type": "markdown",
      "metadata": {
        "id": "n2ArHK6IZQ8D"
      },
      "source": [
        "# The boolean Data type\n",
        "Booleans are used to indicate truth and can only have the values: True or False\n",
        "\n",
        "They are useful when writing logical or conditional expressions, or evaluating the truth of an expression (you will see examples of this soon)."
      ]
    },
    {
      "cell_type": "code",
      "metadata": {
        "id": "X8MF2UEyZQ8D",
        "colab": {
          "base_uri": "https://localhost:8080/"
        },
        "outputId": "9995af18-97df-48d0-e2ff-bb3f69373b88"
      },
      "source": [
        "var = True\n",
        "var is True"
      ],
      "execution_count": null,
      "outputs": [
        {
          "output_type": "execute_result",
          "data": {
            "text/plain": [
              "True"
            ]
          },
          "metadata": {},
          "execution_count": 25
        }
      ]
    },
    {
      "cell_type": "code",
      "metadata": {
        "id": "95XWVxe3ZQ8D",
        "colab": {
          "base_uri": "https://localhost:8080/"
        },
        "outputId": "9588aaa1-f99e-438c-9f14-1b1de06df2aa"
      },
      "source": [
        "var = False\n",
        "var is True"
      ],
      "execution_count": null,
      "outputs": [
        {
          "output_type": "execute_result",
          "data": {
            "text/plain": [
              "False"
            ]
          },
          "metadata": {},
          "execution_count": 26
        }
      ]
    },
    {
      "cell_type": "markdown",
      "metadata": {
        "id": "xrUDFsApZQ8E"
      },
      "source": [
        "# Arithmetic Operators\n",
        "**Arithmetic operators are used to perform mathematical operations like addition, subtraction, multiplication, etc.**\n",
        "\n",
        "| Operator | Meaning                                                      | Example                  |\n",
        "| :------: | :----------------------------------------------------------- | :----------------------- |\n",
        "|    +     | Add two operands or unary plus                               | x + y+ 2                 |\n",
        "|    -     | Subtract right operand from the left or unary minus          | x - y- 2                 |\n",
        "|    *     | Multiply two operands                                        | x * y                    |\n",
        "|    /     | Divide left operand by the right one (always results into float) | x / y                |\n",
        "|    %     | Modulus - remainder of the division of left operand by the right | x % y (remainder of x/y) |\n",
        "|    //    | Floor division - division that results into whole number adjusted to the left in the number line | x // y  |\n",
        "|    **    | Exponent - left operand raised to the power of right         | x**y (x to the power y)  |\n",
        "\n"
      ]
    },
    {
      "cell_type": "code",
      "metadata": {
        "id": "glpkktBAZQ8F",
        "colab": {
          "base_uri": "https://localhost:8080/"
        },
        "outputId": "5c6c96a0-de18-41e1-9b28-a5a7fdc4247c"
      },
      "source": [
        "# arithmetic expressions \n",
        "#TODO SHow use cases for each operator\n",
        "12889098174838469179%123"
      ],
      "execution_count": null,
      "outputs": [
        {
          "output_type": "execute_result",
          "data": {
            "text/plain": [
              "49"
            ]
          },
          "metadata": {},
          "execution_count": 42
        }
      ]
    },
    {
      "cell_type": "markdown",
      "metadata": {
        "id": "z6Gp6UR5ZQ8G"
      },
      "source": [
        "# Using the Modulus operator to check if a number is even or odd\n",
        "In programming, there will be a time where you may want to check if a number is even or odd. The Modulus operator gives us an easy way to do this check.\n",
        "\n",
        "**Remeber: Modulus division gives us the remainder**\n",
        "--\n",
        "\n",
        "**So if I were to do the following:**\n",
        "\n",
        "\n",
        "$9/2$ I get 4.5. Pretty simple\n",
        "\n",
        "**But now, If Instead I did:**\n",
        "\n",
        "$9\\% 2$ I get 1.\n",
        "\n",
        "This is because `2` can be multiplied `4` whole times which gives us `8`, but we can't add another `2`, otherwise we get `10`. So the remainder is `1`.\n",
        "\n",
        "**If I were to do this with an even number:**\n",
        "\n",
        "$10 \\% 2$ I get 0. *This is the case for any even number*\n",
        "\n",
        "**So, if we want to check if a number is even or odd, all we have to do is mod the number by 2 and check if the remainder is 0 or not.**\n",
        "--"
      ]
    },
    {
      "cell_type": "code",
      "metadata": {
        "id": "Xt9K23C-ZQ8G",
        "colab": {
          "base_uri": "https://localhost:8080/"
        },
        "outputId": "f28acb08-0960-49fa-a670-83c634380fdd"
      },
      "source": [
        "from random import randint\n",
        "#TODO: Check if the values are even or odd\n",
        "var = randint(0,10)\n",
        "var%2 , var"
      ],
      "execution_count": null,
      "outputs": [
        {
          "output_type": "execute_result",
          "data": {
            "text/plain": [
              "(1, 9)"
            ]
          },
          "metadata": {},
          "execution_count": 63
        }
      ]
    },
    {
      "cell_type": "markdown",
      "metadata": {
        "id": "JEfH_LzmZQ8G"
      },
      "source": [
        "# Assignment Operators\n",
        "Assignment operators are used in Python to assign values to variables.\n",
        "\n",
        "a = 5 is a simple assignment operator that assigns the value 5 on the right to the variable a on the left.\n",
        "\n",
        "There are also various compound operators in Python like a += 5 that adds to the variable and later assigns the same. It is equivalent to a = a + 5.\n",
        "| Operator | Example | Equivalent to |\n",
        "| :------- | :------ | :------------ |\n",
        "| =        | x = 5   | x = 5         |\n",
        "| +=       | x += 5  | x = x + 5     |\n",
        "| -=       | x -= 5  | x = x - 5     |\n",
        "| *=       | x *= 5  | x = x * 5     |\n",
        "| /=       | x /= 5  | x = x / 5     |\n",
        "| %=       | x %= 5  | x = x % 5     |\n",
        "| //=      | x //= 5 | x = x // 5    |\n",
        "| **=      | x **= 5 | x = x ** 5    |"
      ]
    },
    {
      "cell_type": "code",
      "metadata": {
        "id": "FhT68sqaZQ8H",
        "colab": {
          "base_uri": "https://localhost:8080/"
        },
        "outputId": "9755f7a6-b572-4a0c-910c-4cf3781d5ed6"
      },
      "source": [
        "\n",
        "x = 5\n",
        "print(f\"x = {x}\")\n",
        "\n",
        "x += 10\n",
        "print(f\"x = {x}\")\n",
        "\n",
        "x -= 13\n",
        "print(f\"x = {x}\")\n",
        "\n",
        "x *= 4\n",
        "print(f\"x = {x}\")\n",
        "\n",
        "x /= 2\n",
        "print(f\"x = {x}\")\n",
        "\n",
        "x **= 2\n",
        "print(f\"x = {x}\")\n"
      ],
      "execution_count": null,
      "outputs": [
        {
          "output_type": "stream",
          "name": "stdout",
          "text": [
            "x = 5\n",
            "x = 15\n",
            "x = 2\n",
            "x = 8\n",
            "x = 4.0\n",
            "x = 16.0\n"
          ]
        }
      ]
    },
    {
      "cell_type": "markdown",
      "metadata": {
        "id": "XA9Url9wZQ8I"
      },
      "source": [
        "# Comparison operators\n",
        "Comparison operators are used to compare values. It returns either True or False according to the condition.\n",
        "\n",
        "| Operator | Meaning                                                      | Example |\n",
        "| :------- | :----------------------------------------------------------- | :------ |\n",
        "| >        | Greater than - True if left operand is greater than the right | x > y   |\n",
        "| <        | Less than - True if left operand is less than the right      | x < y   |\n",
        "| ==       | Equal to - True if both operands are equal                   | x == y  |\n",
        "| !=       | Not equal to - True if operands are not equal                | x != y  |\n",
        "| >=       | Greater than or equal to - True if left operand is greater than or equal to the right | x >= y  |\n",
        "| <=       | Less than or equal to - True if left operand is less than or equal to the right | x <= y  |"
      ]
    },
    {
      "cell_type": "code",
      "metadata": {
        "id": "DgjnDBUZZQ8I",
        "colab": {
          "base_uri": "https://localhost:8080/"
        },
        "outputId": "85d1d611-1805-4837-d6ae-d255d774ac95"
      },
      "source": [
        "# comparison expressions\n",
        "#TODO showcase each comparison operator\n",
        "10 <= 10000000000"
      ],
      "execution_count": null,
      "outputs": [
        {
          "output_type": "execute_result",
          "data": {
            "text/plain": [
              "True"
            ]
          },
          "metadata": {},
          "execution_count": 79
        }
      ]
    },
    {
      "cell_type": "markdown",
      "metadata": {
        "id": "4g3Xu6-pZQ8J"
      },
      "source": [
        "# Logical operators\n",
        "Logical operators are used to evaluate the truth of an expression.\n",
        "\n",
        "| Operator | Meaning                                            | Example |\n",
        "| :------- | :------------------------------------------------- | :------ |\n",
        "| and      | True if both the operands are true                 | x and y |\n",
        "| or       | True if either of the operands is true             | x or y  |\n",
        "| not      | True if operand is false (complements the operand) | not x   |"
      ]
    },
    {
      "cell_type": "code",
      "metadata": {
        "id": "6v3pAaozZQ8J",
        "colab": {
          "base_uri": "https://localhost:8080/"
        },
        "outputId": "3b1aa1ba-1553-488e-810a-219374312580"
      },
      "source": [
        "# Logical Expressions\n",
        "\n",
        "# AND\n",
        "True and False\n",
        "\n",
        "# OR\n",
        "True or False\n",
        "\n",
        "# NOT\n",
        "not False"
      ],
      "execution_count": null,
      "outputs": [
        {
          "output_type": "execute_result",
          "data": {
            "text/plain": [
              "True"
            ]
          },
          "metadata": {},
          "execution_count": 108
        }
      ]
    },
    {
      "cell_type": "code",
      "metadata": {
        "id": "McLVukMVZQ8J",
        "colab": {
          "base_uri": "https://localhost:8080/"
        },
        "outputId": "d3891075-d3e3-4c68-9313-8305a2823111"
      },
      "source": [
        "# More Complex logical expressions\n",
        "\n",
        "# AND\n",
        "(True and True) and (True and False)\n",
        "\n",
        "# OR\n",
        "(True or True) and (False or not True)\n"
      ],
      "execution_count": null,
      "outputs": [
        {
          "output_type": "execute_result",
          "data": {
            "text/plain": [
              "False"
            ]
          },
          "metadata": {},
          "execution_count": 116
        }
      ]
    },
    {
      "cell_type": "markdown",
      "metadata": {
        "id": "YMyj4MmqZQ8K"
      },
      "source": [
        "# Membership Operators\n",
        "used to test whether a value or variable is found in a sequence (string, list, tuple, set and dictionary).\n",
        "\n",
        "**<em>In a dictionary we can only test for presence of key, not the value.</em>**\n",
        "| Operator | Meaning                                             | Example    |\n",
        "| :------- | :-------------------------------------------------- | :--------- |\n",
        "| in       | True if value/variable is found in the sequence     | 5 in x     |\n",
        "| not in   | True if value/variable is not found in the sequence | 5 not in x |"
      ]
    },
    {
      "cell_type": "code",
      "metadata": {
        "id": "GRwlVRQrZQ8K",
        "colab": {
          "base_uri": "https://localhost:8080/"
        },
        "outputId": "dee73aa2-ff0f-44da-ff0a-f4b54f4db9a3"
      },
      "source": [
        "#TODO: check if 'world' is in the string 'hello world'\n",
        "var = \"Hello World\"\n",
        "\"World\" in var"
      ],
      "execution_count": null,
      "outputs": [
        {
          "output_type": "execute_result",
          "data": {
            "text/plain": [
              "True"
            ]
          },
          "metadata": {},
          "execution_count": 118
        }
      ]
    },
    {
      "cell_type": "code",
      "metadata": {
        "id": "tKEpIJEgZQ8K",
        "colab": {
          "base_uri": "https://localhost:8080/"
        },
        "outputId": "2df6eace-85cb-4b1c-93ac-a8e2d15d2a72"
      },
      "source": [
        "#TODO: check to see if the value 23 is in the list\n",
        "var = [23, 34, 1.43, 99]\n",
        "23 in var"
      ],
      "execution_count": null,
      "outputs": [
        {
          "output_type": "execute_result",
          "data": {
            "text/plain": [
              "True"
            ]
          },
          "metadata": {},
          "execution_count": 119
        }
      ]
    },
    {
      "cell_type": "code",
      "metadata": {
        "id": "PNY3TjFfZQ8L",
        "colab": {
          "base_uri": "https://localhost:8080/"
        },
        "outputId": "5f841470-b9b2-448c-bc95-74f1476ee872"
      },
      "source": [
        "#TODO: check to see if the value 11 is not in the list\n",
        "var = [12,23,34,45,56]\n",
        "11 not in var"
      ],
      "execution_count": null,
      "outputs": [
        {
          "output_type": "execute_result",
          "data": {
            "text/plain": [
              "True"
            ]
          },
          "metadata": {},
          "execution_count": 121
        }
      ]
    },
    {
      "cell_type": "markdown",
      "metadata": {
        "id": "D1US35VhZQ8L"
      },
      "source": [
        "# Identity Operators\n",
        "**is** and **is not** are the identity operators in Python. They are used to check if two values (or variables) are located on the same part of the memory. \n",
        "\n",
        "***Two variables that are equal does not imply that they are identical.***\n",
        "\n",
        "| Operator | Meaning                                                      | Example       |\n",
        "| :------- | :----------------------------------------------------------- | :------------ |\n",
        "| is       | True if the operands are identical (refer to the same object) | x is True     |\n",
        "| is not   | True if the operands are not identical (do not refer to the same object) | x is not True |\n",
        "\n",
        "<em><b>The concept of objects will make more sense when we cover objects in Module 7</b></em>"
      ]
    },
    {
      "cell_type": "code",
      "metadata": {
        "id": "tnmMZuAKZQ8L"
      },
      "source": [
        "# remember the id() function?\n",
        "var = 25\n",
        "print = (id(var))\n",
        "print = (id (25))\n",
        "print = (\"are the Id's the same?\")\n",
        "var2 = id(25) == id(var)\n",
        "print = (var2)\n",
        "print = (\"\\n\")\n",
        "# Two variables that are equal does not imply that they are identical.\n",
        "var2 = [1,2,3,4]\n",
        "var3 = [1,2,3,4]\n",
        "print = (id(var2))\n",
        "print = (id(var3))\n",
        "print = (\"are the Id's the same?\")\n",
        "var99 = id(var2) ==id(var3)\n",
        "print = (var99)\n",
        "\n",
        "# creating identical variables\n",
        "var4 = [4,3,2,1]\n",
        "var5 = var4\n",
        "#TODO What is the momry address of the list [4,3,2,1]\n",
        "#TODO What is the memory address of var4 and var5\n",
        "#TODO Is var4 and var5 identical?\n"
      ],
      "execution_count": 5,
      "outputs": []
    },
    {
      "cell_type": "markdown",
      "metadata": {
        "id": "nmCpuZEiZQ8M"
      },
      "source": [
        "## Why is this the case???\n",
        "\n",
        "In the first example, we have the literal value 25. When we assign 25 to var, nothing new happens, we are simply referencing the memory address where 25 is located with a variable. \n",
        "\n",
        "In the second example, we create a list of 4 elements. Lists aren't literal values, they're objects. Each time an object is created, it is assigned its own location in memory, even if the elements are the same. This is because we don't actually care about what the list is holding, we only care about the object itself. Since each list is created at different moments, they are different instances of list objects. Since theyre different objects, they are assigned different memory locations. So when we check to see if the two lists are identical, we see that this is false because they do not share memory locations.\n",
        "\n",
        "In the third example, we create the variable 'var4' and assign a 4 element list to it. We then create the variable 'var5' and assign it the value of 'var4'. What this basically does is make var5 and var4 point to the value at the same memory address, which is the 4 element list. No new object is created, it's just that two variable now reference the same memory location.\n",
        "\n",
        "<img src = \"objects.png\" width = 900 height = 500>\n"
      ]
    }
  ]
}