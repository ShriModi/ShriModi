{
  "nbformat": 4,
  "nbformat_minor": 0,
  "metadata": {
    "interpreter": {
      "hash": "fd61235da8d855c081cbd5d7c6398e4c179a40a950675235256f7f30499f1124"
    },
    "kernelspec": {
      "display_name": "Python 3.7.4 64-bit ('base': conda)",
      "name": "python3"
    },
    "language_info": {
      "codemirror_mode": {
        "name": "ipython",
        "version": 3
      },
      "file_extension": ".py",
      "mimetype": "text/x-python",
      "name": "python",
      "nbconvert_exporter": "python",
      "pygments_lexer": "ipython3",
      "version": "3.7.4"
    },
    "orig_nbformat": 4,
    "colab": {
      "name": "Copy of operators and expressions tasks.ipynb",
      "provenance": [],
      "include_colab_link": true
    }
  },
  "cells": [
    {
      "cell_type": "markdown",
      "metadata": {
        "id": "view-in-github",
        "colab_type": "text"
      },
      "source": [
        "<a href=\"https://colab.research.google.com/github/ShriModi/ShriModi/blob/main/Copy_of_operators_and_expressions_tasks.ipynb\" target=\"_parent\"><img src=\"https://colab.research.google.com/assets/colab-badge.svg\" alt=\"Open In Colab\"/></a>"
      ]
    },
    {
      "cell_type": "markdown",
      "metadata": {
        "id": "0hc1NvVizAH2"
      },
      "source": [
        "# Expression Exercises"
      ]
    },
    {
      "cell_type": "markdown",
      "metadata": {
        "id": "OsY4YPKPzAH3"
      },
      "source": [
        "## TASK 1\n",
        "write an expression that evaluates to 20"
      ]
    },
    {
      "cell_type": "code",
      "metadata": {
        "id": "lXaPBnXGzAH4",
        "colab": {
          "base_uri": "https://localhost:8080/"
        },
        "outputId": "526fec2a-c8ca-4155-c5dc-f0244d1bd35b"
      },
      "source": [
        "#TODO:\n",
        "10+10"
      ],
      "execution_count": null,
      "outputs": [
        {
          "output_type": "execute_result",
          "data": {
            "text/plain": [
              "20"
            ]
          },
          "metadata": {},
          "execution_count": 1
        }
      ]
    },
    {
      "cell_type": "markdown",
      "metadata": {
        "id": "tkfnHGevzAH5"
      },
      "source": [
        "## TASK 2\n",
        "write an expression that evaluates to -45"
      ]
    },
    {
      "cell_type": "code",
      "metadata": {
        "id": "afU3YmQuzAH7",
        "colab": {
          "base_uri": "https://localhost:8080/"
        },
        "outputId": "ae2c831d-f05d-4301-ef13-0fc3b19ac03c"
      },
      "source": [
        "#TODO:\n",
        "0-45"
      ],
      "execution_count": null,
      "outputs": [
        {
          "output_type": "execute_result",
          "data": {
            "text/plain": [
              "-45"
            ]
          },
          "metadata": {},
          "execution_count": 2
        }
      ]
    },
    {
      "cell_type": "markdown",
      "metadata": {
        "id": "8i4iA9kzzAH8"
      },
      "source": [
        "## TASK 3 \n",
        "create a 5 element list and write an expression that evaluates to the length of the list squared"
      ]
    },
    {
      "cell_type": "code",
      "metadata": {
        "id": "Vb1_bxYLzAH9",
        "colab": {
          "base_uri": "https://localhost:8080/"
        },
        "outputId": "4c4746eb-cb89-45be-e136-29c04f4ac2f8"
      },
      "source": [
        "#TODO:\n",
        "var = [1,2,3,4,5]\n",
        "len(var)**2"
      ],
      "execution_count": null,
      "outputs": [
        {
          "output_type": "execute_result",
          "data": {
            "text/plain": [
              "25"
            ]
          },
          "metadata": {},
          "execution_count": 4
        }
      ]
    },
    {
      "cell_type": "markdown",
      "metadata": {
        "id": "V_NiAFfdzAH9"
      },
      "source": [
        "# Statement Exercises"
      ]
    },
    {
      "cell_type": "markdown",
      "metadata": {
        "id": "5oUBcZq0zAH-"
      },
      "source": [
        "## TASK 1\n",
        "Write a simple assignment statement that assigns 10 to var"
      ]
    },
    {
      "cell_type": "code",
      "metadata": {
        "id": "kMu9UDyJzAH-"
      },
      "source": [
        "#TODO:\n",
        "var = 10"
      ],
      "execution_count": null,
      "outputs": []
    },
    {
      "cell_type": "markdown",
      "metadata": {
        "id": "znP8KIfLzAH-"
      },
      "source": [
        "## TASK 2\n",
        "write an expression that evaluates to 200 and assign it to var"
      ]
    },
    {
      "cell_type": "code",
      "metadata": {
        "id": "xIMZxk_EzAH_",
        "colab": {
          "base_uri": "https://localhost:8080/"
        },
        "outputId": "5d477fa9-caf5-4fd6-fc97-95eb75e79929"
      },
      "source": [
        "#TODO:\n",
        "var = 100+100\n",
        "print(var)"
      ],
      "execution_count": null,
      "outputs": [
        {
          "output_type": "stream",
          "name": "stdout",
          "text": [
            "200\n"
          ]
        }
      ]
    },
    {
      "cell_type": "markdown",
      "metadata": {
        "id": "cFmvkXi4zAH_"
      },
      "source": [
        "## TASK 3\n",
        "write a statement that prints out your first and last name separated by semi-colons."
      ]
    },
    {
      "cell_type": "code",
      "metadata": {
        "id": "T9T4nlk1zAIA",
        "colab": {
          "base_uri": "https://localhost:8080/"
        },
        "outputId": "e81f63a3-f233-4fc6-d81e-a288602cda54"
      },
      "source": [
        "#TODO:\n",
        "p = (\"Harper \") + (\";\") + (\" Line\")\n",
        "print (p)"
      ],
      "execution_count": 2,
      "outputs": [
        {
          "output_type": "stream",
          "name": "stdout",
          "text": [
            "Harper ; Line\n"
          ]
        }
      ]
    },
    {
      "cell_type": "markdown",
      "metadata": {
        "id": "FeUYb3pszAIA"
      },
      "source": [
        "# Arithmetic operator exercises"
      ]
    },
    {
      "cell_type": "markdown",
      "metadata": {
        "id": "9UAduEKYzAIA"
      },
      "source": [
        "## TASK 1\n",
        "calculate the product of 6 and 7, then floor divide the result by 3 and assign the value to var. Then print out the result."
      ]
    },
    {
      "cell_type": "code",
      "metadata": {
        "id": "SvjkpL7mzAIB",
        "colab": {
          "base_uri": "https://localhost:8080/"
        },
        "outputId": "fc958181-877a-40b9-cff1-bcc6c79253d3"
      },
      "source": [
        "#TODO:\n",
        "the = 6*7//3\n",
        "print (the)"
      ],
      "execution_count": 5,
      "outputs": [
        {
          "output_type": "stream",
          "name": "stdout",
          "text": [
            "14\n"
          ]
        }
      ]
    },
    {
      "cell_type": "markdown",
      "metadata": {
        "id": "21pwyP1gzAIB"
      },
      "source": [
        "## TASK 2\n",
        "* Calculate 50 divided by 5 and assign the result to `var`.\n",
        "* Then find the remainder of 20 divided by 6 and assign the result to `remainder` \n",
        "* Calculate `var` to the power of `remainder` and print the result"
      ]
    },
    {
      "cell_type": "code",
      "metadata": {
        "id": "jmfmTvH1zAIC",
        "colab": {
          "base_uri": "https://localhost:8080/"
        },
        "outputId": "38002e54-41af-44de-8706-3d906b61c8d5"
      },
      "source": [
        "#TODO:\n",
        "var = 50/5\n",
        "remainder = 20%6\n",
        "gar = var**remainder\n",
        "print (gar)"
      ],
      "execution_count": 6,
      "outputs": [
        {
          "output_type": "stream",
          "name": "stdout",
          "text": [
            "100.0\n"
          ]
        }
      ]
    },
    {
      "cell_type": "markdown",
      "metadata": {
        "id": "YPi17LuYzAIC"
      },
      "source": [
        "## TASK 3\n",
        "This is the formula for the pythagorean therom\n",
        "\n",
        "$a^{2}+b^{2}=c^{2}$\n",
        "\n",
        "using the variables below, solve for $c^{2}$"
      ]
    },
    {
      "cell_type": "code",
      "metadata": {
        "id": "cM4kDz7XzAIC",
        "colab": {
          "base_uri": "https://localhost:8080/"
        },
        "outputId": "f02f7acb-017c-423e-fa5e-b3c4223a35c2"
      },
      "source": [
        "a = 8\n",
        "b = 4\n",
        "#TODO: \n",
        "\n",
        "pytha = a**2 + b**2 \n",
        "print (pytha)"
      ],
      "execution_count": 7,
      "outputs": [
        {
          "output_type": "stream",
          "name": "stdout",
          "text": [
            "80\n"
          ]
        }
      ]
    },
    {
      "cell_type": "markdown",
      "metadata": {
        "id": "i6SXYntpzAID"
      },
      "source": [
        "# Comparison operators exercises"
      ]
    },
    {
      "cell_type": "markdown",
      "metadata": {
        "id": "yk_6DZifzAID"
      },
      "source": [
        "## TASK 1\n",
        "check to see if x is greater than y"
      ]
    },
    {
      "cell_type": "code",
      "metadata": {
        "id": "e5Ku8KI2zAID",
        "colab": {
          "base_uri": "https://localhost:8080/"
        },
        "outputId": "411e03d7-47cf-4dbd-aa95-10414790be8f"
      },
      "source": [
        "x = 10\n",
        "y = 5\n",
        "x > y"
      ],
      "execution_count": 8,
      "outputs": [
        {
          "output_type": "execute_result",
          "data": {
            "text/plain": [
              "True"
            ]
          },
          "metadata": {},
          "execution_count": 8
        }
      ]
    },
    {
      "cell_type": "markdown",
      "metadata": {
        "id": "IW14svt_zAID"
      },
      "source": [
        "## TASK 2\n",
        "check to see if x is less than y"
      ]
    },
    {
      "cell_type": "code",
      "metadata": {
        "id": "PDq1oJ15zAIE",
        "colab": {
          "base_uri": "https://localhost:8080/"
        },
        "outputId": "3c48c16c-e8a9-4117-aca6-274e5fc56de5"
      },
      "source": [
        "x = 10\n",
        "y = 5\n",
        "#TODO:\n",
        "x<y"
      ],
      "execution_count": 9,
      "outputs": [
        {
          "output_type": "execute_result",
          "data": {
            "text/plain": [
              "False"
            ]
          },
          "metadata": {},
          "execution_count": 9
        }
      ]
    },
    {
      "cell_type": "markdown",
      "metadata": {
        "id": "7T7Q1YFdzAIE"
      },
      "source": [
        "## TASK 3\n",
        "check to see if a is equal to b"
      ]
    },
    {
      "cell_type": "code",
      "metadata": {
        "id": "p9skrWHTzAIE",
        "colab": {
          "base_uri": "https://localhost:8080/"
        },
        "outputId": "54ab43f1-7269-4aaf-d015-5f426cd18527"
      },
      "source": [
        "a = (True or False) and (True and True)\n",
        "b = False\n",
        "#TODO:\n",
        "a == b"
      ],
      "execution_count": 10,
      "outputs": [
        {
          "output_type": "execute_result",
          "data": {
            "text/plain": [
              "False"
            ]
          },
          "metadata": {},
          "execution_count": 10
        }
      ]
    },
    {
      "cell_type": "markdown",
      "metadata": {
        "id": "j43RHKI9zAIF"
      },
      "source": [
        "## TASK 4 \n",
        "check to see if a is greater than or equal to b"
      ]
    },
    {
      "cell_type": "code",
      "metadata": {
        "id": "TQGATWvwzAIF",
        "colab": {
          "base_uri": "https://localhost:8080/"
        },
        "outputId": "c274a8e9-0925-4ca2-9c03-d1943dc321bb"
      },
      "source": [
        "a = len([1,2,3,4]) ** 2\n",
        "b = (10//3) * 5\n",
        "#TODO:\n",
        "a>=b"
      ],
      "execution_count": 11,
      "outputs": [
        {
          "output_type": "execute_result",
          "data": {
            "text/plain": [
              "True"
            ]
          },
          "metadata": {},
          "execution_count": 11
        }
      ]
    },
    {
      "cell_type": "markdown",
      "metadata": {
        "id": "xTQRq0cMzAIG"
      },
      "source": [
        "## TASK 5\n",
        "Check to see if a is not equal to b"
      ]
    },
    {
      "cell_type": "code",
      "metadata": {
        "id": "sdxVoTQGzAIG",
        "colab": {
          "base_uri": "https://localhost:8080/"
        },
        "outputId": "0dcfeb6d-c47e-48b5-d844-4ff60a57f8a0"
      },
      "source": [
        "a = \"I am a\"\n",
        "b = \"I am b\"\n",
        "#TODO:\n",
        "a != b"
      ],
      "execution_count": 12,
      "outputs": [
        {
          "output_type": "execute_result",
          "data": {
            "text/plain": [
              "True"
            ]
          },
          "metadata": {},
          "execution_count": 12
        }
      ]
    },
    {
      "cell_type": "markdown",
      "metadata": {
        "id": "a-BS9OW-zAIG"
      },
      "source": [
        "## TASK 6\n",
        "check to see if a is less than or equal to b"
      ]
    },
    {
      "cell_type": "code",
      "metadata": {
        "id": "jrtol5BszAIG",
        "colab": {
          "base_uri": "https://localhost:8080/"
        },
        "outputId": "5fe7cff7-a20c-4f9c-8911-e85e3ec689c4"
      },
      "source": [
        "a = 99\n",
        "b = len([x for x in range(100)]) - 1\n",
        "#TODO:\n",
        "a<=b"
      ],
      "execution_count": 13,
      "outputs": [
        {
          "output_type": "execute_result",
          "data": {
            "text/plain": [
              "True"
            ]
          },
          "metadata": {},
          "execution_count": 13
        }
      ]
    },
    {
      "cell_type": "markdown",
      "metadata": {
        "id": "czcRlDHjzAIH"
      },
      "source": [
        "# Logic exercises"
      ]
    },
    {
      "cell_type": "markdown",
      "metadata": {
        "id": "mW0QXgw9zAIH"
      },
      "source": [
        "## TASK 1\n",
        "Create and evaluate the truth of the following\n",
        "* `a` is True\n",
        "* `b` is False\n",
        "* Is `a` and `b` true?"
      ]
    },
    {
      "cell_type": "code",
      "metadata": {
        "id": "ya9SvFvQzAIH",
        "colab": {
          "base_uri": "https://localhost:8080/"
        },
        "outputId": "96ac009d-386d-4368-e309-e3fea207d1d5"
      },
      "source": [
        "#TODO:\n",
        "m = True\n",
        "x = False \n",
        "m and x "
      ],
      "execution_count": 18,
      "outputs": [
        {
          "output_type": "execute_result",
          "data": {
            "text/plain": [
              "False"
            ]
          },
          "metadata": {},
          "execution_count": 18
        }
      ]
    },
    {
      "cell_type": "markdown",
      "metadata": {
        "id": "LV3RmTzUzAII"
      },
      "source": [
        "## TASK 2\n",
        "* assign the expression 5 is greater than 2, to `a`\n",
        "* assign the expression len([1,2,3,4]) is less than 10, to `b`\n",
        "* What is the result of the expression `a or b is true`"
      ]
    },
    {
      "cell_type": "code",
      "metadata": {
        "id": "IKgSEVHCzAII",
        "colab": {
          "base_uri": "https://localhost:8080/"
        },
        "outputId": "0176197d-b7a8-40d5-bd0e-9b597d0f303d"
      },
      "source": [
        "#TODO:\n",
        "a = 5>2\n",
        "b = len([1,2,3,4])>10\n",
        "a or b"
      ],
      "execution_count": 19,
      "outputs": [
        {
          "output_type": "execute_result",
          "data": {
            "text/plain": [
              "True"
            ]
          },
          "metadata": {},
          "execution_count": 19
        }
      ]
    },
    {
      "cell_type": "markdown",
      "metadata": {
        "id": "rFpS2G14zAII"
      },
      "source": [
        "## TASK 3 \n",
        "what are the values for `a`, `b`, `x`, and `y` if the expression `(a and b) and not (x or y)` is true?\n",
        "\n",
        "***There may be more than one solution***"
      ]
    },
    {
      "cell_type": "code",
      "metadata": {
        "id": "mvO4dQI-zAII",
        "colab": {
          "base_uri": "https://localhost:8080/"
        },
        "outputId": "e1929880-3d04-43b9-8558-1d9d1aa1d7f2"
      },
      "source": [
        "a = True\n",
        "b = True\n",
        "x = False\n",
        "y = False\n",
        "(a and b) and not (x or y)\n"
      ],
      "execution_count": 21,
      "outputs": [
        {
          "output_type": "execute_result",
          "data": {
            "text/plain": [
              "True"
            ]
          },
          "metadata": {},
          "execution_count": 21
        }
      ]
    },
    {
      "cell_type": "markdown",
      "metadata": {
        "id": "fTGLuJUszAIJ"
      },
      "source": [
        "## TASK 4\n",
        "What are the values for `x` and `y` if the expression    `not((x and not y) or (not x and not y))` evaluates to false.\n",
        "\n",
        "***There may be more than one solution***"
      ]
    },
    {
      "cell_type": "code",
      "metadata": {
        "id": "lEkhhwk_zAIJ",
        "colab": {
          "base_uri": "https://localhost:8080/"
        },
        "outputId": "d24c33e3-79cb-486d-e326-c704cc369933"
      },
      "source": [
        "x = True \n",
        "y = False\n",
        "not((x and not y) or (not x and not y))"
      ],
      "execution_count": 26,
      "outputs": [
        {
          "output_type": "execute_result",
          "data": {
            "text/plain": [
              "False"
            ]
          },
          "metadata": {},
          "execution_count": 26
        }
      ]
    },
    {
      "cell_type": "markdown",
      "metadata": {
        "id": "FBTtWcAMzAIJ"
      },
      "source": [
        "# Membership exercises"
      ]
    },
    {
      "cell_type": "markdown",
      "metadata": {
        "id": "dlknuGcIzAIK"
      },
      "source": [
        "## TASK 1\n",
        "Check to see if 'burn' is present in the string and print the result"
      ]
    },
    {
      "cell_type": "code",
      "metadata": {
        "id": "LYEa6yVezAIK",
        "colab": {
          "base_uri": "https://localhost:8080/"
        },
        "outputId": "59221ffd-1eaa-4c1e-e25e-ee43402d2d31"
      },
      "source": [
        "string = \"Wasburn\"\n",
        "\"burn\" in string"
      ],
      "execution_count": 27,
      "outputs": [
        {
          "output_type": "execute_result",
          "data": {
            "text/plain": [
              "True"
            ]
          },
          "metadata": {},
          "execution_count": 27
        }
      ]
    },
    {
      "cell_type": "markdown",
      "metadata": {
        "id": "A8jLyxvvzAIK"
      },
      "source": [
        "## TASK 2\n",
        "check to see if 'Grandma' is present in the tuple and print the result"
      ]
    },
    {
      "cell_type": "code",
      "metadata": {
        "id": "IVmt6cFVzAIK",
        "colab": {
          "base_uri": "https://localhost:8080/"
        },
        "outputId": "b8452f96-4b4d-4030-bdd1-538db79f6115"
      },
      "source": [
        "tpl = (\"Mom\", \"Dad\", \"Brother\", \"Brother\", \"Sister\", \"Pet\")\n",
        "\"grandma\" in tpl\n"
      ],
      "execution_count": 28,
      "outputs": [
        {
          "output_type": "execute_result",
          "data": {
            "text/plain": [
              "False"
            ]
          },
          "metadata": {},
          "execution_count": 28
        }
      ]
    },
    {
      "cell_type": "markdown",
      "metadata": {
        "id": "leCixqKizAIK"
      },
      "source": [
        "## TASK 3\n",
        "Is 10 squared present in the list?"
      ]
    },
    {
      "cell_type": "code",
      "metadata": {
        "id": "DupjEr4XzAIL",
        "colab": {
          "base_uri": "https://localhost:8080/"
        },
        "outputId": "a7797609-75f3-45e9-f1d8-252dbde88263"
      },
      "source": [
        "lst = [100 - 10, 99 + 6, 100 ** .5, 'Bruh']\n",
        "10**2 in lst"
      ],
      "execution_count": 29,
      "outputs": [
        {
          "output_type": "execute_result",
          "data": {
            "text/plain": [
              "False"
            ]
          },
          "metadata": {},
          "execution_count": 29
        }
      ]
    },
    {
      "cell_type": "markdown",
      "metadata": {
        "id": "icNAmpgyzAIL"
      },
      "source": [
        "## TASK 4\n",
        "Is the key 'awareness' not in the dictionary?"
      ]
    },
    {
      "cell_type": "code",
      "metadata": {
        "id": "66fA3bAlzAIL",
        "colab": {
          "base_uri": "https://localhost:8080/"
        },
        "outputId": "aa205a31-704d-4a7d-bdb9-e874deb41eb9"
      },
      "source": [
        "dct = {'mind':\"Thinking\",\n",
        "       'body':\"Feeling\",\n",
        "       'world':\"Acting\"}\n",
        "\"awareness\" in dct"
      ],
      "execution_count": 30,
      "outputs": [
        {
          "output_type": "execute_result",
          "data": {
            "text/plain": [
              "False"
            ]
          },
          "metadata": {},
          "execution_count": 30
        }
      ]
    },
    {
      "cell_type": "markdown",
      "metadata": {
        "id": "puZokJIUzAIL"
      },
      "source": [
        "# Identity exercises"
      ]
    },
    {
      "cell_type": "markdown",
      "metadata": {
        "id": "686MA_aEzAIM"
      },
      "source": [
        "## TASK 1\n",
        "are the two variables identical?"
      ]
    },
    {
      "cell_type": "code",
      "metadata": {
        "id": "nbZsF995zAIM",
        "colab": {
          "base_uri": "https://localhost:8080/"
        },
        "outputId": "251032d6-5c69-45ec-c23e-b222c43d921c"
      },
      "source": [
        "var = 44\n",
        "var2 = 50 - 6\n",
        "var == var2"
      ],
      "execution_count": 31,
      "outputs": [
        {
          "output_type": "execute_result",
          "data": {
            "text/plain": [
              "True"
            ]
          },
          "metadata": {},
          "execution_count": 31
        }
      ]
    },
    {
      "cell_type": "markdown",
      "metadata": {
        "id": "DoLESjpWzAIM"
      },
      "source": [
        "## TASK 2\n",
        "are the two variables identical"
      ]
    },
    {
      "cell_type": "code",
      "metadata": {
        "id": "-23OpPsGzAIM",
        "colab": {
          "base_uri": "https://localhost:8080/"
        },
        "outputId": "2ab20969-ebb2-41f0-f72d-b9224189a1a5"
      },
      "source": [
        "var = len([1,2,3,4,5])\n",
        "var2 = len([54,23,54,12,69])\n",
        "var == var2"
      ],
      "execution_count": 32,
      "outputs": [
        {
          "output_type": "execute_result",
          "data": {
            "text/plain": [
              "True"
            ]
          },
          "metadata": {},
          "execution_count": 32
        }
      ]
    },
    {
      "cell_type": "markdown",
      "metadata": {
        "id": "BaaUzb6fzAIM"
      },
      "source": [
        "## TASK 3\n",
        "Are the two variables identical?"
      ]
    },
    {
      "cell_type": "code",
      "metadata": {
        "id": "6rybkE1AzAIN",
        "colab": {
          "base_uri": "https://localhost:8080/"
        },
        "outputId": "1588d7b4-9dc9-45f8-d58a-9af835d48f51"
      },
      "source": [
        "var = [10, 12, 14, 16]\n",
        "var2 = [10, 12, 14, 16]\n",
        "var == var2"
      ],
      "execution_count": 36,
      "outputs": [
        {
          "output_type": "execute_result",
          "data": {
            "text/plain": [
              "True"
            ]
          },
          "metadata": {},
          "execution_count": 36
        }
      ]
    },
    {
      "cell_type": "markdown",
      "metadata": {
        "id": "9lbCyT5hzAIN"
      },
      "source": [
        "## TASK 4\n",
        "Are the two variables identical?"
      ]
    },
    {
      "cell_type": "code",
      "metadata": {
        "id": "lAYl1M9PzAIN",
        "colab": {
          "base_uri": "https://localhost:8080/"
        },
        "outputId": "ec78eb98-3788-4bb6-e16c-6a397093fb18"
      },
      "source": [
        "var = {1: 111, 2:222, 3:333}\n",
        "var2 = var\n",
        "var == var2"
      ],
      "execution_count": 34,
      "outputs": [
        {
          "output_type": "execute_result",
          "data": {
            "text/plain": [
              "True"
            ]
          },
          "metadata": {},
          "execution_count": 34
        }
      ]
    },
    {
      "cell_type": "markdown",
      "metadata": {
        "id": "zsuFeUyszAIN"
      },
      "source": [
        "## TASK 5 \n",
        "are the two variables not identical?"
      ]
    },
    {
      "cell_type": "code",
      "metadata": {
        "id": "-UxblOtyzAIN",
        "colab": {
          "base_uri": "https://localhost:8080/"
        },
        "outputId": "54ac3462-c3dc-4960-cf7b-51c0d76f6f64"
      },
      "source": [
        "var = 'Hello'\n",
        "var2 = 'hello'\n",
        "var == var2"
      ],
      "execution_count": 35,
      "outputs": [
        {
          "output_type": "execute_result",
          "data": {
            "text/plain": [
              "False"
            ]
          },
          "metadata": {},
          "execution_count": 35
        }
      ]
    }
  ]
}